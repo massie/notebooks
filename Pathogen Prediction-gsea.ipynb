{
 "cells": [
  {
   "cell_type": "markdown",
   "metadata": {},
   "source": [
    "# Predicting Pathogen from RNAseq data"
   ]
  },
  {
   "cell_type": "code",
   "execution_count": 1,
   "metadata": {
    "collapsed": false
   },
   "outputs": [],
   "source": [
    "from math import pow\n",
    "import pandas as pd\n",
    "import numpy as np\n",
    "from sklearn.metrics import confusion_matrix, accuracy_score, classification_report\n",
    "from sklearn.model_selection import train_test_split, ShuffleSplit, cross_val_score, GridSearchCV\n",
    "from sklearn.svm import LinearSVC\n",
    "from sklearn.feature_selection import RFE, SelectFromModel\n",
    "from sklearn.pipeline import Pipeline\n",
    "\n",
    "random_state = 0xDEADCAFE\n",
    "use_gsea_genes = True\n",
    "rfe_step = 0.02"
   ]
  },
  {
   "cell_type": "code",
   "execution_count": 2,
   "metadata": {
    "collapsed": false
   },
   "outputs": [],
   "source": [
    "if use_gsea_genes:\n",
    "    with open(\"geneSet.txt\") as gsfile:\n",
    "        gsea_genes = list(gsfile.read().splitlines())[1:]\n",
    "    rfe_step = 1"
   ]
  },
  {
   "cell_type": "code",
   "execution_count": 3,
   "metadata": {
    "collapsed": false
   },
   "outputs": [
    {
     "name": "stdout",
     "output_type": "stream",
     "text": [
      "Complete data set has 142 samples and 582 features.\n",
      "Training set has 99 samples. Testing set has 43 samples.\n"
     ]
    }
   ],
   "source": [
    "patient_groups=[\"control\", \"viral\", \"bacterial\", \"fungal\"]\n",
    "group_id = lambda name: patient_groups.index(name)\n",
    "\n",
    "X = pd.DataFrame.from_csv(\"combineSV_WTcpmtable_v2.txt\", sep=\"\\s+\").T\n",
    "y = [group_id(\"bacterial\")] * 29 \\\n",
    "    + [group_id(\"viral\")] * 42 \\\n",
    "    + [group_id(\"fungal\")] * 10 \\\n",
    "    + [group_id(\"control\")] * 61\n",
    "\n",
    "if use_gsea_genes:\n",
    "    X = X.filter(gsea_genes, axis=1)\n",
    "\n",
    "print \"Complete data set has %d samples and %d features.\" % (X.shape[0], X.shape[1])\n",
    "X_train, X_test, y_train, y_test = train_test_split(X, y, test_size=0.3, random_state=random_state)\n",
    "print \"Training set has %d samples. Testing set has %d samples.\" % (len(X_train), len(X_test))"
   ]
  },
  {
   "cell_type": "code",
   "execution_count": 4,
   "metadata": {
    "collapsed": false
   },
   "outputs": [
    {
     "name": "stdout",
     "output_type": "stream",
     "text": [
      "Fitting 2 folds for each of 29 candidates, totalling 58 fits\n"
     ]
    },
    {
     "name": "stderr",
     "output_type": "stream",
     "text": [
      "[Parallel(n_jobs=8)]: Done  34 tasks      | elapsed:  2.2min\n",
      "[Parallel(n_jobs=8)]: Done  58 out of  58 | elapsed:  3.6min finished\n"
     ]
    },
    {
     "name": "stdout",
     "output_type": "stream",
     "text": [
      "Best: 0.484848 using {'estimator__C': 2.384185791015625e-07}\n",
      "0.434343 (0.023274) with: {'estimator__C': 2.9802322387695312e-08}\n",
      "0.474747 (0.044710) with: {'estimator__C': 5.960464477539063e-08}\n",
      "0.444444 (0.013474) with: {'estimator__C': 1.1920928955078125e-07}\n",
      "0.484848 (0.014699) with: {'estimator__C': 2.384185791015625e-07}\n",
      "0.484848 (0.034910) with: {'estimator__C': 4.76837158203125e-07}\n",
      "0.464646 (0.006125) with: {'estimator__C': 9.5367431640625e-07}\n",
      "0.424242 (0.007350) with: {'estimator__C': 1.9073486328125e-06}\n",
      "0.404040 (0.012249) with: {'estimator__C': 3.814697265625e-06}\n",
      "0.393939 (0.038585) with: {'estimator__C': 7.62939453125e-06}\n",
      "0.434343 (0.037360) with: {'estimator__C': 1.52587890625e-05}\n",
      "0.444444 (0.033686) with: {'estimator__C': 3.0517578125e-05}\n",
      "0.464646 (0.034298) with: {'estimator__C': 6.103515625e-05}\n",
      "0.424242 (0.007350) with: {'estimator__C': 0.0001220703125}\n",
      "0.444444 (0.033686) with: {'estimator__C': 0.000244140625}\n",
      "0.363636 (0.049610) with: {'estimator__C': 0.00048828125}\n",
      "0.363636 (0.029398) with: {'estimator__C': 0.0009765625}\n",
      "0.363636 (0.009187) with: {'estimator__C': 0.001953125}\n",
      "0.404040 (0.048385) with: {'estimator__C': 0.00390625}\n",
      "0.424242 (0.007350) with: {'estimator__C': 0.0078125}\n",
      "0.313131 (0.161078) with: {'estimator__C': 0.015625}\n",
      "0.383838 (0.011637) with: {'estimator__C': 0.03125}\n",
      "0.424242 (0.027561) with: {'estimator__C': 0.0625}\n",
      "0.414141 (0.037973) with: {'estimator__C': 0.125}\n",
      "0.353535 (0.019599) with: {'estimator__C': 0.25}\n",
      "0.323232 (0.070433) with: {'estimator__C': 0.5}\n",
      "0.363636 (0.071658) with: {'estimator__C': 1.0}\n",
      "0.373737 (0.018986) with: {'estimator__C': 2.0}\n",
      "0.434343 (0.023274) with: {'estimator__C': 4.0}\n",
      "0.424242 (0.012862) with: {'estimator__C': 8.0}\n"
     ]
    }
   ],
   "source": [
    "import matplotlib.pyplot as plt\n",
    "from sklearn.svm import SVC\n",
    "from sklearn.linear_model import LogisticRegression\n",
    "from sklearn.model_selection import StratifiedKFold\n",
    "from sklearn.feature_selection import RFECV\n",
    "from sklearn.datasets import make_classification\n",
    "from sklearn.linear_model import RandomizedLogisticRegression\n",
    "\n",
    "parameters={'estimator__C': [pow(2, i) for i in xrange(-25, 4, 1)]}\n",
    "svc = LinearSVC(class_weight='balanced')\n",
    "rfe = RFECV(estimator=svc, step=rfe_step, cv=2, scoring='accuracy', n_jobs=1)\n",
    "clf = GridSearchCV(rfe, parameters, scoring='accuracy', n_jobs=8, cv=2, verbose=1)\n",
    "clf.fit(X_train, y_train)\n",
    "\n",
    "# summarize results\n",
    "print(\"Best: %f using %s\" % (clf.best_score_, clf.best_params_))\n",
    "means = clf.cv_results_['mean_test_score']\n",
    "stds = clf.cv_results_['std_test_score']\n",
    "params = clf.cv_results_['params']\n",
    "for mean, stdev, param in zip(means, stds, params):\n",
    "    print(\"%f (%f) with: %r\" % (mean, stdev, param))"
   ]
  },
  {
   "cell_type": "code",
   "execution_count": 5,
   "metadata": {
    "collapsed": false
   },
   "outputs": [
    {
     "name": "stdout",
     "output_type": "stream",
     "text": [
      "Optimal number of features : 248\n",
      "Recursive Feature Elimination (RFE) eliminated 334 features\n"
     ]
    },
    {
     "data": {
      "image/png": "[encoded data removed]",
      "text/plain": [
       "<matplotlib.figure.Figure at 0x110461850>"
      ]
     },
     "metadata": {},
     "output_type": "display_data"
    }
   ],
   "source": [
    "best_estimator = clf.best_estimator_\n",
    "\n",
    "print(\"Optimal number of features : %d\" % best_estimator.n_features_)\n",
    "print(\"Recursive Feature Elimination (RFE) eliminated %d features\" % (X.shape[1] - best_estimator.n_features_))\n",
    "\n",
    "# Plot number of features VS. cross-validation scores\n",
    "plt.figure()\n",
    "plt.xlabel(\"Number of feature subsets selected\")\n",
    "plt.ylabel(\"Cross validation score\")\n",
    "plt.plot(range(1, len(best_estimator.grid_scores_) + 1), best_estimator.grid_scores_)\n",
    "plt.show()"
   ]
  },
  {
   "cell_type": "code",
   "execution_count": 6,
   "metadata": {
    "collapsed": false,
    "scrolled": false
   },
   "outputs": [
    {
     "name": "stdout",
     "output_type": "stream",
     "text": [
      "None\n"
     ]
    },
    {
     "data": {
      "image/png": "[encoded data removed]",
      "text/plain": [
       "<matplotlib.figure.Figure at 0x1060c3dd0>"
      ]
     },
     "metadata": {},
     "output_type": "display_data"
    },
    {
     "data": {
      "image/png": "[encoded data removed]",
      "text/plain": [
       "<matplotlib.figure.Figure at 0x1117686d0>"
      ]
     },
     "metadata": {},
     "output_type": "display_data"
    }
   ],
   "source": [
    "%matplotlib inline\n",
    "from learning_curves import plot_learning_curve\n",
    "import matplotlib.pyplot as plt\n",
    "\n",
    "def create_learning_curve(title, model):\n",
    "    cv = ShuffleSplit(n_splits=2, test_size=0.3, random_state=random_state)\n",
    "    plot_learning_curve(model, title, X, y, (0.2, 1.01), cv=cv, n_jobs=1)\n",
    "    \n",
    "create_learning_curve(\"Learning Curves Full Feature Set\", svc)\n",
    "create_learning_curve(\"Learning Curves Limited Feature Set\", best_estimator.estimator_)\n",
    "\n",
    "plt.show()"
   ]
  },
  {
   "cell_type": "markdown",
   "metadata": {},
   "source": [
    "## Make predictions based on the model"
   ]
  },
  {
   "cell_type": "code",
   "execution_count": 7,
   "metadata": {
    "collapsed": false
   },
   "outputs": [
    {
     "name": "stdout",
     "output_type": "stream",
     "text": [
      "Accuracy was 55.81%\n",
      "\n",
      "             precision    recall  f1-score   support\n",
      "\n",
      "    control       0.50      0.61      0.55        18\n",
      "      viral       0.83      0.31      0.45        16\n",
      "  bacterial       0.64      0.88      0.74         8\n",
      "     fungal       0.25      1.00      0.40         1\n",
      "\n",
      "avg / total       0.64      0.56      0.55        43\n",
      "\n",
      "Confusion Matrix: cols = predictions, rows = actual\n",
      "\n",
      "                       control          viral      bacterial         fungal\n",
      "        control             11              1              3              3\n",
      "          viral             10              5              1              0\n",
      "      bacterial              1              0              7              0\n",
      "         fungal              0              0              0              1\n"
     ]
    }
   ],
   "source": [
    "from classification_metrics import classification_metrics\n",
    "\n",
    "# make predictions\n",
    "predicted = best_estimator.predict(X_test)\n",
    "\n",
    "classification_metrics(y_test, predicted, patient_groups)"
   ]
  },
  {
   "cell_type": "markdown",
   "metadata": {},
   "source": [
    "## Review model predictions"
   ]
  },
  {
   "cell_type": "code",
   "execution_count": 8,
   "metadata": {
    "collapsed": false
   },
   "outputs": [
    {
     "data": {
      "text/html": [
       "<div>\n",
       "<table border=\"1\" class=\"dataframe\">\n",
       "  <thead>\n",
       "    <tr style=\"text-align: right;\">\n",
       "      <th></th>\n",
       "      <th>Actual</th>\n",
       "      <th>Predicted</th>\n",
       "    </tr>\n",
       "  </thead>\n",
       "  <tbody>\n",
       "    <tr>\n",
       "      <th>MNC.473</th>\n",
       "      <td>bacterial</td>\n",
       "      <td>bacterial</td>\n",
       "    </tr>\n",
       "    <tr>\n",
       "      <th>MN_223</th>\n",
       "      <td>bacterial</td>\n",
       "      <td>bacterial</td>\n",
       "    </tr>\n",
       "    <tr>\n",
       "      <th>MN_208</th>\n",
       "      <td>bacterial</td>\n",
       "      <td>bacterial</td>\n",
       "    </tr>\n",
       "    <tr>\n",
       "      <th>MNC.557</th>\n",
       "      <td>bacterial</td>\n",
       "      <td>bacterial</td>\n",
       "    </tr>\n",
       "    <tr>\n",
       "      <th>MN_363</th>\n",
       "      <td>bacterial</td>\n",
       "      <td>bacterial</td>\n",
       "    </tr>\n",
       "    <tr>\n",
       "      <th>MN_304</th>\n",
       "      <td>bacterial</td>\n",
       "      <td>bacterial</td>\n",
       "    </tr>\n",
       "    <tr>\n",
       "      <th>MNC.214</th>\n",
       "      <td>bacterial</td>\n",
       "      <td>bacterial</td>\n",
       "    </tr>\n",
       "    <tr>\n",
       "      <th>MN_307</th>\n",
       "      <td>bacterial</td>\n",
       "      <td>control</td>\n",
       "    </tr>\n",
       "    <tr>\n",
       "      <th>MNC.611</th>\n",
       "      <td>control</td>\n",
       "      <td>control</td>\n",
       "    </tr>\n",
       "    <tr>\n",
       "      <th>MN_366</th>\n",
       "      <td>control</td>\n",
       "      <td>control</td>\n",
       "    </tr>\n",
       "    <tr>\n",
       "      <th>MNC.633</th>\n",
       "      <td>control</td>\n",
       "      <td>control</td>\n",
       "    </tr>\n",
       "    <tr>\n",
       "      <th>MNC.151</th>\n",
       "      <td>control</td>\n",
       "      <td>control</td>\n",
       "    </tr>\n",
       "    <tr>\n",
       "      <th>MNC.595</th>\n",
       "      <td>control</td>\n",
       "      <td>fungal</td>\n",
       "    </tr>\n",
       "    <tr>\n",
       "      <th>MNC.571</th>\n",
       "      <td>control</td>\n",
       "      <td>control</td>\n",
       "    </tr>\n",
       "    <tr>\n",
       "      <th>MNC.452.y</th>\n",
       "      <td>control</td>\n",
       "      <td>bacterial</td>\n",
       "    </tr>\n",
       "    <tr>\n",
       "      <th>MNC.294</th>\n",
       "      <td>control</td>\n",
       "      <td>fungal</td>\n",
       "    </tr>\n",
       "    <tr>\n",
       "      <th>MNC.172</th>\n",
       "      <td>control</td>\n",
       "      <td>control</td>\n",
       "    </tr>\n",
       "    <tr>\n",
       "      <th>MNC.612</th>\n",
       "      <td>control</td>\n",
       "      <td>viral</td>\n",
       "    </tr>\n",
       "    <tr>\n",
       "      <th>MNC.392</th>\n",
       "      <td>control</td>\n",
       "      <td>bacterial</td>\n",
       "    </tr>\n",
       "    <tr>\n",
       "      <th>MNC.631</th>\n",
       "      <td>control</td>\n",
       "      <td>bacterial</td>\n",
       "    </tr>\n",
       "    <tr>\n",
       "      <th>MNC.173</th>\n",
       "      <td>control</td>\n",
       "      <td>control</td>\n",
       "    </tr>\n",
       "    <tr>\n",
       "      <th>MNC.676</th>\n",
       "      <td>control</td>\n",
       "      <td>control</td>\n",
       "    </tr>\n",
       "    <tr>\n",
       "      <th>MNC.213</th>\n",
       "      <td>control</td>\n",
       "      <td>fungal</td>\n",
       "    </tr>\n",
       "    <tr>\n",
       "      <th>MNC.533</th>\n",
       "      <td>control</td>\n",
       "      <td>control</td>\n",
       "    </tr>\n",
       "    <tr>\n",
       "      <th>MNC.354</th>\n",
       "      <td>control</td>\n",
       "      <td>control</td>\n",
       "    </tr>\n",
       "    <tr>\n",
       "      <th>MNC.675</th>\n",
       "      <td>control</td>\n",
       "      <td>control</td>\n",
       "    </tr>\n",
       "    <tr>\n",
       "      <th>MN_323</th>\n",
       "      <td>fungal</td>\n",
       "      <td>fungal</td>\n",
       "    </tr>\n",
       "    <tr>\n",
       "      <th>MN_382</th>\n",
       "      <td>viral</td>\n",
       "      <td>control</td>\n",
       "    </tr>\n",
       "    <tr>\n",
       "      <th>MNC.033</th>\n",
       "      <td>viral</td>\n",
       "      <td>control</td>\n",
       "    </tr>\n",
       "    <tr>\n",
       "      <th>MN_207</th>\n",
       "      <td>viral</td>\n",
       "      <td>control</td>\n",
       "    </tr>\n",
       "    <tr>\n",
       "      <th>MNC.091</th>\n",
       "      <td>viral</td>\n",
       "      <td>viral</td>\n",
       "    </tr>\n",
       "    <tr>\n",
       "      <th>MN_097.y</th>\n",
       "      <td>viral</td>\n",
       "      <td>control</td>\n",
       "    </tr>\n",
       "    <tr>\n",
       "      <th>MNC.215</th>\n",
       "      <td>viral</td>\n",
       "      <td>control</td>\n",
       "    </tr>\n",
       "    <tr>\n",
       "      <th>MNC.474</th>\n",
       "      <td>viral</td>\n",
       "      <td>viral</td>\n",
       "    </tr>\n",
       "    <tr>\n",
       "      <th>MNC.012.y</th>\n",
       "      <td>viral</td>\n",
       "      <td>control</td>\n",
       "    </tr>\n",
       "    <tr>\n",
       "      <th>MN_100</th>\n",
       "      <td>viral</td>\n",
       "      <td>control</td>\n",
       "    </tr>\n",
       "    <tr>\n",
       "      <th>MNC.534</th>\n",
       "      <td>viral</td>\n",
       "      <td>control</td>\n",
       "    </tr>\n",
       "    <tr>\n",
       "      <th>MNC.674</th>\n",
       "      <td>viral</td>\n",
       "      <td>control</td>\n",
       "    </tr>\n",
       "    <tr>\n",
       "      <th>MN_282</th>\n",
       "      <td>viral</td>\n",
       "      <td>bacterial</td>\n",
       "    </tr>\n",
       "    <tr>\n",
       "      <th>MN_171</th>\n",
       "      <td>viral</td>\n",
       "      <td>viral</td>\n",
       "    </tr>\n",
       "    <tr>\n",
       "      <th>MN_284</th>\n",
       "      <td>viral</td>\n",
       "      <td>control</td>\n",
       "    </tr>\n",
       "    <tr>\n",
       "      <th>MNC.155</th>\n",
       "      <td>viral</td>\n",
       "      <td>viral</td>\n",
       "    </tr>\n",
       "    <tr>\n",
       "      <th>MNC.014</th>\n",
       "      <td>viral</td>\n",
       "      <td>viral</td>\n",
       "    </tr>\n",
       "  </tbody>\n",
       "</table>\n",
       "</div>"
      ],
      "text/plain": [
       "              Actual  Predicted\n",
       "MNC.473    bacterial  bacterial\n",
       "MN_223     bacterial  bacterial\n",
       "MN_208     bacterial  bacterial\n",
       "MNC.557    bacterial  bacterial\n",
       "MN_363     bacterial  bacterial\n",
       "MN_304     bacterial  bacterial\n",
       "MNC.214    bacterial  bacterial\n",
       "MN_307     bacterial    control\n",
       "MNC.611      control    control\n",
       "MN_366       control    control\n",
       "MNC.633      control    control\n",
       "MNC.151      control    control\n",
       "MNC.595      control     fungal\n",
       "MNC.571      control    control\n",
       "MNC.452.y    control  bacterial\n",
       "MNC.294      control     fungal\n",
       "MNC.172      control    control\n",
       "MNC.612      control      viral\n",
       "MNC.392      control  bacterial\n",
       "MNC.631      control  bacterial\n",
       "MNC.173      control    control\n",
       "MNC.676      control    control\n",
       "MNC.213      control     fungal\n",
       "MNC.533      control    control\n",
       "MNC.354      control    control\n",
       "MNC.675      control    control\n",
       "MN_323        fungal     fungal\n",
       "MN_382         viral    control\n",
       "MNC.033        viral    control\n",
       "MN_207         viral    control\n",
       "MNC.091        viral      viral\n",
       "MN_097.y       viral    control\n",
       "MNC.215        viral    control\n",
       "MNC.474        viral      viral\n",
       "MNC.012.y      viral    control\n",
       "MN_100         viral    control\n",
       "MNC.534        viral    control\n",
       "MNC.674        viral    control\n",
       "MN_282         viral  bacterial\n",
       "MN_171         viral      viral\n",
       "MN_284         viral    control\n",
       "MNC.155        viral      viral\n",
       "MNC.014        viral      viral"
      ]
     },
     "execution_count": 8,
     "metadata": {},
     "output_type": "execute_result"
    }
   ],
   "source": [
    "probs = np.array(best_estimator.predict(X_test))\n",
    "\n",
    "d = {\"Predicted\": [patient_groups[i] for i in best_estimator.predict(X_test)],\n",
    "     \"Actual\": [patient_groups[i] for i in y_test]}\n",
    "\n",
    "patient_df = pd.DataFrame(d, index=X_test.index)\n",
    "patient_df.sort_values(by=\"Actual\")"
   ]
  },
  {
   "cell_type": "markdown",
   "metadata": {},
   "source": [
    "## Review patients the model misclassified"
   ]
  },
  {
   "cell_type": "code",
   "execution_count": 9,
   "metadata": {
    "collapsed": false
   },
   "outputs": [
    {
     "data": {
      "text/html": [
       "<div>\n",
       "<table border=\"1\" class=\"dataframe\">\n",
       "  <thead>\n",
       "    <tr style=\"text-align: right;\">\n",
       "      <th></th>\n",
       "      <th>Actual</th>\n",
       "      <th>Predicted</th>\n",
       "    </tr>\n",
       "  </thead>\n",
       "  <tbody>\n",
       "    <tr>\n",
       "      <th>MN_097.y</th>\n",
       "      <td>viral</td>\n",
       "      <td>control</td>\n",
       "    </tr>\n",
       "    <tr>\n",
       "      <th>MN_284</th>\n",
       "      <td>viral</td>\n",
       "      <td>control</td>\n",
       "    </tr>\n",
       "    <tr>\n",
       "      <th>MN_282</th>\n",
       "      <td>viral</td>\n",
       "      <td>bacterial</td>\n",
       "    </tr>\n",
       "    <tr>\n",
       "      <th>MNC.674</th>\n",
       "      <td>viral</td>\n",
       "      <td>control</td>\n",
       "    </tr>\n",
       "    <tr>\n",
       "      <th>MNC.534</th>\n",
       "      <td>viral</td>\n",
       "      <td>control</td>\n",
       "    </tr>\n",
       "    <tr>\n",
       "      <th>MNC.631</th>\n",
       "      <td>control</td>\n",
       "      <td>bacterial</td>\n",
       "    </tr>\n",
       "    <tr>\n",
       "      <th>MNC.392</th>\n",
       "      <td>control</td>\n",
       "      <td>bacterial</td>\n",
       "    </tr>\n",
       "    <tr>\n",
       "      <th>MNC.612</th>\n",
       "      <td>control</td>\n",
       "      <td>viral</td>\n",
       "    </tr>\n",
       "    <tr>\n",
       "      <th>MN_307</th>\n",
       "      <td>bacterial</td>\n",
       "      <td>control</td>\n",
       "    </tr>\n",
       "    <tr>\n",
       "      <th>MN_100</th>\n",
       "      <td>viral</td>\n",
       "      <td>control</td>\n",
       "    </tr>\n",
       "    <tr>\n",
       "      <th>MNC.595</th>\n",
       "      <td>control</td>\n",
       "      <td>fungal</td>\n",
       "    </tr>\n",
       "    <tr>\n",
       "      <th>MNC.012.y</th>\n",
       "      <td>viral</td>\n",
       "      <td>control</td>\n",
       "    </tr>\n",
       "    <tr>\n",
       "      <th>MNC.215</th>\n",
       "      <td>viral</td>\n",
       "      <td>control</td>\n",
       "    </tr>\n",
       "    <tr>\n",
       "      <th>MN_207</th>\n",
       "      <td>viral</td>\n",
       "      <td>control</td>\n",
       "    </tr>\n",
       "    <tr>\n",
       "      <th>MNC.452.y</th>\n",
       "      <td>control</td>\n",
       "      <td>bacterial</td>\n",
       "    </tr>\n",
       "    <tr>\n",
       "      <th>MNC.294</th>\n",
       "      <td>control</td>\n",
       "      <td>fungal</td>\n",
       "    </tr>\n",
       "    <tr>\n",
       "      <th>MN_382</th>\n",
       "      <td>viral</td>\n",
       "      <td>control</td>\n",
       "    </tr>\n",
       "    <tr>\n",
       "      <th>MNC.213</th>\n",
       "      <td>control</td>\n",
       "      <td>fungal</td>\n",
       "    </tr>\n",
       "    <tr>\n",
       "      <th>MNC.033</th>\n",
       "      <td>viral</td>\n",
       "      <td>control</td>\n",
       "    </tr>\n",
       "  </tbody>\n",
       "</table>\n",
       "</div>"
      ],
      "text/plain": [
       "              Actual  Predicted\n",
       "MN_097.y       viral    control\n",
       "MN_284         viral    control\n",
       "MN_282         viral  bacterial\n",
       "MNC.674        viral    control\n",
       "MNC.534        viral    control\n",
       "MNC.631      control  bacterial\n",
       "MNC.392      control  bacterial\n",
       "MNC.612      control      viral\n",
       "MN_307     bacterial    control\n",
       "MN_100         viral    control\n",
       "MNC.595      control     fungal\n",
       "MNC.012.y      viral    control\n",
       "MNC.215        viral    control\n",
       "MN_207         viral    control\n",
       "MNC.452.y    control  bacterial\n",
       "MNC.294      control     fungal\n",
       "MN_382         viral    control\n",
       "MNC.213      control     fungal\n",
       "MNC.033        viral    control"
      ]
     },
     "execution_count": 9,
     "metadata": {},
     "output_type": "execute_result"
    }
   ],
   "source": [
    "patient_df[patient_df[\"Predicted\"] != patient_df[\"Actual\"]]"
   ]
  }
 ],
 "metadata": {
  "anaconda-cloud": {},
  "kernelspec": {
   "display_name": "Python [conda root]",
   "language": "python",
   "name": "conda-root-py"
  },
  "language_info": {
   "codemirror_mode": {
    "name": "ipython",
    "version": 2
   },
   "file_extension": ".py",
   "mimetype": "text/x-python",
   "name": "python",
   "nbconvert_exporter": "python",
   "pygments_lexer": "ipython2",
   "version": "2.7.12"
  }
 },
 "nbformat": 4,
 "nbformat_minor": 1
}
