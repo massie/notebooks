{
 "cells": [
  {
   "cell_type": "markdown",
   "metadata": {},
   "source": [
    "# VHSE-Based Prediction of Proteasomal Cleavage Sites\n",
    "\n",
    "`Xie J, Xu Z, Zhou S, Pan X, Cai S, Yang L, et al. (2013) The VHSE-Based Prediction of Proteasomal Cleavage Sites. PLoS ONE 8(9): e74506.` [doi:10.1371/journal.pone.0074506](https://dx.doi.org/10.1371%2Fjournal.pone.0074506)\n",
    "\n",
    "**Abstract**: \"Prediction of proteasomal cleavage sites has been a focus of computational biology. Up to date, the predictive methods are mostly based on nonlinear classifiers and variables with little physicochemical meanings. In this paper, the physicochemical properties of 14 residues both upstream and downstream of a cleavage site are characterized by VHSE (principal component score vector of hydrophobic, steric, and electronic properties) descriptors. Then, the resulting VHSE descriptors are employed to construct prediction models by support vector machine (SVM). For both in vivo and in vitro datasets, *the performance of VHSE-based method is comparatively better than that of the well-known [PAProC](http://www.paproc.de/), [MAPPP](http://www.mpiib-berlin.mpg.de/MAPPP/), and [NetChop](http://www.cbs.dtu.dk/Services/NetChop) methods*. The results reveal that the *hydrophobic property of 10 residues both upstream and downstream of the cleavage site is a dominant factor affecting in vivo and in vitro cleavage specificities*, followed by residue’s electronic and steric properties. Furthermore, the difference in hydrophobic potential between residues flanking the cleavage site is proposed to favor substrate cleavages. Overall, the interpretable VHSE-based method provides a preferable way to predict proteasomal cleavage sites.\""
   ]
  },
  {
   "cell_type": "markdown",
   "metadata": {
    "slideshow": {
     "slide_type": "skip"
    }
   },
   "source": [
    "Notes:\n",
    "\n",
    "* Databases used in this study to create training and test sets\n",
    "    * [Immune Epitope Database and Analysis Resource](http://www.iedb.org/)\n",
    "    * [NCBI's reference sequence (RefSeq) database](http://www.ncbi.nlm.nih.gov/RefSeq/)\n",
    "    * [AntiJen](http://www.ddg-pharmfac.net/antijen/AntiJen/antijenhomepage.htm) - a kinetic, thermodynamic and cellular database v2.0\n",
    "    * [ExPASy/SWISS-PROT](http://www.expasy.org/)"
   ]
  },
  {
   "cell_type": "markdown",
   "metadata": {
    "slideshow": {
     "slide_type": "slide"
    }
   },
   "source": [
    "# Peptide Formation\n",
    "\n",
    "![Peptide Formation](images/Peptidformationball.png)\n",
    "\n",
    "Image by GYassineMrabetTalk. (Own work) [Public domain], <a href=\"https://commons.wikimedia.org/wiki/File%3APeptidformationball.svg\">via Wikimedia Commons</a>"
   ]
  },
  {
   "cell_type": "markdown",
   "metadata": {
    "slideshow": {
     "slide_type": "slide"
    }
   },
   "source": [
    "# Hydrophobic, Steric, and Electronic Properties\n",
    "\n",
    "<img src=\"images/Amino_Acids.png\" align=\"left\" border=\"0\" height=\"500\" width=\"406\" alt=\"Amino Acids\"/>\n",
    "\n",
    "Amino acids grouped by electrically charged, polar uncharged, hydrophobic, and special case sidechains. \n",
    "\n",
    "Each amino acid has a single letter designation.\n",
    "\n",
    "Image by Dancojocari [<a href=\"http://creativecommons.org/licenses/by-sa/3.0\">CC BY-SA 3.0</a> or <a href=\"http://www.gnu.org/copyleft/fdl.html\">GFDL</a>], <a href=\"https://commons.wikimedia.org/wiki/File%3AAmino_Acids.svg\">via Wikimedia Commons</a>"
   ]
  },
  {
   "cell_type": "markdown",
   "metadata": {
    "slideshow": {
     "slide_type": "slide"
    }
   },
   "source": [
    "# Protein Representation (FASTA)\n",
    "\n",
    "Bradykinin is an inflammatory mediator. It is a peptide that causes blood vessels to dilate (enlarge), and therefore causes blood pressure to fall. A class of drugs called ACE inhibitors, which are used to lower blood pressure, increase bradykinin (by inhibiting its degradation) further lowering blood pressure.\n",
    "\n",
    "```\n",
    ">sp|P01042|KNG1_HUMAN Kininogen-1 OS=Homo sapiens GN=KNG1 PE=1 SV=2\n",
    "MKLITILFLCSRLLLSLTQESQSEEIDCNDKDLFKAVDAALKKYNSQNQSNNQFVLYRIT\n",
    "EATKTVGSDTFYSFKYEIKEGDCPVQSGKTWQDCEYKDAAKAATGECTATVGKRSSTKFS\n",
    "VATQTCQITPAEGPVVTAQYDCLGCVHPISTQSPDLEPILRHGIQYFNNNTQHSSLFMLN\n",
    "EVKRAQRQVVAGLNFRITYSIVQTNCSKENFLFLTPDCKSLWNGDTGECTDNAYIDIQLR\n",
    "IASFSQNCDIYPGKDFVQPPTKICVGCPRDIPTNSPELEETLTHTITKLNAENNATFYFK\n",
    "IDNVKKARVQVVAGKKYFIDFVARETTCSKESNEELTESCETKKLGQSLDCNAEVYVVPW\n",
    "EKKIYPTVNCQPLGMISLMKRPPGFSPFRSSRIGEIKEETTVSPPHTSMAPAQDEERDSG\n",
    "KEQGHTRRHDWGHEKQRKHNLGHGHKHERDQGHGHQRGHGLGHGHEQQHGLGHGHKFKLD\n",
    "DDLEHQGGHVLDHGHKHKHGHGHGKHKNKGKKNGKHNGWKTEHLASSSEDSTTPSAQTQE\n",
    "KTEGPTPIPSLAKPGVTVTFSDFQDSDLIATMMPPISPAPIQSDDDWIPDIQIDPNGLSF\n",
    "NPISDFPDTTSPKCPGRPWKSVSEINPTTQMKESYYFDLTDGLS\n",
    "```\n"
   ]
  },
  {
   "cell_type": "markdown",
   "metadata": {
    "slideshow": {
     "slide_type": "subslide"
    }
   },
   "source": [
    "# Bradykinin Structure\n",
    "\n",
    "![Bradykinin](images/Bradykinin_structure.png)\n",
    "\n",
    "By Yikrazuul (Own work) [Public domain], <a href=\"https://commons.wikimedia.org/wiki/File%3ABradykinin_structure.svg\">via Wikimedia Commons</a>"
   ]
  },
  {
   "cell_type": "markdown",
   "metadata": {
    "slideshow": {
     "slide_type": "slide"
    }
   },
   "source": [
    "# MHC Class I Processing\n",
    "\n",
    "<img src=\"images/MHC_Class_I_processing.png\" align=\"right\" border=\"0\"/>\n",
    "\n",
    "The proteasome digests polypeptides into smaller peptides 5–25 amino acids in length and is the major protease responsible for generating peptide C termini.\n",
    "\n",
    "Transporter associated with Antigen Processing (TAP) binds to peptides of length 9-20 amino acids and transports them into the endoplasmic reticulum (ER).\n",
    "\n",
    "Image by <a href=\"//commons.wikimedia.org/wiki/User:Scray\" title=\"User:Scray\">Scray</a> - <span class=\"int-own-work\" lang=\"en\">Own work</span>, <a href=\"http://creativecommons.org/licenses/by-sa/3.0\" title=\"Creative Commons Attribution-Share Alike 3.0\">CC BY-SA 3.0</a>, <a href=\"https://commons.wikimedia.org/w/index.php?curid=6251017\">Link</a>\n",
    "\n"
   ]
  },
  {
   "cell_type": "markdown",
   "metadata": {
    "slideshow": {
     "slide_type": "skip"
    }
   },
   "source": [
    "Text from https://www.ncbi.nlm.nih.gov/pmc/articles/PMC2913210/\n",
    "\n",
    "Cytotoxic T lymphocytes (CTLs) are the effector cells of the adaptive immune response that deal with infected, or malfunctioning, cells. Whereas intracellular pathogens are shielded from antibodies, CTLs are endowed with the ability to recognize and destroy cells harbouring intracellular threats. This obviously requires that information on the intracellular protein metabolism (including that of any intracellular pathogen) be translocated to the outside of the cell, where the CTL reside. To this end, the immune system has created an elaborate system of antigen processing and presentation. During the initial phase of antigen processing, peptide antigens are generated from intracellular pathogens and translocated into the endoplasmic reticulum. **In here, these peptide antigens are specifically sampled by major histocompatibility complex (MHC) class I molecules and then exported to the cell surface, where they are presented as stable peptide: MHC I complexes awaiting the arrival of scrutinizing T cells.** Hence, identifying which peptides are able to induce CTLs is of general interest for our understanding of the immune system, and of particular interest for the development of vaccines and immunotherapy directed against infectious pathogens, as previously reviewed. Peptide binding to MHC molecules is the key feature in cell-mediated immunity, because it is the peptide–MHC class I complex that can be recognized by the T-cell receptor (TCR) and thereby initiate the immune response. The CTLs are CD8+ T cells, whose TCRs recognize foreign peptides in complex with MHC class I molecules. In addition to peptide binding to MHC molecules, several other events have to be considered to be able to explain why a given peptide is eventually presented at the cell surface. Generally, an immunogenic peptide is generated from proteins expressed within the presenting cell, and peptides originating from proteins with high expression rate will normally have a higher chance of being immunogenic, compared with peptides from proteins with a lower expression rate. There are, however, significant exceptions to this generalization, e.g. cross-presentation, but this will be ignored in the following. In the classical MHC class I presenting pathway (*see image on right*) proteins expressed within a cell will be degraded in the cytosol by the protease complex, named the **proteasome**. **The proteasome digests polypeptides into smaller peptides 5–25 amino acids in length and is the major protease responsible for generating peptide C termini**. Some of the peptides that survive further degradation by other cytosolic exopeptidases can be bound by the transporter associated with antigen presentation (TAP), reviewed by Schölz et al. This transporter molecule binds peptides of lengths 9–20 amino acids and transports the peptides into the endoplasmic reticulum, where partially folded MHC molecules [in humans called human leucocyte antigens (HLA)], will complete folding if the peptide is able to bind to the particular allelic MHC molecule. The latter step is furthermore facilitated by the endoplasmic-reticulum-hosted protein tapasin. Each of these steps has been characterized and their individual importance has been related to final presentation on the cell surface."
   ]
  },
  {
   "cell_type": "code",
   "execution_count": 1,
   "metadata": {
    "collapsed": false,
    "slideshow": {
     "slide_type": "skip"
    }
   },
   "outputs": [],
   "source": [
    "import pandas as pd\n",
    "import numpy as np\n",
    "import matplotlib.pyplot as plt\n",
    "from sklearn import svm, metrics\n",
    "from sklearn.preprocessing import MinMaxScaler"
   ]
  },
  {
   "cell_type": "markdown",
   "metadata": {
    "slideshow": {
     "slide_type": "slide"
    }
   },
   "source": [
    "The principal component score **V**ector of **H**ydrophobic, **S**teric, and **E**lectronic properties (VHSE) is \n",
    "a set of amino acid descriptors that come from [A new set of amino acid descriptors and its application in peptide QSARs](http://onlinelibrary.wiley.com/doi/10.1002/bip.20296/abstract)\n",
    "\n",
    "* VHSE1 and VHSE2 are related to hydrophobic (H) properties, \n",
    "* VHSE3 and VHSE4 to steric (S) properties, and \n",
    "* VHSE5 to VHSE8 to electronic (E) properties."
   ]
  },
  {
   "cell_type": "code",
   "execution_count": 2,
   "metadata": {
    "collapsed": false,
    "slideshow": {
     "slide_type": "fragment"
    }
   },
   "outputs": [],
   "source": [
    "# (3-letter, VHSE1, VHSE2, VHSE3, VHSE4, VHSE5, VHSE6, VHSE7, VHSE8)\n",
    "vhse = {\n",
    "\"A\": (\"Ala\", 0.15, -1.11, -1.35, -0.92, 0.02, -0.91, 0.36, -0.48),\n",
    "\"R\": (\"Arg\", -1.47, 1.45, 1.24, 1.27, 1.55, 1.47, 1.30, 0.83),\n",
    "\"N\": (\"Asn\", -0.99, 0.00, -0.37, 0.69, -0.55, 0.85, 0.73, -0.80),\n",
    "\"D\": (\"Asp\", -1.15, 0.67, -0.41, -0.01, -2.68, 1.31, 0.03, 0.56),\n",
    "\"C\": (\"Cys\", 0.18, -1.67, -0.46, -0.21, 0.00, 1.20, -1.61, -0.19),\n",
    "\"Q\": (\"Gln\", -0.96, 0.12, 0.18, 0.16, 0.09, 0.42, -0.20, -0.41),\n",
    "\"E\": (\"Glu\", -1.18, 0.40, 0.10, 0.36, -2.16, -0.17, 0.91, 0.02),\n",
    "\"G\": (\"Gly\", -0.20, -1.53, -2.63, 2.28, -0.53, -1.18, 2.01, -1.34),\n",
    "\"H\": (\"His\", -0.43, -0.25, 0.37, 0.19, 0.51, 1.28, 0.93, 0.65),\n",
    "\"I\": (\"Ile\", 1.27, -0.14, 0.30, -1.80, 0.30, -1.61, -0.16, -0.13),\n",
    "\"L\": (\"Leu\", 1.36, 0.07, 0.26, -0.80, 0.22, -1.37, 0.08, -0.62),\n",
    "\"K\": (\"Lys\", -1.17, 0.70, 0.70, 0.80, 1.64, 0.67, 1.63, 0.13),\n",
    "\"M\": (\"Met\", 1.01, -0.53, 0.43, 0.00, 0.23, 0.10, -0.86, -0.68),\n",
    "\"F\": (\"Phe\", 1.52, 0.61, 0.96, -0.16, 0.25, 0.28, -1.33, -0.20),\n",
    "\"P\": (\"Pro\", 0.22, -0.17, -0.50, 0.05, -0.01, -1.34, -0.19, 3.56),\n",
    "\"S\": (\"Ser\", -0.67, -0.86, -1.07, -0.41, -0.32, 0.27, -0.64, 0.11),\n",
    "\"T\": (\"Thr\", -0.34, -0.51, -0.55, -1.06, 0.01, -0.01, -0.79, 0.39),\n",
    "\"W\": (\"Trp\", 1.50, 2.06, 1.79, 0.75, 0.75, -0.13, -1.06, -0.85),\n",
    "\"Y\": (\"Tyr\", 0.61, 1.60, 1.17, 0.73, 0.53, 0.25, -0.96, -0.52),\n",
    "\"V\": (\"Val\", 0.76, -0.92, 0.17, -1.91, 0.22, -1.40, -0.24, -0.03)}\n"
   ]
  },
  {
   "cell_type": "markdown",
   "metadata": {
    "slideshow": {
     "slide_type": "skip"
    }
   },
   "source": [
    "There were eight dataset used in this study. The reference datasets (s1, s3, s5, s7) were converted into the actual datasets used in the analysis (s2, s4, s6, s8) using the `vhse` vector. The s2 and s4 datasets were used for training the SVM model and the s6 and s8 were used for testing."
   ]
  },
  {
   "cell_type": "code",
   "execution_count": 3,
   "metadata": {
    "collapsed": false,
    "slideshow": {
     "slide_type": "skip"
    }
   },
   "outputs": [
    {
     "name": "stdout",
     "output_type": "stream",
     "text": [
      "s1_in_vivo_mhc_1_antijen_swiss_prot_reference.csv\r\n",
      "s2_in_vivo_mhc_1_antijen_swiss_prot_dataset.csv\r\n",
      "s3_in_vitro_from_iedb_ncbi_reference.csv\r\n",
      "s4_in_vitro_from_iedb_ncbi_dataset.csv\r\n",
      "s5_in_vivo_mhc_1_ligands_reference.csv\r\n",
      "s6_in_vivo_mhc_1_ligands_dataset.csv\r\n",
      "s7_in_vitro_ssx2_hivnef_rui_reference.csv\r\n",
      "s8_in_vitro_ssx2_hivnef_rui_dataset.csv\r\n"
     ]
    }
   ],
   "source": [
    "%ls data/proteasomal_cleavage"
   ]
  },
  {
   "cell_type": "code",
   "execution_count": 4,
   "metadata": {
    "collapsed": false,
    "slideshow": {
     "slide_type": "skip"
    }
   },
   "outputs": [],
   "source": [
    "from aa_props import seq_to_aa_props\n",
    "# Converts the raw input into our X matrix and y vector. The 'peptide_key'\n",
    "# and 'activity_key' parameters are the names of the column in the dataframe\n",
    "# for the peptide amino acid string and activity (not cleaved/cleaved) \n",
    "# respectively. The 'sequence_len' allows for varying the number of flanking\n",
    "# amino acids to cleavage site (which is at position 14 of 28 in each cleaved\n",
    "# sample.\n",
    "def dataset_to_X_y(dataframe, peptide_key, activity_key, sequence_len = 28, use_vhse = True):\n",
    "    raw_peptide_len = 28\n",
    "    if (sequence_len % 2 or sequence_len > raw_peptide_len or sequence_len <= 0):\n",
    "        raise ValueError(\"sequence_len needs to an even value (0,%d]\" % (raw_peptide_len))\n",
    "    X = []\n",
    "    y = []\n",
    "    for (peptide, activity) in zip(dataframe[peptide_key], dataframe[activity_key]):\n",
    "        if (len(peptide) != raw_peptide_len):\n",
    "            # print \"Skipping peptide! len(%s)=%d. Should be len=%d\" \\\n",
    "            #                   % (peptide, len(peptide), raw_peptide_len)\n",
    "            continue\n",
    "        y.append(activity)\n",
    "\n",
    "        num_amino_acids_to_clip = (raw_peptide_len - sequence_len) / 2\n",
    "        clipped_peptide = peptide if num_amino_acids_to_clip == 0 else \\\n",
    "                        peptide[num_amino_acids_to_clip:-num_amino_acids_to_clip]\n",
    "        # There is a single peptide in dataset s6 with an \"'\" in the sequence.\n",
    "        # The VHSE values used for it in the study match Proline (P).\n",
    "        clipped_peptide = clipped_peptide.replace('\\'', 'P')\n",
    "        row = []\n",
    "        if use_vhse:\n",
    "            for amino_acid in clipped_peptide:\n",
    "                row.append(vhse[amino_acid][1]) # hydrophobic\n",
    "                row.append(vhse[amino_acid][3]) # steric\n",
    "                row.append(vhse[amino_acid][5]) # electric\n",
    "        else:\n",
    "            row = seq_to_aa_props(clipped_peptide)\n",
    "        X.append(row)\n",
    "    return (X, y)"
   ]
  },
  {
   "cell_type": "markdown",
   "metadata": {
    "slideshow": {
     "slide_type": "slide"
    }
   },
   "source": [
    "# Creating the In Vivo Data\n",
    "\n",
    "To create the *in vivo* training set, the authors\n",
    "\n",
    "* Queried the [AntiJen](http://www.ddg-pharmfac.net/antijen/AntiJen/antijenhomepage.htm) database (7,324 MHC-I ligands)\n",
    "* Removed ligands with unknown source protein in [ExPASy/SWISS-PROT](http://www.expasy.org/) (6036 MHC-I ligands)\n",
    "* Removed duplicate ligands (3,148 ligands)\n",
    "* Removed the 231 ligands used for test samples by [Saxova et al](http://journals.plos.org/plosone/article?id=10.1371/journal.pone.0074506#), (2,917 ligands)\n",
    "* Removed sequences less than 28 residues (2,607 ligands) to create the *cleavage* sample set\n",
    "* Assigned non-cleavage sites, removed sequences with less than 28 resides (2,480 ligands) to create the *non-cleavage* sample set\n",
    "\n",
    "This process created 5,087 training samples: 2,607 cleavage and 2,480 non-cleavage samples."
   ]
  },
  {
   "cell_type": "markdown",
   "metadata": {
    "slideshow": {
     "slide_type": "slide"
    }
   },
   "source": [
    "# Creating Samples from Ligands and Proteins\n",
    "\n",
    "The C-terminus of the ligand is assumed to be a cleavage site and the midpoint between the N-terminus and C-terminus is assumed to *not* be a cleavage site. \n",
    "\n",
    "Both the cleavage and non-cleavage sites are at the center position of each sample.\n",
    "\n",
    "<img src=\"images/creating_samples_from_ligands.png\"/>\n",
    "\n",
    "\n",
    "\n"
   ]
  },
  {
   "cell_type": "markdown",
   "metadata": {
    "slideshow": {
     "slide_type": "slide"
    }
   },
   "source": [
    "# Format of Training Data\n",
    "\n",
    "* Each *Sequence* is 28 residues long, however the authors found the best performance using 20 residues. \n",
    "* The *Activity* is `1` for cleavage and `-1` for no cleavage. \n",
    "* There are 28 * 8 = 224 features in the raw training set."
   ]
  },
  {
   "cell_type": "code",
   "execution_count": 5,
   "metadata": {
    "collapsed": false,
    "scrolled": true,
    "slideshow": {
     "slide_type": "fragment"
    }
   },
   "outputs": [
    {
     "name": "stdout",
     "output_type": "stream",
     "text": [
      "                       Sequence  Name  Activity  VHSE11  VHSE12  VHSE13  \\\n",
      "0  AAAFCSAMYVGDLCGSVELVGQLFTFSP  cv-1         1    0.15   -1.11   -1.35   \n",
      "1  AACHKCIDFYSRIRELRHYSDSVYGDTL  cv-2         1    0.15   -1.11   -1.35   \n",
      "2  AACRAAGLQDCTMLVNGDDLVVICESAG  cv-3         1    0.15   -1.11   -1.35   \n",
      "\n",
      "   VHSE14  VHSE15  VHSE16  VHSE17   ...     VHSE277  VHSE278  VHSE281  \\\n",
      "0   -0.92    0.02   -0.91    0.36   ...       -0.64     0.11     0.22   \n",
      "1   -0.92    0.02   -0.91    0.36   ...       -0.79     0.39     1.36   \n",
      "2   -0.92    0.02   -0.91    0.36   ...        0.36    -0.48    -0.20   \n",
      "\n",
      "   VHSE282  VHSE283  VHSE284  VHSE285  VHSE286  VHSE287  VHSE288  \n",
      "0    -0.17    -0.50     0.05    -0.01    -1.34    -0.19     3.56  \n",
      "1     0.07     0.26    -0.80     0.22    -1.37     0.08    -0.62  \n",
      "2    -1.53    -2.63     2.28    -0.53    -1.18     2.01    -1.34  \n",
      "\n",
      "[3 rows x 227 columns]\n"
     ]
    }
   ],
   "source": [
    "training_set = pd.DataFrame.from_csv(\"data/proteasomal_cleavage/s2_in_vivo_mhc_1_antijen_swiss_prot_dataset.csv\")\n",
    "print training_set.head(3)"
   ]
  },
  {
   "cell_type": "markdown",
   "metadata": {
    "slideshow": {
     "slide_type": "slide"
    }
   },
   "source": [
    "# Creating the Linear SVM Model\n",
    "\n",
    "The authors measured linear, polynomial, radial basis, and sigmoid kernel and found no significant difference in performance. The linear kernel was chosen for its simplicity and interpretability. The authors did not provide the `C` value used in their linear model, so I used `GridSearchCV` to find the best value.  "
   ]
  },
  {
   "cell_type": "code",
   "execution_count": 6,
   "metadata": {
    "collapsed": false,
    "slideshow": {
     "slide_type": "fragment"
    }
   },
   "outputs": [
    {
     "name": "stdout",
     "output_type": "stream",
     "text": [
      "The best parameters are {'C': 1} with a score of 0.77\n"
     ]
    }
   ],
   "source": [
    "from sklearn.model_selection import GridSearchCV\n",
    "def create_linear_svc_model(parameters, sequence_len = 20, use_vhse = True):\n",
    "    scaler = MinMaxScaler()\n",
    "    (X_train_unscaled, y_train) = dataset_to_X_y(training_set, \\\n",
    "                                             \"Sequence\", \"Activity\", \\\n",
    "                                             sequence_len = sequence_len, \\\n",
    "                                             use_vhse = use_vhse)\n",
    "    X_train = pd.DataFrame(scaler.fit_transform(X_train_unscaled))\n",
    "    svr = svm.LinearSVC()\n",
    "    clf = GridSearchCV(svr, parameters, cv=10, scoring='accuracy')\n",
    "    clf.fit(X_train, y_train)\n",
    "    print(\"The best parameters are %s with a score of %0.2f\" \\\n",
    "          % (clf.best_params_, clf.best_score_))\n",
    "    return (scaler, clf)\n",
    "\n",
    "(vhse_scaler, vhse_model) = create_linear_svc_model(parameters = {'C': [0.01, 0.03, 0.1, 0.3, 1, 3, 10, 30, 100]})"
   ]
  },
  {
   "cell_type": "markdown",
   "metadata": {
    "slideshow": {
     "slide_type": "slide"
    }
   },
   "source": [
    "# Testing In Vivo SVM Model"
   ]
  },
  {
   "cell_type": "code",
   "execution_count": 7,
   "metadata": {
    "collapsed": false,
    "slideshow": {
     "slide_type": "fragment"
    }
   },
   "outputs": [
    {
     "name": "stdout",
     "output_type": "stream",
     "text": [
      "Authors reported performance\n",
      "Acc: 73.5, Sen: 82.3, Spe: 64.8, MCC: 0.48\n",
      "Notebook performance (sequence_len=20, use_vhse=True)\n",
      "Acc: 72.7, Sen: 82.2, Spe: 63.2, MCC: 0.46\n"
     ]
    }
   ],
   "source": [
    "def test_linear_svc_model(scaler, model, sequence_len = 20, use_vhse = True):\n",
    "    testing_set = pd.DataFrame.from_csv(\"data/proteasomal_cleavage/s6_in_vivo_mhc_1_ligands_dataset.csv\")\n",
    "    (X_test_prescaled, y_test) = dataset_to_X_y(testing_set, \\\n",
    "                                                \"Sequences\", \"Activity\", \\\n",
    "                                                sequence_len = sequence_len,\\\n",
    "                                                use_vhse = use_vhse)\n",
    "    X_test = pd.DataFrame(scaler.transform(X_test_prescaled))\n",
    "    y_predicted = model.predict(X_test)\n",
    "    accuracy = 100.0 * metrics.accuracy_score(y_test, y_predicted)\n",
    "    ((tn, fp), (fn, tp)) = metrics.confusion_matrix(y_test, y_predicted, labels=[-1, 1])\n",
    "    sensitivity = 100.0 * tp/(tp + fn)\n",
    "    specificity = 100.0 * tn/(tn + fp)\n",
    "    mcc = metrics.matthews_corrcoef(y_test, y_predicted)\n",
    "    print \"Authors reported performance\"\n",
    "    print \"Acc: 73.5, Sen: 82.3, Spe: 64.8, MCC: 0.48\"\n",
    "    print \"Notebook performance (sequence_len=%d, use_vhse=%s)\" % (sequence_len, use_vhse)\n",
    "    print \"Acc: %.1f, Sen: %.1f, Spe: %.1f, MCC: %.2f\" \\\n",
    "    %(accuracy, sensitivity, specificity, mcc)\n",
    "    \n",
    "test_linear_svc_model(vhse_scaler, vhse_model)"
   ]
  },
  {
   "cell_type": "markdown",
   "metadata": {
    "slideshow": {
     "slide_type": "slide"
    }
   },
   "source": [
    "# Comparing Linear SVM to PAProC, FragPredict, and NetChop\n",
    "\n",
    "![Performance](images/journal.pone.0074506.t003.png)"
   ]
  },
  {
   "cell_type": "markdown",
   "metadata": {
    "slideshow": {
     "slide_type": "slide"
    }
   },
   "source": [
    "# Interpreting Model Weights\n",
    "\n",
    "<img src=\"images/journal.pone.0074506.g002.png\" align=\"left\" border=\"0\"/>\n",
    "\n",
    "The `VHSE1` variable at the P1 position has the largest positive weight coefficient (10.49) in line with research showing that C-terminal residues are usually hydrophobic to aid in ER transfer and binding to the MHC molecule. \n",
    "\n",
    "There is a mostly positive and mostly negative coefficents upstream and downstream of the cleavage site respectively. This potential difference appears to be conducive to cleavage."
   ]
  },
  {
   "cell_type": "code",
   "execution_count": 8,
   "metadata": {
    "collapsed": false,
    "slideshow": {
     "slide_type": "skip"
    }
   },
   "outputs": [],
   "source": [
    "#h = svr.coef_[:, 0::3]\n",
    "#s = svr.coef_[:, 1::3]\n",
    "#e = svr.coef_[:, 2::3]\n",
    "\n",
    "#%matplotlib notebook\n",
    "\n",
    "#n_groups = h.shape[1]\n",
    "\n",
    "#fig, ax = plt.subplots(figsize=(12,9))\n",
    "\n",
    "#index = np.arange(n_groups)\n",
    "#bar_width = 0.25\n",
    "\n",
    "#ax1 = ax.bar(index + bar_width, h.T, bar_width, label=\"Hydrophobic\", color='b')\n",
    "#ax2 = ax.bar(index, s.T, bar_width, label=\"Steric\", color='r')\n",
    "#ax3 = ax.bar(index - bar_width, e.T, bar_width, label=\"Electronic\", color='g')\n",
    "\n",
    "#ax.set_xlim(-bar_width,len(index)+bar_width)\n",
    "\n",
    "#plt.xlabel('Amino Acid Position')\n",
    "#plt.ylabel('SVM Coefficient Value')\n",
    "#plt.title('Hydrophobic, Steric, and Electronic Effect by Amino Acid Position')\n",
    "#plt.xticks(index, range (n_groups/2, 0, -1) + [str(i)+\"'\" for i in range (1, n_groups/2+1)])\n",
    "#plt.legend()\n",
    "\n",
    "#plt.tight_layout()\n",
    "#plt.show()"
   ]
  },
  {
   "cell_type": "markdown",
   "metadata": {
    "collapsed": true,
    "slideshow": {
     "slide_type": "slide"
    }
   },
   "source": [
    "# PCA vs. full matrices\n",
    "\n",
    "* Principal component analysis (PCA) is a statistical procedure that uses an orthogonal transformation to convert a set of observations of possibly correlated variables into a set of values of linearly uncorrelated variables called principal components [Source](https://en.wikipedia.org/wiki/Principal_component_analysis).\n",
    "* [Mei et al](http://onlinelibrary.wiley.com/doi/10.1002/bip.20296/abstract), creators of the VHSE, applied PCA on 18 hydophobic, 17 steric, and 15 electronic properties. The first 2, 2, and 4 principle components account for 74.33, 78.68, and 77.9% of variability in original matrices.\n",
    "* The authors of this paper *only used the first principle component* from the hydrophobic, steric, and electronic matrices.\n",
    "* What performance would the authors have found if used the full matrices instead of PCA features?\n",
    "\n",
    "| Matrix | Features | Sensitivity | Specificity | MCC  |\n",
    "|--------|----------|-------------|-------------|------|\n",
    "| VHSE   | 3x20=60  | 82.2        | 63.2        | 0.46 | \n",
    "| Full   | 50x20=1000 | 81.2     | 64.1        | 0.46 |"
   ]
  },
  {
   "cell_type": "code",
   "execution_count": 9,
   "metadata": {
    "collapsed": false,
    "slideshow": {
     "slide_type": "skip"
    }
   },
   "outputs": [
    {
     "name": "stdout",
     "output_type": "stream",
     "text": [
      "The best parameters are {'C': 0.01} with a score of 0.81\n",
      "Authors reported performance\n",
      "Acc: 73.5, Sen: 82.3, Spe: 64.8, MCC: 0.48\n",
      "Notebook performance (sequence_len=20, use_vhse=False)\n",
      "Acc: 72.7, Sen: 81.2, Spe: 64.1, MCC: 0.46\n"
     ]
    }
   ],
   "source": [
    "# Performance with no VHSE\n",
    "(no_vhse_scaler, no_vhse_model) = create_linear_svc_model(\n",
    "    parameters = {'C': [0.001, 0.003, 0.01, 0.03, 0.1, 0.3, 1]},\n",
    "    use_vhse = False)\n",
    "test_linear_svc_model(no_vhse_scaler, no_vhse_model, use_vhse = False)"
   ]
  },
  {
   "cell_type": "code",
   "execution_count": 10,
   "metadata": {
    "collapsed": false,
    "slideshow": {
     "slide_type": "skip"
    }
   },
   "outputs": [
    {
     "name": "stdout",
     "output_type": "stream",
     "text": [
      "The best parameters are {'C': 0.001} with a score of 0.79\n",
      "Authors reported performance\n",
      "Acc: 73.5, Sen: 82.3, Spe: 64.8, MCC: 0.48\n",
      "Notebook performance (sequence_len=28, use_vhse=False)\n",
      "Acc: 75.1, Sen: 85.1, Spe: 65.1, MCC: 0.51\n"
     ]
    }
   ],
   "source": [
    "# Performance with more flanking residues and no VHSE\n",
    "(full_flank_scaler, full_flank_model) = create_linear_svc_model(\n",
    "    parameters = {'C': [0.0001, 0.003, 0.001, 0.003, 0.01, 0.03, 0.1, 0.3, 1]},\n",
    "    use_vhse = False, sequence_len = 28)\n",
    "test_linear_svc_model(full_flank_scaler, full_flank_model, use_vhse = False, sequence_len=28)"
   ]
  },
  {
   "cell_type": "markdown",
   "metadata": {
    "slideshow": {
     "slide_type": "slide"
    }
   },
   "source": [
    "# Chipper Implementation\n",
    "\n",
    "Chipper notebook auto-generates training sets, e.g. v0.3.0 trained with **26,166** samples vs. **5,087** used in this study\n",
    "\n",
    "<img src=\"images/kl_heatmap.png\"/>\n",
    "\n"
   ]
  },
  {
   "cell_type": "markdown",
   "metadata": {
    "slideshow": {
     "slide_type": "slide"
    }
   },
   "source": [
    "# Chipper Performance\n",
    "\n",
    "Chipper uses full 50 properties per residue instead of VHSE parameters\n",
    "\n",
    "| Method | Sensitivity | Specificity | MCC    | Notes |\n",
    "|--------|-------------|-------------|--------|-------|\n",
    "|[PAProC](http://www.paproc.de/)| 45.6 |30.0 | -0.25 | |\n",
    "|[FragPredict](http://www.mpiib-berlin.mpg.de/MAPPP/fragpredict.html) | 83.5 | 16.5 | 0.00 | |\n",
    "|[NetChop](http://www.cbs.dtu.dk/services/NetChop/) 1.0 | 39.8 | 46.3 | -0.14 | |\n",
    "|[NetChop](http://www.cbs.dtu.dk/services/NetChop/) 2.0 | 73.6 | 42.4 | 0.16 | |\n",
    "|VHSE-based SVC | 82.3 | 64.8 | 0.48 | 3x20=60 features |\n",
    "|chipper VHSE (SVC) | **79.3** | **72.6** | **0.520** | 3x20=60 features |\n",
    "|chipper VHSE (LR) | **83.2** | **69.2** | **0.529** | 3x20=60 features |\n",
    "|chipper (SVC) | **79.3** | **77.9** | **0.572** | 50x20=1000 features |\n",
    "|chipper (LR) | **87.0** | **74.5** | **0.620** | 50x20=1000 features |\n",
    "|xgboost | **87.0** | **74.5** | **0.620** | 50x20=1000 features |\n",
    "|FANN | **79.6** | **82.0** | **0.616** | 50x20=1000 features |"
   ]
  },
  {
   "cell_type": "markdown",
   "metadata": {
    "slideshow": {
     "slide_type": "slide"
    }
   },
   "source": [
    "# Chipper LR Performance\n",
    "\n",
    "![LR ROC Curve](images/lr_roc_curve.png)"
   ]
  },
  {
   "cell_type": "markdown",
   "metadata": {
    "slideshow": {
     "slide_type": "slide"
    }
   },
   "source": [
    "# Thank You\n",
    "\n",
    "Source notebook: https://github.com/massie/notebooks/blob/master/VHSE-Based%20Prediction%20of%20Proteasomal%20Cleavage%20Sites.ipynb\n",
    "\n",
    "Chipper repo: https://github.com/massie/chipper"
   ]
  }
 ],
 "metadata": {
  "anaconda-cloud": {},
  "celltoolbar": "Slideshow",
  "kernelspec": {
   "display_name": "Python [conda root]",
   "language": "python",
   "name": "conda-root-py"
  },
  "language_info": {
   "codemirror_mode": {
    "name": "ipython",
    "version": 2
   },
   "file_extension": ".py",
   "mimetype": "text/x-python",
   "name": "python",
   "nbconvert_exporter": "python",
   "pygments_lexer": "ipython2",
   "version": "2.7.12"
  }
 },
 "nbformat": 4,
 "nbformat_minor": 1
}
