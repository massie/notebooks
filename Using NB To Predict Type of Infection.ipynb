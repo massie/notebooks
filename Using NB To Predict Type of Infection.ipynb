{
 "cells": [
  {
   "cell_type": "code",
   "execution_count": 1,
   "metadata": {
    "collapsed": false
   },
   "outputs": [
    {
     "name": "stdout",
     "output_type": "stream",
     "text": [
      "0.19.1\n"
     ]
    }
   ],
   "source": [
    "import numpy as np\n",
    "import pandas as pd\n",
    "print pd.__version__"
   ]
  },
  {
   "cell_type": "code",
   "execution_count": 2,
   "metadata": {
    "collapsed": false
   },
   "outputs": [
    {
     "name": "stdout",
     "output_type": "stream",
     "text": [
      "Raw CSV files contains:\n",
      "       bacterial:  79 unique organisms in 3468 samples\n",
      "       parasitic:  61 unique organisms in 3431 samples\n",
      "           viral: 263 unique organisms in 7937 samples\n",
      "\n",
      "Created 11127 training and 3709 test samples\n"
     ]
    }
   ],
   "source": [
    "from sklearn.model_selection import train_test_split\n",
    "\n",
    "# All data for this notebook can be found in data_dir\n",
    "data_dir = \"data/pdaid/\"\n",
    "\n",
    "disease_groups = [\"bacterial\", \"parasitic\", \"viral\"]\n",
    "\n",
    "def data_prep(group_name):\n",
    "    df = pd.DataFrame.from_csv(data_dir + group_name + \".csv\")\n",
    "    df[\"disease_group\"] = group_name\n",
    "    df['disease_id'] = disease_groups.index(group_name)\n",
    "    df.columns = [\n",
    "        'type', 'epitope_sequence', 'start', 'end', 'chebi', 'syn', 'protein',\n",
    "        'protein_id', 'organism', 'oid', 'comments', 'disease_group', 'disease_id'\n",
    "    ]\n",
    "    # Remove entries with '+' notation (note: looking into this, e.g. \"PLNISLGDVVLY + DEAM(N3)\")\n",
    "    df = df[df.epitope_sequence.str.find('+') == -1]\n",
    "    df = df[[\"epitope_sequence\", \"disease_group\", \"disease_id\", \"organism\"]]\n",
    "    \n",
    "    #group = group[group.epitope_sequence.str.find(\"Z\") == -1]\n",
    "    df = df[df.duplicated(subset=[\"epitope_sequence\"], keep=False) == False]\n",
    "    return df\n",
    "\n",
    "disease_dfs = []\n",
    "for disease_group in disease_groups:\n",
    "    disease_dfs.append(data_prep(disease_group))\n",
    "  \n",
    "print \"Raw CSV files contains:\"\n",
    "group_describe = lambda name, df: \"%16s: %3d unique organisms in %4d samples\" % \\\n",
    "                            (name, df.organism.unique().shape[0], df.shape[0])\n",
    "for (name, df) in zip(disease_groups, disease_dfs):\n",
    "    print group_describe(name, df)\n",
    "    \n",
    "all_samples_df = disease_dfs[0]\n",
    "for df in disease_dfs[1:]:\n",
    "    all_samples_df = all_samples_df.append(df, ignore_index=True)\n",
    "\n",
    "train, test = train_test_split(all_samples_df, test_size = 0.25)\n",
    "\n",
    "print \"\\nCreated %d training and %d test samples\" % (train.shape[0], test.shape[0])"
   ]
  },
  {
   "cell_type": "code",
   "execution_count": 3,
   "metadata": {
    "collapsed": false
   },
   "outputs": [
    {
     "name": "stdout",
     "output_type": "stream",
     "text": [
      "Time to fit the model (11127 samples)\n",
      "CPU times: user 3.02 s, sys: 181 ms, total: 3.2 s\n",
      "Wall time: 3.15 s\n",
      "\n",
      "Time to predict the values of test set (3709 samples)\n",
      "CPU times: user 513 ms, sys: 98.9 ms, total: 612 ms\n",
      "Wall time: 546 ms\n",
      "\n",
      "\n",
      "             precision    recall  f1-score   support\n",
      "\n",
      "  bacterial       0.80      0.81      0.81       857\n",
      "  parasitic       0.96      0.86      0.91       877\n",
      "      viral       0.89      0.93      0.91      1975\n",
      "\n",
      "avg / total       0.89      0.89      0.89      3709\n",
      "\n",
      "\n",
      "\n",
      "Confusion Matrix: rows = predictions, columns = actual\n",
      "\n",
      "                     bacterial      parasitic          viral\n",
      "      bacterial            696             15            146\n",
      "      parasitic             48            758             71\n",
      "          viral            121             17           1837\n"
     ]
    }
   ],
   "source": [
    "from sklearn.feature_extraction.text import CountVectorizer, TfidfTransformer\n",
    "from sklearn.naive_bayes import MultinomialNB\n",
    "from sklearn.metrics import classification_report, confusion_matrix\n",
    "from sklearn.pipeline import Pipeline\n",
    "from sklearn.linear_model import SGDClassifier\n",
    "from sklearn.model_selection import GridSearchCV\n",
    "\n",
    "#parameters = {'vect__ngram_range': [(1,3), (1,9), (1,12)],\n",
    "#              'tfidf__use_idf': (True, False),\n",
    "#              'tfidf__smooth_idf': (True, False),\n",
    "#              'tfidf__sublinear_tf': (True, False),\n",
    "#              'tfidf__norm': (\"l1\", \"l2\", None),\n",
    "#              'clf__alpha': (1e-1, 1e-2),\n",
    "#              'clf__fit_prior': (True, False)}\n",
    "\n",
    "clf = Pipeline([('vect', CountVectorizer(analyzer='char', lowercase=True, ngram_range=(1, 9))),\n",
    "                ('tfidf', TfidfTransformer(norm=None, smooth_idf=True, sublinear_tf=False, use_idf=False)),\n",
    "                ('clf', MultinomialNB(alpha=0.01, fit_prior=True))\n",
    "])\n",
    "\n",
    "#gs_clf = GridSearchCV(clf, parameters, n_jobs=-1)\n",
    "\n",
    "print \"Time to fit the model (%d samples)\" % (train.shape[0])\n",
    "%time clf.fit(train.epitope_sequence, train.disease_id)\n",
    "print \"\\nTime to predict the values of test set (%d samples)\" % (test.shape[0])\n",
    "%time predicted = clf.predict(test.epitope_sequence)\n",
    "print\n",
    "print\n",
    "print classification_report(test.disease_id, predicted, target_names=disease_groups)\n",
    "\n",
    "cm = confusion_matrix(test.disease_id, predicted)\n",
    "print \"\\n\\nConfusion Matrix: rows = predictions, columns = actual\\n\"\n",
    "row_format =\"{:>15}\" * (len(disease_groups)+1)\n",
    "print row_format.format(\"\", *disease_groups)\n",
    "for disease, row in zip(disease_groups, cm):\n",
    "    print row_format.format(disease, *row)"
   ]
  }
 ],
 "metadata": {
  "anaconda-cloud": {},
  "kernelspec": {
   "display_name": "Python [conda root]",
   "language": "python",
   "name": "conda-root-py"
  },
  "language_info": {
   "codemirror_mode": {
    "name": "ipython",
    "version": 2
   },
   "file_extension": ".py",
   "mimetype": "text/x-python",
   "name": "python",
   "nbconvert_exporter": "python",
   "pygments_lexer": "ipython2",
   "version": "2.7.12"
  }
 },
 "nbformat": 4,
 "nbformat_minor": 1
}
