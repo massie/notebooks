{
 "cells": [
  {
   "cell_type": "markdown",
   "metadata": {
    "slideshow": {
     "slide_type": "slide"
    }
   },
   "source": [
    "# Using Machine Learning to Predict Breast Cancer\n",
    "\n",
    "Matt Massie, UC Berkeley Computer Sciences\n",
    "\n",
    "* Machine learning (ML) is **data driven**. Machine learning algorithms are constructed to learn from and make predictions on data instead of having strictly static instructions.\n",
    "\n",
    "* **Supervised** (e.g. classification) vs **Unsupervised** (e.g. anomaly detection) learning\n",
    "\n",
    "* In this short talk, we'll explore the freely available [Breast Cancer Wisconsin Data Set](http://archive.ics.uci.edu/ml/datasets/Breast+Cancer+Wisconsin+%28Diagnostic%29) on the University of California, Irvine Machine Learning site.\n",
    "\n",
    "* Data set creators:\n",
    "\n",
    "    1. Dr. William H. Wolberg, General Surgery Dept. University of Wisconsin, Clinical Sciences Center\n",
    "    2. W. Nick Street, Computer Sciences Dept. University of Wisconsin\n",
    "    3. Olvi L. Mangasarian, Computer Sciences Dept. University of Wisconsin"
   ]
  },
  {
   "cell_type": "code",
   "execution_count": 1,
   "metadata": {
    "collapsed": true,
    "slideshow": {
     "slide_type": "skip"
    }
   },
   "outputs": [],
   "source": [
    "import numpy as np\n",
    "import pandas as pd\n",
    "def load_data(filename):\n",
    "    import csv\n",
    "    with open(filename, 'rb') as csvfile:\n",
    "        csvreader = csv.reader(csvfile, delimiter=',')\n",
    "        df = pd.DataFrame([[-1 if el == '?' else int(el) for el in r] for r in csvreader])\n",
    "        df.columns=[\"patient_id\", \"radius\", \"texture\", \"perimeter\", \"smoothness\", \"compactness\", \"concavity\", \"concave_points\", \"symmetry\", \"fractal_dimension\", \"malignant\"]\n",
    "        df['malignant'] = df['malignant'].map({2: 0, 4: 1})\n",
    "        return df"
   ]
  },
  {
   "cell_type": "markdown",
   "metadata": {
    "slideshow": {
     "slide_type": "slide"
    }
   },
   "source": [
    "# Training and Test Data Sets\n",
    "\n",
    "Each patient record is randomly assigned to a \"training\" data set (80%) or a \"test\" dataset (20%). Best practices have a cross-validation set (60% training, 20% cross-validation, 20% test)."
   ]
  },
  {
   "cell_type": "code",
   "execution_count": 2,
   "metadata": {
    "collapsed": false,
    "slideshow": {
     "slide_type": "fragment"
    }
   },
   "outputs": [
    {
     "name": "stdout",
     "output_type": "stream",
     "text": [
      "Training set has 419 patients\n",
      "Test set has 140 patients\n",
      "\n",
      "   patient_id  radius  texture  perimeter  smoothness  compactness\n",
      "0     1299994       5        1          1           1            2\n",
      "1     1099510      10        4          3           1            3\n",
      "2     1275807       4        2          4           3            2\n",
      "\n",
      "   concavity  concave_points  symmetry  fractal_dimension  malignant\n",
      "0          1               1         1                  1          0\n",
      "1          3               6         5                  2          1\n",
      "2          2               2         1                  1          0\n"
     ]
    }
   ],
   "source": [
    "training_set = load_data(\"data/breast-cancer.train\")\n",
    "test_set     = load_data(\"data/breast-cancer.test\")\n",
    "\n",
    "print \"Training set has %d patients\" % (training_set.shape[0]) \n",
    "print \"Test set has %d patients\\n\" % (test_set.shape[0])\n",
    "print training_set.iloc[:, 0:6].head(3)\n",
    "print\n",
    "print training_set.iloc[:, 6:11].head(3)"
   ]
  },
  {
   "cell_type": "code",
   "execution_count": 3,
   "metadata": {
    "collapsed": false,
    "slideshow": {
     "slide_type": "skip"
    }
   },
   "outputs": [],
   "source": [
    "training_set_malignant = training_set['malignant']\n",
    "training_set_features = training_set.iloc[:, 1:10]\n",
    "test_set_malignant = test_set['malignant']\n",
    "test_set_features = test_set.iloc[:, 1:10]"
   ]
  },
  {
   "cell_type": "markdown",
   "metadata": {
    "slideshow": {
     "slide_type": "skip"
    }
   },
   "source": [
    "# Linear Support Vector Machine Classification\n",
    "\n",
    "![SVM](images/SVM_hyperplanes.png)\n",
    "\n",
    "This image shows how support vector machine searches for a \"Maximum-Margin Hyperplane\" in 2-dimensional space.\n",
    "\n",
    "The breast cancer data set is 9-dimensional.\n",
    "\n",
    "Image by User:ZackWeinberg, based on PNG version by User:Cyc [<a href=\"http://creativecommons.org/licenses/by-sa/3.0\">CC BY-SA 3.0</a>], <a href=\"https://commons.wikimedia.org/wiki/File%3ASvm_separating_hyperplanes_(SVG).svg\">via Wikimedia Commons</a>"
   ]
  },
  {
   "cell_type": "markdown",
   "metadata": {
    "slideshow": {
     "slide_type": "slide"
    }
   },
   "source": [
    "# Using scikit-learn to predict malignant tumors"
   ]
  },
  {
   "cell_type": "code",
   "execution_count": 4,
   "metadata": {
    "collapsed": false,
    "slideshow": {
     "slide_type": "fragment"
    }
   },
   "outputs": [
    {
     "name": "stdout",
     "output_type": "stream",
     "text": [
      "[0 1 0 1 0 1 0 1 0 0 0 0 1 0 0 0 1 0 1 1 0 0 0 0 1 1 1 1 0 0 0 0 0 0 1 0 0\n",
      " 1 0 0 0 0 0 0 0 0 1 0 0 1 1 1 1 1 1 0 0 1 0 1 0 0 1 0 0 0 0 0 1 1 1 0 1 1\n",
      " 1 0 1 1 1 0 1 1 1 0 0 0 0 0 0 1 0 0 0 1 1 0 0 1 0 1 1 0 1 0 0 0 0 0 1 0 0\n",
      " 0 0 0 0 0 0 0 1 0 1 1 1 1 0 0 0 0 1 1 1 0 0 1 0 0 1 0 0 1]\n"
     ]
    }
   ],
   "source": [
    "from sklearn.preprocessing import MinMaxScaler\n",
    "from sklearn import svm\n",
    "\n",
    "# (1) Scale the 'training set'\n",
    "scaler = MinMaxScaler()\n",
    "scaled_training_set_features = scaler.fit_transform(training_set_features)\n",
    "# (2) Create the model\n",
    "model = svm.LinearSVC(C=0.1)\n",
    "# (3) Fit the model using the 'training set'\n",
    "model.fit(scaled_training_set_features, training_set_malignant)\n",
    "# (4) Scale the 'test set' using the same scaler as the 'training set'\n",
    "scaled_test_set_features = scaler.transform(test_set_features)\n",
    "# (5) Use the model to predict malignancy the 'test set'\n",
    "test_set_malignant_predictions = model.predict(scaled_test_set_features)\n",
    "print test_set_malignant_predictions"
   ]
  },
  {
   "cell_type": "markdown",
   "metadata": {
    "slideshow": {
     "slide_type": "slide"
    }
   },
   "source": [
    "# Evaluating performance of the model"
   ]
  },
  {
   "cell_type": "code",
   "execution_count": 5,
   "metadata": {
    "collapsed": false,
    "slideshow": {
     "slide_type": "fragment"
    }
   },
   "outputs": [
    {
     "name": "stdout",
     "output_type": "stream",
     "text": [
      "Accuracy: 98.57%\n",
      "True Positives: 53, True Negatives: 85\n",
      "False Positives: 2, False Negatives: 0\n"
     ]
    }
   ],
   "source": [
    "from sklearn import metrics\n",
    "\n",
    "accuracy = metrics.accuracy_score(test_set_malignant, \\\n",
    "                                  test_set_malignant_predictions) * 100\n",
    "((tn, fp), (fn, tp)) = metrics.confusion_matrix(test_set_malignant, \\\n",
    "                                                test_set_malignant_predictions)\n",
    "\n",
    "print \"Accuracy: %.2f%%\" % (accuracy)\n",
    "print \"True Positives: %d, True Negatives: %d\" % (tp, tn)\n",
    "print \"False Positives: %d, False Negatives: %d\" % (fp, fn)"
   ]
  },
  {
   "cell_type": "markdown",
   "metadata": {
    "slideshow": {
     "slide_type": "slide"
    }
   },
   "source": [
    "# Other Common Machine Learning Algorithms\n",
    "\n",
    "* Linear Regression\n",
    "* Logistic Regression\n",
    "* Decision Tree\n",
    "* Neural Networks\n",
    "* Naive Bayes\n",
    "* K-Means\n",
    "* Random Forest\n",
    "* Dimensionality Reduction Algorithms\n"
   ]
  },
  {
   "cell_type": "markdown",
   "metadata": {
    "slideshow": {
     "slide_type": "slide"
    }
   },
   "source": [
    "# Thank You\n",
    "\n",
    "* Looking forward to working with the Chiu lab to evaluate the mNGS SURPI data and create an optimal machine learning solution\n",
    "* Questions or comments, please feel free to contact me at `massie@berkeley.edu`\n"
   ]
  }
 ],
 "metadata": {
  "anaconda-cloud": {},
  "celltoolbar": "Slideshow",
  "kernelspec": {
   "display_name": "Python [default]",
   "language": "python",
   "name": "python2"
  },
  "language_info": {
   "codemirror_mode": {
    "name": "ipython",
    "version": 2
   },
   "file_extension": ".py",
   "mimetype": "text/x-python",
   "name": "python",
   "nbconvert_exporter": "python",
   "pygments_lexer": "ipython2",
   "version": "2.7.12"
  }
 },
 "nbformat": 4,
 "nbformat_minor": 0
}
