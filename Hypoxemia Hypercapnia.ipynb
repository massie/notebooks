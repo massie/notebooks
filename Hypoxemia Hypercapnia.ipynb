{
 "cells": [
  {
   "cell_type": "markdown",
   "metadata": {},
   "source": [
    "# HYPOXEMIA AND HYPERCAPNIA\n",
    "\n",
    "**Objectives**: to understand the diverse ways in which abnormal ventilation and pulmonary circulation can lead to inadequate oxygenation of arterial blood (arterial hypoxemia) and to carbon dioxide retention in the body (hypercapnia or hypercarbia).\n"
   ]
  },
  {
   "cell_type": "code",
   "execution_count": 37,
   "metadata": {
    "collapsed": true
   },
   "outputs": [],
   "source": [
    "def calculate_values(Vt, f, Vd, PACO2, PaO2):\n",
    "    R = 0.8 # constant\n",
    "    Ve = Vt * f\n",
    "    Va = (Vt - Vd) * f\n",
    "    PAO2 = 150 - (PACO2/R)\n",
    "    Aagap = PAO2 - PaO2\n",
    "    return (Ve / 1000.0, Va / 1000.0, PAO2, Aagap)"
   ]
  },
  {
   "cell_type": "code",
   "execution_count": 93,
   "metadata": {
    "collapsed": false
   },
   "outputs": [],
   "source": [
    "def print_info(Vt, f, Vd, PACO2, PaO2, SaO2100, DLCO):\n",
    "    (Ve, Va, PAO2, Aagap) = calculate_values(Vt, f, Vd, PACO2, PaO2)\n",
    "    if Aagap < 15:\n",
    "        print \"No A-a gap - ventilation problem\"\n",
    "        if Ve > 6.0:\n",
    "            print \"Ve (%.2f) is higher than normal\" % (Ve)\n",
    "            if Va < 4.2:\n",
    "                print \"Va (%.2f) is lower than normal\" % (Va)\n",
    "                print \"*** Increased Vd (dead space) ***\"\n",
    "            else:\n",
    "                print \"Va (%.2f) is higher than normal\" % (Va)\n",
    "                print \"*** Hypoxia ***\"\n",
    "        else:\n",
    "            print \"Low Ve (%f) - Insufficient breathing\" % (Ve)\n",
    "    else:\n",
    "        print \"A-a gap (%.2f) - distribution problem\" % (Aagap)\n",
    "        if SaO2100 < 100:\n",
    "            print \"*** Shunt ***\"\n",
    "        else:\n",
    "            if DLCO >= 25 and PAO2 > 100:\n",
    "                print \"*** V/Q mismatch ***\"\n",
    "            else:\n",
    "                print \"*** Diffusion limitation ***\"\n",
    "        "
   ]
  },
  {
   "cell_type": "code",
   "execution_count": 95,
   "metadata": {
    "collapsed": false
   },
   "outputs": [
    {
     "name": "stdout",
     "output_type": "stream",
     "text": [
      "CASE 1: Asthma\n",
      "Quiet breathing\n",
      "No A-a gap - ventilation problem\n",
      "Ve (9.60) is higher than normal\n",
      "Va (7.04) is higher than normal\n",
      "*** Hypoxia ***\n",
      "\n",
      "Asthmatic breathing\n",
      "A-a gap (34.50) - distribution problem\n",
      "*** V/Q mismatch ***\n"
     ]
    }
   ],
   "source": [
    "print \"CASE 1: Asthma\" \n",
    "print \"Quiet breathing\"\n",
    "print_info(600, 16, 160, 38, 95, 100, 38)\n",
    "print \"\\nAsthmatic breathing\"\n",
    "print_info(600, 16, 160, 30, 78, 100, 38)"
   ]
  },
  {
   "cell_type": "code",
   "execution_count": 96,
   "metadata": {
    "collapsed": false
   },
   "outputs": [
    {
     "name": "stdout",
     "output_type": "stream",
     "text": [
      "CASE 2: Pulmonary hemangioma\n",
      "A-a gap (54.00) - distribution problem\n",
      "*** Shunt ***\n"
     ]
    }
   ],
   "source": [
    "print \"CASE 2: Pulmonary hemangioma\"\n",
    "print_info(730, 23, 150, 32, 56, 91, 0)\n"
   ]
  },
  {
   "cell_type": "code",
   "execution_count": 98,
   "metadata": {
    "collapsed": false
   },
   "outputs": [
    {
     "name": "stdout",
     "output_type": "stream",
     "text": [
      "CASE 3: Interstitial Fibrosis\n",
      "A-a gap (55.50) - distribution problem\n",
      "*** Diffusion limitation ***\n"
     ]
    }
   ],
   "source": [
    "print \"CASE 3: Interstitial Fibrosis\"\n",
    "print_info(430, 20, 150, 34, 52, 100, 6)"
   ]
  },
  {
   "cell_type": "code",
   "execution_count": 99,
   "metadata": {
    "collapsed": false
   },
   "outputs": [
    {
     "name": "stdout",
     "output_type": "stream",
     "text": [
      "CASE 4: Obstructive emphysema\n",
      "A-a gap (51.00) - distribution problem\n",
      "*** Diffusion limitation ***\n"
     ]
    }
   ],
   "source": [
    "print \"CASE 4: Obstructive emphysema\"\n",
    "print_info(500, 10, 160, 32, 59, 100, 5.5)"
   ]
  },
  {
   "cell_type": "code",
   "execution_count": 100,
   "metadata": {
    "collapsed": false
   },
   "outputs": [
    {
     "name": "stdout",
     "output_type": "stream",
     "text": [
      "Question 3 Quiz\n",
      "A-a gap (15.50) - distribution problem\n",
      "*** Diffusion limitation ***\n"
     ]
    }
   ],
   "source": [
    "print \"Question 3 Quiz\"\n",
    "print_info(370, 24, 270, 62, 57, 100, 30)"
   ]
  }
 ],
 "metadata": {
  "kernelspec": {
   "display_name": "Python [default]",
   "language": "python",
   "name": "python2"
  },
  "language_info": {
   "codemirror_mode": {
    "name": "ipython",
    "version": 2
   },
   "file_extension": ".py",
   "mimetype": "text/x-python",
   "name": "python",
   "nbconvert_exporter": "python",
   "pygments_lexer": "ipython2",
   "version": "2.7.13"
  }
 },
 "nbformat": 4,
 "nbformat_minor": 2
}
