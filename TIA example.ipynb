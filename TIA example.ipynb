{
 "cells": [
  {
   "cell_type": "code",
   "execution_count": 18,
   "id": "822643b4",
   "metadata": {},
   "outputs": [],
   "source": [
    "from ipywidgets import interact, widgets\n",
    "import jinja2\n",
    "#import pypandoc"
   ]
  },
  {
   "cell_type": "code",
   "execution_count": 23,
   "id": "461fb7e1",
   "metadata": {},
   "outputs": [
    {
     "data": {
      "application/vnd.jupyter.widget-view+json": {
       "model_id": "5e95315d7a5b439f9408f80725cbb545",
       "version_major": 2,
       "version_minor": 0
      },
      "text/plain": [
       "interactive(children=(IntSlider(value=0, description='ABCD2', max=7), Output()), _dom_classes=('widget-interac…"
      ]
     },
     "metadata": {},
     "output_type": "display_data"
    }
   ],
   "source": [
    "environment = jinja2.Environment()\n",
    "template = environment.from_string(\"\"\"\n",
    "CT head and CTA without evidence of hemorrhage nor \n",
    "vessel occlusion.  At this time, differential diagnosis \n",
    "include TIA, syncope, migraine, systemic disturbance \n",
    "(including infectious, toxic, or metabolic etiology), or \n",
    "exacerbation of disequilibrium and imbalance. Recommend \n",
    "TIA workup (as below). ABCD2 score {{ABCD2}}. \n",
    "{% if risk == \"high\" %}\n",
    "Given high-risk would recommend dual anti-platelet for \n",
    "21 days then aspirin 81mg daily afterwards according to \n",
    "POINT/CHANCE trial. Patient should also have other vascular \n",
    "risk factor reduction.\n",
    "{%endif%}\n",
    "\n",
    "PLAN: \n",
    "\n",
    "#TIA, ABCD2 score of {{ABCD2}}, {{risk}} risk\n",
    "- TIA Obs pathway with telemetry\n",
    "- Echocardiogram with bubble\n",
    "- MRI Brain without contrast (stroke protocol)\n",
    "   o If MRI negative, no further inpatient neurologic workup\n",
    "   o If MRI positive, please page Neurology for further recommendations\n",
    "- HgbA1c, Lipid panel, INR, and PTT\n",
    "- Normotensive BP goal (110-130/60-80)\n",
    "{% if risk == \"high\" %}- Plan for prevention of stroke: \n",
    "    o ASA/Plavix\n",
    "    o Atorvastatin{%endif%}\n",
    "\"\"\")\n",
    "                                   \n",
    "@interact(ABCD2=widgets.IntSlider(min=0, max=7, step=1, value=0))\n",
    "def update_template(ABCD2):\n",
    "    if ABCD2 <= 3:\n",
    "        risk = \"low\"\n",
    "    elif ABCD2 <= 5:\n",
    "        risk = \"moderate\"\n",
    "    else:\n",
    "        risk = \"high\"\n",
    "    print(template.render(ABCD2=ABCD2, risk=risk))\n",
    "    #print(pypandoc.convert_text(text, 'plain+smart', format='md'))#, extra_args=[\"--smart\"]))\n"
   ]
  },
  {
   "cell_type": "code",
   "execution_count": null,
   "id": "9d3ac238",
   "metadata": {},
   "outputs": [],
   "source": []
  }
 ],
 "metadata": {
  "kernelspec": {
   "display_name": "Python 3 (ipykernel)",
   "language": "python",
   "name": "python3"
  },
  "language_info": {
   "codemirror_mode": {
    "name": "ipython",
    "version": 3
   },
   "file_extension": ".py",
   "mimetype": "text/x-python",
   "name": "python",
   "nbconvert_exporter": "python",
   "pygments_lexer": "ipython3",
   "version": "3.10.6"
  }
 },
 "nbformat": 4,
 "nbformat_minor": 5
}
