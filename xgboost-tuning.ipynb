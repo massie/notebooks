{
 "cells": [
  {
   "cell_type": "code",
   "execution_count": 1,
   "metadata": {
    "collapsed": false
   },
   "outputs": [],
   "source": [
    "from sklearn.datasets import load_svmlight_file\n",
    "\n",
    "data_dir=\"/workspace/chipper_data/chipper-0.3.0-data/\"\n",
    "\n",
    "train_data = load_svmlight_file(data_dir + \"training_data.ll\")\n",
    "X_train = train_data[0].toarray()\n",
    "y_train = train_data[1]\n",
    "\n",
    "test_data = load_svmlight_file(data_dir + \"testing_data.ll\")\n",
    "X_test = test_data[0].toarray()\n",
    "y_test = test_data[1]"
   ]
  },
  {
   "cell_type": "code",
   "execution_count": null,
   "metadata": {
    "collapsed": true
   },
   "outputs": [],
   "source": [
    "import xgboost as xgb\n",
    "from xgboost import XGBClassifier\n",
    "from sklearn.model_selection import GridSearchCV, StratifiedKFold\n",
    "from sklearn.metrics import classification_report, confusion_matrix, accuracy_score, matthews_corrcoef\n",
    "\n",
    "model = XGBClassifier(objective=\"binary:logistic\")\n",
    "# Number of boosted trees to fit.\n",
    "n_estimators = [500] # range(50, 500, 50)\n",
    "# Maximum tree depth for base learners.\n",
    "max_depth = [10] #range(1, 11, 2)\n",
    "param_grid = dict(max_depth=max_depth, n_estimators=n_estimators)\n",
    "kfold = StratifiedKFold(n_splits=10, shuffle=True, random_state=7)\n",
    "grid_search = GridSearchCV(model, param_grid, scoring=\"neg_log_loss\", \n",
    "                           n_jobs=1, cv=kfold, verbose=1)\n",
    "grid_result = grid_search.fit(X_train, y_train)\n",
    "\n",
    "# summarize results\n",
    "print(\"Best: %f using %s\" % (grid_result.best_score_, grid_result.best_params_))\n",
    "means = grid_result.cv_results_['mean_test_score']\n",
    "stds = grid_result.cv_results_['std_test_score']\n",
    "params = grid_result.cv_results_['params']\n",
    "for mean, stdev, param in zip(means, stds, params):\n",
    "    print(\"%f (%f) with: %r\" % (mean, stdev, param))"
   ]
  },
  {
   "cell_type": "code",
   "execution_count": 5,
   "metadata": {
    "collapsed": false,
    "scrolled": false
   },
   "outputs": [
    {
     "data": {
      "text/plain": [
       "<matplotlib.text.Text at 0x112783950>"
      ]
     },
     "execution_count": 5,
     "metadata": {},
     "output_type": "execute_result"
    },
    {
     "data": {
      "image/png": "[encoded data removed]",
      "text/plain": [
       "<matplotlib.figure.Figure at 0x112738ad0>"
      ]
     },
     "metadata": {},
     "output_type": "display_data"
    }
   ],
   "source": [
    "import numpy as np\n",
    "from matplotlib import pyplot\n",
    "\n",
    "# plot results\n",
    "%matplotlib inline\n",
    "\n",
    "\n",
    "scores = np.array(means).reshape(len(max_depth), len(n_estimators))\n",
    "for i, value in enumerate(max_depth):\n",
    "    pyplot.plot(n_estimators, scores[i], label='depth: ' + str(value))\n",
    "pyplot.legend()\n",
    "pyplot.xlabel('n_estimators')\n",
    "pyplot.ylabel('Log Loss')"
   ]
  },
  {
   "cell_type": "code",
   "execution_count": 7,
   "metadata": {
    "collapsed": false
   },
   "outputs": [],
   "source": [
    "# save model to file\n",
    "import pickle\n",
    "pickle.dump(grid_result, open(\"/tmp/grid_result.txt\", \"wb\"))\n"
   ]
  },
  {
   "cell_type": "code",
   "execution_count": null,
   "metadata": {
    "collapsed": true
   },
   "outputs": [],
   "source": [
    "# load model from file\n",
    "#loaded_model = pickle.load(open(\"pima.pickle.dat\", \"rb\"))"
   ]
  },
  {
   "cell_type": "code",
   "execution_count": null,
   "metadata": {
    "collapsed": true
   },
   "outputs": [],
   "source": [
    "#xgboost.plot_importance(grid_result.best_estimator_.booster)"
   ]
  },
  {
   "cell_type": "code",
   "execution_count": 8,
   "metadata": {
    "collapsed": false
   },
   "outputs": [
    {
     "name": "stdout",
     "output_type": "stream",
     "text": [
      "Accuracy was 80.29%\n",
      "\n",
      "             precision    recall  f1-score   support\n",
      "\n",
      "        0.0       0.79      0.82      0.81       208\n",
      "        1.0       0.81      0.79      0.80       208\n",
      "\n",
      "avg / total       0.80      0.80      0.80       416\n",
      "\n",
      "sensitivity(recall)=78.8, specificity=81.7, precision=81.2\n"
     ]
    }
   ],
   "source": [
    "# make predictions\n",
    "predicted = grid_result.predict(X_test)\n",
    "\n",
    "print \"Accuracy was %.2f%%\\n\" % (100 * accuracy_score(y_test, predicted))\n",
    "print classification_report(y_test, predicted)\n",
    "((tn, fp), (fn, tp)) = confusion_matrix(y_test, predicted)\n",
    "sensitivity = 100.0 * tp / (tp + fn)\n",
    "specificity = 100.0 * tn / (tn + fp)\n",
    "precision = 100.0 * tp / (tp + fp)\n",
    "print \"sensitivity(recall)=%.1f, specificity=%.1f, precision=%.1f\" % (sensitivity, specificity, precision)"
   ]
  }
 ],
 "metadata": {
  "anaconda-cloud": {},
  "kernelspec": {
   "display_name": "Python [conda root]",
   "language": "python",
   "name": "conda-root-py"
  },
  "language_info": {
   "codemirror_mode": {
    "name": "ipython",
    "version": 2
   },
   "file_extension": ".py",
   "mimetype": "text/x-python",
   "name": "python",
   "nbconvert_exporter": "python",
   "pygments_lexer": "ipython2",
   "version": "2.7.12"
  }
 },
 "nbformat": 4,
 "nbformat_minor": 1
}
