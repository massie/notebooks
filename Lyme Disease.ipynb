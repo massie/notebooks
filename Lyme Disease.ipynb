{
 "cells": [
  {
   "cell_type": "code",
   "execution_count": 1,
   "metadata": {
    "collapsed": true
   },
   "outputs": [],
   "source": [
    "import matplotlib.pyplot as plt\n",
    "import pandas as pd\n",
    "from sklearn.model_selection import train_test_split, cross_val_score, GridSearchCV\n",
    "from sklearn.linear_model import LogisticRegression\n",
    "from sklearn.svm import LinearSVC\n",
    "from sklearn.feature_selection import RFECV, RFE\n",
    "\n",
    "random_state = 7"
   ]
  },
  {
   "cell_type": "code",
   "execution_count": 2,
   "metadata": {
    "collapsed": false,
    "scrolled": false
   },
   "outputs": [
    {
     "name": "stdout",
     "output_type": "stream",
     "text": [
      "Complete data set has 190 samples (60 w/Lyme) and 86 features.\n",
      "Training set has 152 samples. Testing set has 38 samples.\n"
     ]
    }
   ],
   "source": [
    "df = pd.DataFrame.from_csv(\"Lyme86genes215samples.txt\", sep=\"\\s+\").T\n",
    "df.replace(to_replace={'Disease': {\"Lyme\": 1, \"Others\": 0}}, inplace=True)\n",
    "\n",
    "# Only use PBMC samples\n",
    "df = df[df.Sampletype == \"PBMC\"]\n",
    "\n",
    "# Remove columns that are not features\n",
    "X = df.drop([\"Disease\", \"Sampletype\", \"Serology\"], axis=1)\n",
    "y = df['Disease']\n",
    "\n",
    "print \"Complete data set has %d samples (%d w/Lyme) and %d features.\" % \\\n",
    "                (X.shape[0], y[y == 1].count(), X.shape[1])\n",
    "X_train, X_test, y_train, y_test = train_test_split(X, y, test_size=0.2, \n",
    "                                                    random_state=random_state, \n",
    "                                                    stratify=y)\n",
    "print \"Training set has %d samples. Testing set has %d samples.\" % (len(X_train), len(X_test))"
   ]
  },
  {
   "cell_type": "code",
   "execution_count": 3,
   "metadata": {
    "collapsed": false
   },
   "outputs": [
    {
     "name": "stdout",
     "output_type": "stream",
     "text": [
      "Fitting 3 folds for each of 29 candidates, totalling 87 fits\n"
     ]
    },
    {
     "name": "stderr",
     "output_type": "stream",
     "text": [
      "[Parallel(n_jobs=8)]: Done  34 tasks      | elapsed:   16.5s\n",
      "[Parallel(n_jobs=8)]: Done  87 out of  87 | elapsed:   44.0s finished\n"
     ]
    },
    {
     "name": "stdout",
     "output_type": "stream",
     "text": [
      "Best: 0.828947 using {'estimator__C': 7.62939453125e-06}\n",
      "0.743421 (0.041084) with: {'estimator__C': 2.9802322387695312e-08}\n",
      "0.730263 (0.026588) with: {'estimator__C': 5.960464477539063e-08}\n",
      "0.736842 (0.019926) with: {'estimator__C': 1.1920928955078125e-07}\n",
      "0.736842 (0.051145) with: {'estimator__C': 2.384185791015625e-07}\n",
      "0.763158 (0.044103) with: {'estimator__C': 4.76837158203125e-07}\n",
      "0.796053 (0.049480) with: {'estimator__C': 9.5367431640625e-07}\n",
      "0.815789 (0.034762) with: {'estimator__C': 1.9073486328125e-06}\n",
      "0.776316 (0.075383) with: {'estimator__C': 3.814697265625e-06}\n",
      "0.828947 (0.010185) with: {'estimator__C': 7.62939453125e-06}\n",
      "0.815789 (0.019499) with: {'estimator__C': 1.52587890625e-05}\n",
      "0.822368 (0.014727) with: {'estimator__C': 3.0517578125e-05}\n",
      "0.815789 (0.011055) with: {'estimator__C': 6.103515625e-05}\n",
      "0.796053 (0.034895) with: {'estimator__C': 0.0001220703125}\n",
      "0.802632 (0.069093) with: {'estimator__C': 0.000244140625}\n",
      "0.743421 (0.056975) with: {'estimator__C': 0.00048828125}\n",
      "0.756579 (0.031444) with: {'estimator__C': 0.0009765625}\n",
      "0.736842 (0.076745) with: {'estimator__C': 0.001953125}\n",
      "0.809211 (0.032330) with: {'estimator__C': 0.00390625}\n",
      "0.769737 (0.032918) with: {'estimator__C': 0.0078125}\n",
      "0.782895 (0.056666) with: {'estimator__C': 0.015625}\n",
      "0.736842 (0.078342) with: {'estimator__C': 0.03125}\n",
      "0.776316 (0.093487) with: {'estimator__C': 0.0625}\n",
      "0.703947 (0.048266) with: {'estimator__C': 0.125}\n",
      "0.796053 (0.064088) with: {'estimator__C': 0.25}\n",
      "0.776316 (0.039429) with: {'estimator__C': 0.5}\n",
      "0.809211 (0.048775) with: {'estimator__C': 1}\n",
      "0.782895 (0.048230) with: {'estimator__C': 2}\n",
      "0.809211 (0.026005) with: {'estimator__C': 4}\n",
      "0.802632 (0.014573) with: {'estimator__C': 8}\n"
     ]
    }
   ],
   "source": [
    "def print_gridsearch_results(clf):\n",
    "    print(\"Best: %f using %s\" % (clf.best_score_, clf.best_params_))\n",
    "    means = clf.cv_results_['mean_test_score']\n",
    "    stds = clf.cv_results_['std_test_score']\n",
    "    params = clf.cv_results_['params']\n",
    "    for mean, stdev, param in zip(means, stds, params):\n",
    "        print(\"%f (%f) with: %r\" % (mean, stdev, param))\n",
    "\n",
    "parameters={'estimator__C': [pow(2, i) for i in xrange(-25, 4, 1)]}\n",
    "#est = LogisticRegression(class_weight=\"balanced\")\n",
    "est = LinearSVC(dual=True, class_weight=\"balanced\")\n",
    "scoring = \"accuracy\"\n",
    "rfe = RFECV(cv=5, estimator=est, n_jobs=1, scoring=scoring, step=1, verbose=0)\n",
    "clf = GridSearchCV(rfe, parameters, scoring=scoring, n_jobs=8, cv=3, verbose=1)\n",
    "clf.fit(X_train, y_train)\n",
    "print_gridsearch_results(clf)"
   ]
  },
  {
   "cell_type": "code",
   "execution_count": 4,
   "metadata": {
    "collapsed": false
   },
   "outputs": [
    {
     "name": "stdout",
     "output_type": "stream",
     "text": [
      "Optimal number of features : 40\n",
      "Recursive Feature Elimination (RFE) eliminated 46 features\n"
     ]
    },
    {
     "data": {
      "image/png": "[encoded data removed]",
      "text/plain": [
       "<matplotlib.figure.Figure at 0x11bb6a050>"
      ]
     },
     "metadata": {},
     "output_type": "display_data"
    }
   ],
   "source": [
    "best_estimator = clf.best_estimator_\n",
    "\n",
    "print(\"Optimal number of features : %d\" % best_estimator.n_features_)\n",
    "print(\"Recursive Feature Elimination (RFE) eliminated %d features\" % (X_train.shape[1] - best_estimator.n_features_))\n",
    "\n",
    "# Plot number of features VS. cross-validation scores\n",
    "plt.figure()\n",
    "plt.xlabel(\"Number of feature subsets selected\")\n",
    "plt.ylabel(\"Cross validation score\")\n",
    "plt.plot(range(1, len(best_estimator.grid_scores_) + 1), best_estimator.grid_scores_)\n",
    "plt.show()"
   ]
  },
  {
   "cell_type": "code",
   "execution_count": 5,
   "metadata": {
    "collapsed": false
   },
   "outputs": [
    {
     "data": {
      "text/html": [
       "\n",
       "<h2>List of 40 genes found by RFE</h2>\n",
       "<p>Note: the NCBI link will open the target in a new window or tab.</p>\n",
       "<table>\n",
       "<tr></tr><tr>\n",
       "    <td><a target=\"_blank\" href=\"https://www.ncbi.nlm.nih.gov/gene/?term=ANPEP[Gene Name] AND Human[Organism]\">ANPEP</a></td>\n",
       "    \n",
       "    <td><a target=\"_blank\" href=\"https://www.ncbi.nlm.nih.gov/gene/?term=ANXA5[Gene Name] AND Human[Organism]\">ANXA5</a></td>\n",
       "    \n",
       "    <td><a target=\"_blank\" href=\"https://www.ncbi.nlm.nih.gov/gene/?term=ASPM[Gene Name] AND Human[Organism]\">ASPM</a></td>\n",
       "    \n",
       "    <td><a target=\"_blank\" href=\"https://www.ncbi.nlm.nih.gov/gene/?term=C3orf14[Gene Name] AND Human[Organism]\">C3orf14</a></td>\n",
       "    \n",
       "    <td><a target=\"_blank\" href=\"https://www.ncbi.nlm.nih.gov/gene/?term=CASC5[Gene Name] AND Human[Organism]\">CASC5</a></td>\n",
       "    \n",
       "    <td><a target=\"_blank\" href=\"https://www.ncbi.nlm.nih.gov/gene/?term=CASP1[Gene Name] AND Human[Organism]\">CASP1</a></td>\n",
       "    \n",
       "    <td><a target=\"_blank\" href=\"https://www.ncbi.nlm.nih.gov/gene/?term=CCDC130[Gene Name] AND Human[Organism]\">CCDC130</a></td>\n",
       "    \n",
       "    <td><a target=\"_blank\" href=\"https://www.ncbi.nlm.nih.gov/gene/?term=CCNB1[Gene Name] AND Human[Organism]\">CCNB1</a></td>\n",
       "    \n",
       "    <td><a target=\"_blank\" href=\"https://www.ncbi.nlm.nih.gov/gene/?term=CD55[Gene Name] AND Human[Organism]\">CD55</a></td>\n",
       "    \n",
       "    <td><a target=\"_blank\" href=\"https://www.ncbi.nlm.nih.gov/gene/?term=CDCA2[Gene Name] AND Human[Organism]\">CDCA2</a></td>\n",
       "    </tr><tr>\n",
       "    <td><a target=\"_blank\" href=\"https://www.ncbi.nlm.nih.gov/gene/?term=CKAP4[Gene Name] AND Human[Organism]\">CKAP4</a></td>\n",
       "    \n",
       "    <td><a target=\"_blank\" href=\"https://www.ncbi.nlm.nih.gov/gene/?term=CR1[Gene Name] AND Human[Organism]\">CR1</a></td>\n",
       "    \n",
       "    <td><a target=\"_blank\" href=\"https://www.ncbi.nlm.nih.gov/gene/?term=CXCL10[Gene Name] AND Human[Organism]\">CXCL10</a></td>\n",
       "    \n",
       "    <td><a target=\"_blank\" href=\"https://www.ncbi.nlm.nih.gov/gene/?term=DRAM1[Gene Name] AND Human[Organism]\">DRAM1</a></td>\n",
       "    \n",
       "    <td><a target=\"_blank\" href=\"https://www.ncbi.nlm.nih.gov/gene/?term=EIF2D[Gene Name] AND Human[Organism]\">EIF2D</a></td>\n",
       "    \n",
       "    <td><a target=\"_blank\" href=\"https://www.ncbi.nlm.nih.gov/gene/?term=FPR2[Gene Name] AND Human[Organism]\">FPR2</a></td>\n",
       "    \n",
       "    <td><a target=\"_blank\" href=\"https://www.ncbi.nlm.nih.gov/gene/?term=GBP2[Gene Name] AND Human[Organism]\">GBP2</a></td>\n",
       "    \n",
       "    <td><a target=\"_blank\" href=\"https://www.ncbi.nlm.nih.gov/gene/?term=GBP4[Gene Name] AND Human[Organism]\">GBP4</a></td>\n",
       "    \n",
       "    <td><a target=\"_blank\" href=\"https://www.ncbi.nlm.nih.gov/gene/?term=HMBS[Gene Name] AND Human[Organism]\">HMBS</a></td>\n",
       "    \n",
       "    <td><a target=\"_blank\" href=\"https://www.ncbi.nlm.nih.gov/gene/?term=ICAM1[Gene Name] AND Human[Organism]\">ICAM1</a></td>\n",
       "    </tr><tr>\n",
       "    <td><a target=\"_blank\" href=\"https://www.ncbi.nlm.nih.gov/gene/?term=IFRD1[Gene Name] AND Human[Organism]\">IFRD1</a></td>\n",
       "    \n",
       "    <td><a target=\"_blank\" href=\"https://www.ncbi.nlm.nih.gov/gene/?term=ITGB7[Gene Name] AND Human[Organism]\">ITGB7</a></td>\n",
       "    \n",
       "    <td><a target=\"_blank\" href=\"https://www.ncbi.nlm.nih.gov/gene/?term=KCNJ2[Gene Name] AND Human[Organism]\">KCNJ2</a></td>\n",
       "    \n",
       "    <td><a target=\"_blank\" href=\"https://www.ncbi.nlm.nih.gov/gene/?term=LDLR[Gene Name] AND Human[Organism]\">LDLR</a></td>\n",
       "    \n",
       "    <td><a target=\"_blank\" href=\"https://www.ncbi.nlm.nih.gov/gene/?term=MLF1IP[Gene Name] AND Human[Organism]\">MLF1IP</a></td>\n",
       "    \n",
       "    <td><a target=\"_blank\" href=\"https://www.ncbi.nlm.nih.gov/gene/?term=NCF1[Gene Name] AND Human[Organism]\">NCF1</a></td>\n",
       "    \n",
       "    <td><a target=\"_blank\" href=\"https://www.ncbi.nlm.nih.gov/gene/?term=NUSAP1[Gene Name] AND Human[Organism]\">NUSAP1</a></td>\n",
       "    \n",
       "    <td><a target=\"_blank\" href=\"https://www.ncbi.nlm.nih.gov/gene/?term=OAS2[Gene Name] AND Human[Organism]\">OAS2</a></td>\n",
       "    \n",
       "    <td><a target=\"_blank\" href=\"https://www.ncbi.nlm.nih.gov/gene/?term=RAB12[Gene Name] AND Human[Organism]\">RAB12</a></td>\n",
       "    \n",
       "    <td><a target=\"_blank\" href=\"https://www.ncbi.nlm.nih.gov/gene/?term=RRM2[Gene Name] AND Human[Organism]\">RRM2</a></td>\n",
       "    </tr><tr>\n",
       "    <td><a target=\"_blank\" href=\"https://www.ncbi.nlm.nih.gov/gene/?term=SOCS3[Gene Name] AND Human[Organism]\">SOCS3</a></td>\n",
       "    \n",
       "    <td><a target=\"_blank\" href=\"https://www.ncbi.nlm.nih.gov/gene/?term=SORT1[Gene Name] AND Human[Organism]\">SORT1</a></td>\n",
       "    \n",
       "    <td><a target=\"_blank\" href=\"https://www.ncbi.nlm.nih.gov/gene/?term=SPAG5[Gene Name] AND Human[Organism]\">SPAG5</a></td>\n",
       "    \n",
       "    <td><a target=\"_blank\" href=\"https://www.ncbi.nlm.nih.gov/gene/?term=STEAP4[Gene Name] AND Human[Organism]\">STEAP4</a></td>\n",
       "    \n",
       "    <td><a target=\"_blank\" href=\"https://www.ncbi.nlm.nih.gov/gene/?term=SYTL1[Gene Name] AND Human[Organism]\">SYTL1</a></td>\n",
       "    \n",
       "    <td><a target=\"_blank\" href=\"https://www.ncbi.nlm.nih.gov/gene/?term=TLR2[Gene Name] AND Human[Organism]\">TLR2</a></td>\n",
       "    \n",
       "    <td><a target=\"_blank\" href=\"https://www.ncbi.nlm.nih.gov/gene/?term=TNFSF13B[Gene Name] AND Human[Organism]\">TNFSF13B</a></td>\n",
       "    \n",
       "    <td><a target=\"_blank\" href=\"https://www.ncbi.nlm.nih.gov/gene/?term=TYMP[Gene Name] AND Human[Organism]\">TYMP</a></td>\n",
       "    \n",
       "    <td><a target=\"_blank\" href=\"https://www.ncbi.nlm.nih.gov/gene/?term=ZNF276[Gene Name] AND Human[Organism]\">ZNF276</a></td>\n",
       "    \n",
       "    <td><a target=\"_blank\" href=\"https://www.ncbi.nlm.nih.gov/gene/?term=ZNF384[Gene Name] AND Human[Organism]\">ZNF384</a></td>\n",
       "    </tr></table>"
      ],
      "text/plain": [
       "<IPython.core.display.HTML object>"
      ]
     },
     "metadata": {},
     "output_type": "display_data"
    }
   ],
   "source": [
    "from IPython.core.display import display, HTML\n",
    "\n",
    "rfe_features = []\n",
    "for (rank, name) in zip(best_estimator.ranking_, X.columns):\n",
    "    if rank == 1:\n",
    "        rfe_features.append(name)\n",
    "\n",
    "s=\"\"\"\n",
    "<h2>List of %d genes found by RFE</h2>\n",
    "<p>Note: the NCBI link will open the target in a new window or tab.</p>\n",
    "<table>\n",
    "\"\"\" % (best_estimator.n_features_)\n",
    "\n",
    "ncbi_url = lambda gene: \"https://www.ncbi.nlm.nih.gov/gene/?term=%s[Gene Name] AND Human[Organism]\" % (gene)\n",
    "\n",
    "s += \"<tr>\"\n",
    "for (i, gene) in enumerate(rfe_features):\n",
    "    if not i % 10:\n",
    "        s += \"</tr><tr>\"\n",
    "    s += \"\"\"\n",
    "    <td><a target=\\\"_blank\\\" href=\\\"%s\\\">%s</a></td>\n",
    "    \"\"\" %(ncbi_url(gene), gene)\n",
    "s += \"</tr></table>\"\n",
    "\n",
    "display(HTML(s))"
   ]
  },
  {
   "cell_type": "code",
   "execution_count": 6,
   "metadata": {
    "collapsed": false
   },
   "outputs": [
    {
     "name": "stdout",
     "output_type": "stream",
     "text": [
      "None\n"
     ]
    },
    {
     "data": {
      "image/png": "[encoded data removed]",
      "text/plain": [
       "<matplotlib.figure.Figure at 0x11f32ae50>"
      ]
     },
     "metadata": {},
     "output_type": "display_data"
    }
   ],
   "source": [
    "%matplotlib inline\n",
    "from learning_curves import plot_learning_curve\n",
    "import matplotlib.pyplot as plt\n",
    "from sklearn.model_selection import StratifiedShuffleSplit\n",
    "\n",
    "def create_learning_curve(title, model):\n",
    "    cv = StratifiedShuffleSplit(n_splits=5, test_size=0.2, random_state=random_state)                                     \n",
    "    plot_learning_curve(model, title, X, y, (0.2, 1.01), cv=cv, n_jobs=1)\n",
    "    \n",
    "create_learning_curve(\"Learning Curves\", est)\n",
    "\n",
    "plt.show()"
   ]
  },
  {
   "cell_type": "code",
   "execution_count": 7,
   "metadata": {
    "collapsed": false
   },
   "outputs": [
    {
     "name": "stdout",
     "output_type": "stream",
     "text": [
      "Accuracy was 84.21%\n",
      "\n",
      "             precision    recall  f1-score   support\n",
      "\n",
      "    Control       0.92      0.85      0.88        26\n",
      "       Lyme       0.71      0.83      0.77        12\n",
      "\n",
      "avg / total       0.85      0.84      0.85        38\n",
      "\n",
      "Confusion Matrix: cols = predictions, rows = actual\n",
      "\n",
      "                       Control           Lyme\n",
      "        Control             22              4\n",
      "           Lyme              2             10\n"
     ]
    }
   ],
   "source": [
    "from classification_metrics import classification_metrics\n",
    "\n",
    "est_predicted = clf.predict(X_test)\n",
    "classification_metrics(y_test, est_predicted, [\"Control\", \"Lyme\"])"
   ]
  }
 ],
 "metadata": {
  "kernelspec": {
   "display_name": "Python [default]",
   "language": "python",
   "name": "python2"
  },
  "language_info": {
   "codemirror_mode": {
    "name": "ipython",
    "version": 2
   },
   "file_extension": ".py",
   "mimetype": "text/x-python",
   "name": "python",
   "nbconvert_exporter": "python",
   "pygments_lexer": "ipython2",
   "version": "2.7.13"
  }
 },
 "nbformat": 4,
 "nbformat_minor": 2
}
