{
 "cells": [
  {
   "cell_type": "code",
   "execution_count": 1,
   "metadata": {
    "collapsed": true
   },
   "outputs": [],
   "source": [
    "import matplotlib.pyplot as plt\n",
    "import pandas as pd\n",
    "from sklearn.model_selection import train_test_split, cross_val_score, GridSearchCV\n",
    "from sklearn.linear_model import LogisticRegression\n",
    "from sklearn.svm import LinearSVC\n",
    "from sklearn.feature_selection import RFECV, RFE\n",
    "\n",
    "random_state = 7"
   ]
  },
  {
   "cell_type": "code",
   "execution_count": 2,
   "metadata": {
    "collapsed": false
   },
   "outputs": [
    {
     "name": "stdout",
     "output_type": "stream",
     "text": [
      "Complete data set has 215 samples (67 w/Lyme) and 86 features.\n",
      "Training set has 172 samples. Testing set has 43 samples.\n"
     ]
    }
   ],
   "source": [
    "df = pd.DataFrame.from_csv(\"Lyme86genes215samples.txt\", sep=\"\\s+\").T\n",
    "df.replace(to_replace={'Disease': {\"Lyme\": 1, \"Others\": 0}}, inplace=True)\n",
    "\n",
    "X = df.drop([\"Disease\", \"Sampletype\", \"Serology\"], axis=1)\n",
    "y = df['Disease']\n",
    "\n",
    "print \"Complete data set has %d samples (%d w/Lyme) and %d features.\" % \\\n",
    "                (X.shape[0], y[y == 1].count(), X.shape[1])\n",
    "X_train, X_test, y_train, y_test = train_test_split(X, y, test_size=0.2, \n",
    "                                                    random_state=random_state, \n",
    "                                                    stratify=y)\n",
    "print \"Training set has %d samples. Testing set has %d samples.\" % (len(X_train), len(X_test))"
   ]
  },
  {
   "cell_type": "code",
   "execution_count": 3,
   "metadata": {
    "collapsed": false
   },
   "outputs": [
    {
     "name": "stdout",
     "output_type": "stream",
     "text": [
      "Fitting 3 folds for each of 29 candidates, totalling 87 fits\n"
     ]
    },
    {
     "name": "stderr",
     "output_type": "stream",
     "text": [
      "[Parallel(n_jobs=8)]: Done  34 tasks      | elapsed:   16.6s\n",
      "[Parallel(n_jobs=8)]: Done  87 out of  87 | elapsed:   45.7s finished\n"
     ]
    },
    {
     "name": "stdout",
     "output_type": "stream",
     "text": [
      "Best: 0.831395 using {'estimator__C': 1.1920928955078125e-07}\n",
      "0.819767 (0.022138) with: {'estimator__C': 2.9802322387695312e-08}\n",
      "0.813953 (0.023151) with: {'estimator__C': 5.960464477539063e-08}\n",
      "0.831395 (0.009581) with: {'estimator__C': 1.1920928955078125e-07}\n",
      "0.813953 (0.021578) with: {'estimator__C': 2.384185791015625e-07}\n",
      "0.761628 (0.007457) with: {'estimator__C': 4.76837158203125e-07}\n",
      "0.790698 (0.001716) with: {'estimator__C': 9.5367431640625e-07}\n",
      "0.784884 (0.033850) with: {'estimator__C': 1.9073486328125e-06}\n",
      "0.813953 (0.032205) with: {'estimator__C': 3.814697265625e-06}\n",
      "0.796512 (0.021562) with: {'estimator__C': 7.62939453125e-06}\n",
      "0.784884 (0.043329) with: {'estimator__C': 1.52587890625e-05}\n",
      "0.779070 (0.050042) with: {'estimator__C': 3.0517578125e-05}\n",
      "0.779070 (0.050042) with: {'estimator__C': 6.103515625e-05}\n",
      "0.750000 (0.037473) with: {'estimator__C': 0.0001220703125}\n",
      "0.767442 (0.046594) with: {'estimator__C': 0.000244140625}\n",
      "0.779070 (0.072112) with: {'estimator__C': 0.00048828125}\n",
      "0.779070 (0.072112) with: {'estimator__C': 0.0009765625}\n",
      "0.744186 (0.035763) with: {'estimator__C': 0.001953125}\n",
      "0.790698 (0.037242) with: {'estimator__C': 0.00390625}\n",
      "0.755814 (0.051995) with: {'estimator__C': 0.0078125}\n",
      "0.744186 (0.055258) with: {'estimator__C': 0.015625}\n",
      "0.744186 (0.042255) with: {'estimator__C': 0.03125}\n",
      "0.773256 (0.051956) with: {'estimator__C': 0.0625}\n",
      "0.744186 (0.030364) with: {'estimator__C': 0.125}\n",
      "0.790698 (0.042883) with: {'estimator__C': 0.25}\n",
      "0.744186 (0.054859) with: {'estimator__C': 0.5}\n",
      "0.767442 (0.071186) with: {'estimator__C': 1}\n",
      "0.767442 (0.059992) with: {'estimator__C': 2}\n",
      "0.779070 (0.050042) with: {'estimator__C': 4}\n",
      "0.773256 (0.051956) with: {'estimator__C': 8}\n"
     ]
    }
   ],
   "source": [
    "def print_gridsearch_results(clf):\n",
    "    print(\"Best: %f using %s\" % (clf.best_score_, clf.best_params_))\n",
    "    means = clf.cv_results_['mean_test_score']\n",
    "    stds = clf.cv_results_['std_test_score']\n",
    "    params = clf.cv_results_['params']\n",
    "    for mean, stdev, param in zip(means, stds, params):\n",
    "        print(\"%f (%f) with: %r\" % (mean, stdev, param))\n",
    "\n",
    "parameters={'estimator__C': [pow(2, i) for i in xrange(-25, 4, 1)]}\n",
    "#est = LogisticRegression(class_weight=\"balanced\")\n",
    "est = LinearSVC(dual=True, class_weight=\"balanced\")\n",
    "rfe = RFECV(cv=5, estimator=est, n_jobs=1, scoring='accuracy', step=1, verbose=0)\n",
    "clf = GridSearchCV(rfe, parameters, scoring='accuracy', n_jobs=8, cv=3, verbose=1)\n",
    "clf.fit(X_train, y_train)\n",
    "print_gridsearch_results(clf)"
   ]
  },
  {
   "cell_type": "code",
   "execution_count": 4,
   "metadata": {
    "collapsed": false
   },
   "outputs": [
    {
     "name": "stdout",
     "output_type": "stream",
     "text": [
      "Optimal number of features : 7\n",
      "Recursive Feature Elimination (RFE) eliminated 79 features\n"
     ]
    },
    {
     "data": {
      "image/png": "[encoded data removed]",
      "text/plain": [
       "<matplotlib.figure.Figure at 0x10d2b5c10>"
      ]
     },
     "metadata": {},
     "output_type": "display_data"
    }
   ],
   "source": [
    "best_estimator = clf.best_estimator_\n",
    "\n",
    "print(\"Optimal number of features : %d\" % best_estimator.n_features_)\n",
    "print(\"Recursive Feature Elimination (RFE) eliminated %d features\" % (X_train.shape[1] - best_estimator.n_features_))\n",
    "\n",
    "# Plot number of features VS. cross-validation scores\n",
    "plt.figure()\n",
    "plt.xlabel(\"Number of feature subsets selected\")\n",
    "plt.ylabel(\"Cross validation score\")\n",
    "plt.plot(range(1, len(best_estimator.grid_scores_) + 1), best_estimator.grid_scores_)\n",
    "plt.show()"
   ]
  },
  {
   "cell_type": "code",
   "execution_count": 5,
   "metadata": {
    "collapsed": false
   },
   "outputs": [
    {
     "data": {
      "text/html": [
       "\n",
       "<h2>List of 7 genes found by RFE</h2>\n",
       "<p>Note: the NCBI link will open the target in a new window or tab.</p>\n",
       "<table>\n",
       "<tr></tr><tr>\n",
       "    <td><a target=\"_blank\" href=\"https://www.ncbi.nlm.nih.gov/gene/?term=ANXA5[Gene Name] AND Human[Organism]\">ANXA5</a></td>\n",
       "    \n",
       "    <td><a target=\"_blank\" href=\"https://www.ncbi.nlm.nih.gov/gene/?term=CD55[Gene Name] AND Human[Organism]\">CD55</a></td>\n",
       "    \n",
       "    <td><a target=\"_blank\" href=\"https://www.ncbi.nlm.nih.gov/gene/?term=FDX1L[Gene Name] AND Human[Organism]\">FDX1L</a></td>\n",
       "    \n",
       "    <td><a target=\"_blank\" href=\"https://www.ncbi.nlm.nih.gov/gene/?term=GRN[Gene Name] AND Human[Organism]\">GRN</a></td>\n",
       "    \n",
       "    <td><a target=\"_blank\" href=\"https://www.ncbi.nlm.nih.gov/gene/?term=ICAM1[Gene Name] AND Human[Organism]\">ICAM1</a></td>\n",
       "    \n",
       "    <td><a target=\"_blank\" href=\"https://www.ncbi.nlm.nih.gov/gene/?term=NCF1[Gene Name] AND Human[Organism]\">NCF1</a></td>\n",
       "    \n",
       "    <td><a target=\"_blank\" href=\"https://www.ncbi.nlm.nih.gov/gene/?term=TNFSF10[Gene Name] AND Human[Organism]\">TNFSF10</a></td>\n",
       "    </tr></table>"
      ],
      "text/plain": [
       "<IPython.core.display.HTML object>"
      ]
     },
     "metadata": {},
     "output_type": "display_data"
    }
   ],
   "source": [
    "from IPython.core.display import display, HTML\n",
    "\n",
    "rfe_features = []\n",
    "for (rank, name) in zip(best_estimator.ranking_, X.columns):\n",
    "    if rank == 1:\n",
    "        rfe_features.append(name)\n",
    "\n",
    "s=\"\"\"\n",
    "<h2>List of %d genes found by RFE</h2>\n",
    "<p>Note: the NCBI link will open the target in a new window or tab.</p>\n",
    "<table>\n",
    "\"\"\" % (best_estimator.n_features_)\n",
    "\n",
    "ncbi_url = lambda gene: \"https://www.ncbi.nlm.nih.gov/gene/?term=%s[Gene Name] AND Human[Organism]\" % (gene)\n",
    "\n",
    "s += \"<tr>\"\n",
    "for (i, gene) in enumerate(rfe_features):\n",
    "    if not i % 10:\n",
    "        s += \"</tr><tr>\"\n",
    "    s += \"\"\"\n",
    "    <td><a target=\\\"_blank\\\" href=\\\"%s\\\">%s</a></td>\n",
    "    \"\"\" %(ncbi_url(gene), gene)\n",
    "s += \"</tr></table>\"\n",
    "\n",
    "display(HTML(s))"
   ]
  },
  {
   "cell_type": "code",
   "execution_count": 6,
   "metadata": {
    "collapsed": false
   },
   "outputs": [
    {
     "name": "stdout",
     "output_type": "stream",
     "text": [
      "None\n"
     ]
    },
    {
     "data": {
      "image/png": "[encoded data removed]",
      "text/plain": [
       "<matplotlib.figure.Figure at 0x10d5e68d0>"
      ]
     },
     "metadata": {},
     "output_type": "display_data"
    }
   ],
   "source": [
    "%matplotlib inline\n",
    "from learning_curves import plot_learning_curve\n",
    "import matplotlib.pyplot as plt\n",
    "from sklearn.model_selection import StratifiedShuffleSplit\n",
    "\n",
    "def create_learning_curve(title, model):\n",
    "    cv = StratifiedShuffleSplit(n_splits=2, test_size=0.3, random_state=random_state)                                     \n",
    "    plot_learning_curve(model, title, X, y, (0.2, 1.01), cv=cv, n_jobs=1)\n",
    "    \n",
    "create_learning_curve(\"Learning Curves\", est)\n",
    "\n",
    "plt.show()"
   ]
  },
  {
   "cell_type": "code",
   "execution_count": 7,
   "metadata": {
    "collapsed": false
   },
   "outputs": [
    {
     "name": "stdout",
     "output_type": "stream",
     "text": [
      "Accuracy was 79.07%\n",
      "\n",
      "             precision    recall  f1-score   support\n",
      "\n",
      "    Control       0.84      0.87      0.85        30\n",
      "       Lyme       0.67      0.62      0.64        13\n",
      "\n",
      "avg / total       0.79      0.79      0.79        43\n",
      "\n",
      "Confusion Matrix: cols = predictions, rows = actual\n",
      "\n",
      "                       Control           Lyme\n",
      "        Control             26              4\n",
      "           Lyme              5              8\n"
     ]
    }
   ],
   "source": [
    "from classification_metrics import classification_metrics\n",
    "\n",
    "est_predicted = clf.predict(X_test)\n",
    "classification_metrics(y_test, est_predicted, [\"Control\", \"Lyme\"])"
   ]
  }
 ],
 "metadata": {
  "kernelspec": {
   "display_name": "Python [default]",
   "language": "python",
   "name": "python2"
  },
  "language_info": {
   "codemirror_mode": {
    "name": "ipython",
    "version": 2
   },
   "file_extension": ".py",
   "mimetype": "text/x-python",
   "name": "python",
   "nbconvert_exporter": "python",
   "pygments_lexer": "ipython2",
   "version": "2.7.13"
  }
 },
 "nbformat": 4,
 "nbformat_minor": 2
}
