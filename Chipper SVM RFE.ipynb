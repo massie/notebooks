{
 "cells": [
  {
   "cell_type": "code",
   "execution_count": 1,
   "metadata": {
    "collapsed": false
   },
   "outputs": [
    {
     "name": "stdout",
     "output_type": "stream",
     "text": [
      "There are 35848 training samples before removing the Saxova sequences.\n",
      "There are 35181 training samples after filtering out Saxova.\n"
     ]
    }
   ],
   "source": [
    "import pandas as pd\n",
    "import re\n",
    "\n",
    "data_dir = \"/workspace/chipper_data/chipper-svm-rfe/\"\n",
    "\n",
    "iedb_swiss_df = pd.DataFrame.from_csv(data_dir + \"merged_iedb_swiss.csv\")\n",
    "\n",
    "saxova_df = pd.DataFrame.from_csv(data_dir + \"saxova_in_vivo_mhc_1_ligands_dataset.csv\")\n",
    "saxova_df = saxova_df[[\"Sequences\", \"Activity\"]]\n",
    "saxova_df.columns = [\"sequence\", \"is_cleaved\"]\n",
    "saxova_df.is_cleaved[saxova_df.is_cleaved == -1] = 0\n",
    "\n",
    "print \"There are %d training samples before removing the Saxova sequences.\" % (\n",
    "    iedb_swiss_df.shape[0])\n",
    "regex = re.compile(\"|\".join(saxova_df.sequence))\n",
    "iedb_swiss_df = iedb_swiss_df[iedb_swiss_df.protein_sequence.str.contains(regex) == False]\n",
    "print \"There are %d training samples after filtering out Saxova.\" % (\n",
    "    iedb_swiss_df.shape[0])"
   ]
  },
  {
   "cell_type": "code",
   "execution_count": 2,
   "metadata": {
    "collapsed": false
   },
   "outputs": [],
   "source": [
    "# Converts the merged IEDB/Swiss-Prot table into training data\n",
    "def create_training_set(iedb_swiss_merged, generated_sample_len):\n",
    "    data = []\n",
    "    for (protein_id,\n",
    "         row_ids) in iedb_swiss_merged.groupby(\"protein_id\").groups.items():\n",
    "        epitope_rows = iedb_swiss_merged.loc[row_ids]\n",
    "        # Grab the protein sequence from the first row\n",
    "        protein_sequence = epitope_rows['protein_sequence'].iloc[0]\n",
    "        # Sort by the C-terminus ('end')\n",
    "        sorted_epitopes = epitope_rows.sort_values(by=\"end\")\n",
    "        protein_sequence_len = len(protein_sequence)\n",
    "        current_loc = 0\n",
    "        for (i, epitope_sequence, start, end) in \\\n",
    "                sorted_epitopes[[\"epitope_sequence\", \"start\", \"end\"]].itertuples():\n",
    "            epitope_start = int(start) - 1\n",
    "            epitope_end = int(end) - 1\n",
    "\n",
    "            half_sample_len = generated_sample_len / 2\n",
    "            sample_start_end = lambda pos: (pos - half_sample_len + 1, pos + half_sample_len + 1)\n",
    "            \n",
    "            epitope_sequence_len = len(epitope_sequence)\n",
    "            epitope_midpoint = epitope_end - epitope_sequence_len / 2\n",
    "            \n",
    "            cleaved_sample_pos = sample_start_end(epitope_end)\n",
    "            uncleaved_sample_pos = sample_start_end(epitope_midpoint)\n",
    "            \n",
    "            # Check if our samples are off the protein sequence or overlap (TODO: handle these)\n",
    "            if (uncleaved_sample_pos[0] < current_loc or\n",
    "                    cleaved_sample_pos[1] > protein_sequence_len):\n",
    "                continue\n",
    "\n",
    "            current_loc = cleaved_sample_pos[1]\n",
    "\n",
    "            # Double check that the start and end positions are correct\n",
    "            assert protein_sequence[epitope_start:epitope_end + 1] == epitope_sequence,\\\n",
    "                     \"Epitope failed to align to protein\"\n",
    "\n",
    "            fetch_seq = lambda pos: protein_sequence[pos[0]:pos[1]]\n",
    "            data.append((fetch_seq(cleaved_sample_pos), 1))\n",
    "            data.append((fetch_seq(uncleaved_sample_pos), 0))\n",
    "                        \n",
    "    cleavage_data = pd.DataFrame(data)\n",
    "    cleavage_data.columns = ['sequence', 'is_cleaved']\n",
    "    return cleavage_data\n",
    "\n",
    "raw_training_data = create_training_set(iedb_swiss_df, 28)"
   ]
  },
  {
   "cell_type": "code",
   "execution_count": 3,
   "metadata": {
    "collapsed": false
   },
   "outputs": [],
   "source": [
    "raw_testing_data = saxova_df"
   ]
  },
  {
   "cell_type": "code",
   "execution_count": 4,
   "metadata": {
    "collapsed": false
   },
   "outputs": [
    {
     "name": "stdout",
     "output_type": "stream",
     "text": [
      "Final training set has 48679 samples of 48682 raw samples.\n",
      "Final testing set has 416 samples of 419 raw samples.\n"
     ]
    }
   ],
   "source": [
    "from aa_props import seq_to_aa_props\n",
    "from sklearn.preprocessing import MinMaxScaler\n",
    "\n",
    "\n",
    "generated_sample_len = 28\n",
    "\n",
    "# Filter to check for selenocysteine (TODO) and an invalid \"'\"\n",
    "train_seq_validator = lambda seq: seq.find(\"U\") == -1 and seq.find(\"'\") == -1\n",
    "# Testing set has two sample which are not the correct len, filter them out too\n",
    "test_seq_validator = lambda seq: train_seq_validator(seq) and len(seq) == generated_sample_len\n",
    "\n",
    "process_raw_data = lambda data, is_valid: [(seq_to_aa_props(seq), is_cleaved)\n",
    "             for (i, seq, is_cleaved) in data.itertuples()\n",
    "             if is_valid(seq)]\n",
    "\n",
    "# Filter AA seqs and expand to AA features\n",
    "training_X_y = process_raw_data(raw_training_data, train_seq_validator)\n",
    "testing_X_y = process_raw_data(raw_testing_data, test_seq_validator)\n",
    "\n",
    "(training_X, training_y) = zip(*training_X_y)\n",
    "(testing_X, testing_y) = zip(*testing_X_y)\n",
    "\n",
    "# Scale the data\n",
    "scaler = MinMaxScaler()\n",
    "training_X = scaler.fit_transform(training_X)\n",
    "testing_X = scaler.transform(testing_X)\n",
    "\n",
    "print \"Final training set has %d samples of %d raw samples.\" % (\n",
    "    training_X.shape[0], raw_training_data.shape[0])\n",
    "print \"Final testing set has %d samples of %d raw samples.\" % (\n",
    "    testing_X.shape[0], raw_testing_data.shape[0])"
   ]
  },
  {
   "cell_type": "code",
   "execution_count": 7,
   "metadata": {
    "collapsed": false
   },
   "outputs": [
    {
     "name": "stdout",
     "output_type": "stream",
     "text": [
      "Fitting estimator with 1400 features.\n",
      "Fitting estimator with 1400 features.\n",
      "Fitting estimator with 1400 features.\n",
      "Fitting estimator with 1400 features.\n",
      "Fitting estimator with 1400 features.\n",
      "Fitting estimator with 1330 features.\n",
      "Fitting estimator with 1330 features.\n",
      "Fitting estimator with 1330 features.\n",
      "Fitting estimator with 1330 features.\n",
      "Fitting estimator with 1330 features.\n",
      "Fitting estimator with 1260 features.\n",
      "Fitting estimator with 1260 features.\n",
      "Fitting estimator with 1260 features.\n",
      "Fitting estimator with 1260 features.\n",
      "Fitting estimator with 1260 features.\n",
      "Fitting estimator with 1190 features.\n",
      "Fitting estimator with 1190 features.\n",
      "Fitting estimator with 1190 features.\n",
      "Fitting estimator with 1190 features.\n",
      "Fitting estimator with 1190 features.\n",
      "Fitting estimator with 1120 features.\n",
      "Fitting estimator with 1120 features.\n",
      "Fitting estimator with 1120 features.\n",
      "Fitting estimator with 1120 features.\n",
      "Fitting estimator with 1120 features.\n",
      "Fitting estimator with 1050 features.\n",
      "Fitting estimator with 1050 features.\n",
      "Fitting estimator with 1050 features.\n",
      "Fitting estimator with 1050 features.\n",
      "Fitting estimator with 980 features.\n",
      "Fitting estimator with 980 features.\n",
      "Fitting estimator with 980 features.\n",
      "Fitting estimator with 980 features.\n",
      "Fitting estimator with 1050 features.\n",
      "Fitting estimator with 910 features.\n",
      "Fitting estimator with 910 features.\n",
      "Fitting estimator with 910 features.\n",
      "Fitting estimator with 910 features.\n",
      "Fitting estimator with 980 features.\n",
      "Fitting estimator with 840 features.\n",
      "Fitting estimator with 840 features.\n",
      "Fitting estimator with 840 features.\n",
      "Fitting estimator with 840 features.\n",
      "Fitting estimator with 770 features.\n",
      "Fitting estimator with 910 features.\n",
      "Fitting estimator with 770 features.\n",
      "Fitting estimator with 770 features.\n",
      "Fitting estimator with 700 features.\n",
      "Fitting estimator with 770 features.\n",
      "Fitting estimator with 700 features.\n",
      "Fitting estimator with 700 features.\n",
      "Fitting estimator with 840 features.\n",
      "Fitting estimator with 630 features.\n",
      "Fitting estimator with 700 features.\n",
      "Fitting estimator with 630 features.\n",
      "Fitting estimator with 630 features.\n",
      "Fitting estimator with 560 features.\n",
      "Fitting estimator with 770 features.\n",
      "Fitting estimator with 560 features.\n",
      "Fitting estimator with 630 features.\n",
      "Fitting estimator with 560 features.\n",
      "Fitting estimator with 490 features.\n",
      "Fitting estimator with 490 features.\n",
      "Fitting estimator with 490 features.\n",
      "Fitting estimator with 560 features.\n",
      "Fitting estimator with 420 features.\n",
      "Fitting estimator with 700 features.\n",
      "Fitting estimator with 420 features.\n",
      "Fitting estimator with 350 features.\n",
      "Fitting estimator with 420 features.\n",
      "Fitting estimator with 350 features.\n",
      "Fitting estimator with 490 features.\n",
      "Fitting estimator with 280 features.\n",
      "Fitting estimator with 350 features.\n",
      "Fitting estimator with 210 features.\n",
      "Fitting estimator with 630 features.\n",
      "Fitting estimator with 280 features.\n",
      "Fitting estimator with 140 features.\n",
      "Fitting estimator with 420 features.\n",
      "Fitting estimator with 280 features.\n",
      "Fitting estimator with 70 features.\n",
      "Fitting estimator with 210 features.\n",
      "Fitting estimator with 140 features.\n",
      "Fitting estimator with 210 features.\n",
      "Fitting estimator with 70 features.\n",
      "Fitting estimator with 140 features.\n",
      "Fitting estimator with 350 features.\n",
      "Fitting estimator with 70 features.\n",
      "Fitting estimator with 560 features.\n",
      "Fitting estimator with 280 features.\n",
      "Fitting estimator with 210 features.\n",
      "Fitting estimator with 140 features.\n",
      "Fitting estimator with 490 features.\n",
      "Fitting estimator with 70 features.\n",
      "Fitting estimator with 420 features.\n",
      "Fitting estimator with 350 features.\n",
      "Fitting estimator with 280 features.\n",
      "Fitting estimator with 210 features.\n",
      "Fitting estimator with 140 features.\n",
      "Fitting estimator with 70 features.\n",
      "Optimal number of features : 560\n",
      "Recursive Feature Elimination (RFE) eliminated 840 features\n"
     ]
    },
    {
     "data": {
      "image/png": "[encoded data removed]",
      "text/plain": [
       "<matplotlib.figure.Figure at 0x110053e50>"
      ]
     },
     "metadata": {},
     "output_type": "display_data"
    }
   ],
   "source": [
    "import matplotlib.pyplot as plt\n",
    "from sklearn.svm import LinearSVC\n",
    "from sklearn.feature_selection import RFECV\n",
    "\n",
    "svc = LinearSVC(C=0.0625)\n",
    "rfe = RFECV(estimator=svc, step=.05, cv=5, scoring='accuracy', n_jobs=8, verbose=1)\n",
    "rfe.fit(training_X, training_y)\n",
    "\n",
    "print(\"Optimal number of features : %d\" % rfe.n_features_)\n",
    "print(\"Recursive Feature Elimination (RFE) eliminated %d features\" % (training_X.shape[1] - rfe.n_features_))\n",
    "\n",
    "%matplotlib inline\n",
    "# Plot number of features VS. cross-validation scores\n",
    "plt.figure()\n",
    "plt.xlabel(\"Number of feature subsets selected\")\n",
    "plt.ylabel(\"Cross validation score\")\n",
    "plt.plot(range(1, len(rfe.grid_scores_) + 1), rfe.grid_scores_)\n",
    "plt.show()"
   ]
  },
  {
   "cell_type": "code",
   "execution_count": null,
   "metadata": {
    "collapsed": false
   },
   "outputs": [],
   "source": [
    "%matplotlib inline\n",
    "from learning_curves import plot_learning_curve\n",
    "import matplotlib.pyplot as plt\n",
    "from sklearn.model_selection import ShuffleSplit\n",
    "\n",
    "def create_learning_curve(title, model):\n",
    "    cv = ShuffleSplit(n_splits=10, test_size=0.1, random_state=7)\n",
    "    plot_learning_curve(model, title, training_X, training_y, (0.2, 1.01), cv=cv, n_jobs=1)\n",
    "    \n",
    "create_learning_curve(\"Learning Curves Full Feature Set\", svc)\n",
    "create_learning_curve(\"Learning Curves RFE Feature Set\", rfe)\n",
    "\n",
    "plt.show()"
   ]
  },
  {
   "cell_type": "code",
   "execution_count": 11,
   "metadata": {
    "collapsed": false
   },
   "outputs": [
    {
     "name": "stdout",
     "output_type": "stream",
     "text": [
      "(0, 27)\n"
     ]
    }
   ],
   "source": [
    "min_pos = -1\n",
    "max_pos = -1\n",
    "for (i, is_support) in enumerate(rfe.support_):\n",
    "    if is_support:\n",
    "        max_pos = i/50\n",
    "        if min_pos == -1:\n",
    "            min_pos = i/50\n",
    "print (min_pos, max_pos)\n",
    "        "
   ]
  },
  {
   "cell_type": "code",
   "execution_count": null,
   "metadata": {
    "collapsed": true
   },
   "outputs": [],
   "source": [
    "#from sklearn.svm import LinearSVC\n",
    "#from sklearn.feature_selection import RFECV\n",
    "#from sklearn.model_selection import GridSearchCV\n",
    "\n",
    "#parameters={'estimator__C': [pow(2, i) for i in xrange(-25, 4, 1)]}\n",
    "#svc = LinearSVC()\n",
    "#rfe = RFECV(estimator=svc, step=.1, cv=5, scoring='accuracy', n_jobs=1)\n",
    "#clf = GridSearchCV(rfe, parameters, scoring='accuracy', n_jobs=6, cv=5, verbose=1)\n",
    "#clf.fit(training_X, training_y)\n",
    "\n",
    "# summarize results\n",
    "#print(\"Best: %f using %s\" % (clf.best_score_, clf.best_params_))\n",
    "#means = clf.cv_results_['mean_test_score']\n",
    "#stds = clf.cv_results_['std_test_score']\n",
    "#params = clf.cv_results_['params']\n",
    "#for mean, stdev, param in zip(means, stds, params):\n",
    "#    print(\"%f (%f) with: %r\" % (mean, stdev, param))"
   ]
  }
 ],
 "metadata": {
  "anaconda-cloud": {},
  "kernelspec": {
   "display_name": "Python [conda root]",
   "language": "python",
   "name": "conda-root-py"
  },
  "language_info": {
   "codemirror_mode": {
    "name": "ipython",
    "version": 2
   },
   "file_extension": ".py",
   "mimetype": "text/x-python",
   "name": "python",
   "nbconvert_exporter": "python",
   "pygments_lexer": "ipython2",
   "version": "2.7.12"
  }
 },
 "nbformat": 4,
 "nbformat_minor": 1
}
