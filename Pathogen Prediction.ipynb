{
 "cells": [
  {
   "cell_type": "markdown",
   "metadata": {},
   "source": [
    "# Predicting Pathogen from RNAseq data"
   ]
  },
  {
   "cell_type": "code",
   "execution_count": 1,
   "metadata": {
    "collapsed": false
   },
   "outputs": [],
   "source": [
    "from math import pow\n",
    "import pandas as pd\n",
    "import numpy as np\n",
    "from sklearn.metrics import confusion_matrix, accuracy_score, classification_report\n",
    "from sklearn.model_selection import train_test_split, ShuffleSplit, cross_val_score, GridSearchCV\n",
    "from sklearn.svm import LinearSVC\n",
    "from sklearn.feature_selection import RFE, SelectFromModel\n",
    "from sklearn.pipeline import Pipeline\n",
    "\n",
    "random_state = 0xDEADCAFE"
   ]
  },
  {
   "cell_type": "code",
   "execution_count": 2,
   "metadata": {
    "collapsed": false
   },
   "outputs": [
    {
     "name": "stdout",
     "output_type": "stream",
     "text": [
      "Complete data set has 142 samples and 25342 features.\n",
      "Training set has 99 samples. Testing set has 43 samples.\n"
     ]
    }
   ],
   "source": [
    "patient_groups=[\"control\", \"viral\", \"bacterial\", \"fungal\"]\n",
    "group_id = lambda name: patient_groups.index(name)\n",
    "\n",
    "X = pd.DataFrame.from_csv(\"combineSV_WTcpmtable_v2.txt\", sep=\"\\s+\").T\n",
    "y = [group_id(\"bacterial\")] * 29 \\\n",
    "    + [group_id(\"viral\")] * 42 \\\n",
    "    + [group_id(\"fungal\")] * 10 \\\n",
    "    + [group_id(\"control\")] * 61\n",
    "\n",
    "print \"Complete data set has %d samples and %d features.\" % (X.shape[0], X.shape[1])\n",
    "X_train, X_test, y_train, y_test = train_test_split(X, y, test_size=0.3, random_state=random_state)\n",
    "print \"Training set has %d samples. Testing set has %d samples.\" % (len(X_train), len(X_test))"
   ]
  },
  {
   "cell_type": "code",
   "execution_count": 4,
   "metadata": {
    "collapsed": false
   },
   "outputs": [
    {
     "name": "stdout",
     "output_type": "stream",
     "text": [
      "Fitting 3 folds for each of 29 candidates, totalling 87 fits\n"
     ]
    },
    {
     "name": "stderr",
     "output_type": "stream",
     "text": [
      "[Parallel(n_jobs=8)]: Done  34 tasks      | elapsed:  8.3min\n",
      "[Parallel(n_jobs=8)]: Done  87 out of  87 | elapsed: 19.4min finished\n"
     ]
    },
    {
     "name": "stdout",
     "output_type": "stream",
     "text": [
      "Best: 0.515152 using {'estimator__C': 0.0009765625}\n",
      "0.474747 (0.108626) with: {'estimator__C': 2.9802322387695312e-08}\n",
      "0.444444 (0.135774) with: {'estimator__C': 5.960464477539063e-08}\n",
      "0.484848 (0.101307) with: {'estimator__C': 1.1920928955078125e-07}\n",
      "0.474747 (0.082402) with: {'estimator__C': 2.384185791015625e-07}\n",
      "0.505051 (0.063877) with: {'estimator__C': 4.76837158203125e-07}\n",
      "0.474747 (0.111932) with: {'estimator__C': 9.5367431640625e-07}\n",
      "0.494949 (0.099272) with: {'estimator__C': 1.9073486328125e-06}\n",
      "0.484848 (0.101307) with: {'estimator__C': 3.814697265625e-06}\n",
      "0.454545 (0.135020) with: {'estimator__C': 7.62939453125e-06}\n",
      "0.464646 (0.123226) with: {'estimator__C': 1.52587890625e-05}\n",
      "0.494949 (0.091583) with: {'estimator__C': 3.0517578125e-05}\n",
      "0.484848 (0.101307) with: {'estimator__C': 6.103515625e-05}\n",
      "0.464646 (0.123226) with: {'estimator__C': 0.0001220703125}\n",
      "0.505051 (0.083079) with: {'estimator__C': 0.000244140625}\n",
      "0.454545 (0.135020) with: {'estimator__C': 0.00048828125}\n",
      "0.515152 (0.076202) with: {'estimator__C': 0.0009765625}\n",
      "0.474747 (0.111932) with: {'estimator__C': 0.001953125}\n",
      "0.484848 (0.101307) with: {'estimator__C': 0.00390625}\n",
      "0.505051 (0.083079) with: {'estimator__C': 0.0078125}\n",
      "0.494949 (0.091583) with: {'estimator__C': 0.015625}\n",
      "0.505051 (0.083079) with: {'estimator__C': 0.03125}\n",
      "0.484848 (0.101307) with: {'estimator__C': 0.0625}\n",
      "0.505051 (0.083079) with: {'estimator__C': 0.125}\n",
      "0.494949 (0.099272) with: {'estimator__C': 0.25}\n",
      "0.505051 (0.083079) with: {'estimator__C': 0.5}\n",
      "0.464646 (0.123226) with: {'estimator__C': 1.0}\n",
      "0.505051 (0.083079) with: {'estimator__C': 2.0}\n",
      "0.494949 (0.091583) with: {'estimator__C': 4.0}\n",
      "0.505051 (0.088178) with: {'estimator__C': 8.0}\n"
     ]
    }
   ],
   "source": [
    "import matplotlib.pyplot as plt\n",
    "from sklearn.svm import SVC\n",
    "from sklearn.linear_model import LogisticRegression\n",
    "from sklearn.model_selection import StratifiedKFold\n",
    "from sklearn.feature_selection import RFECV\n",
    "from sklearn.datasets import make_classification\n",
    "from sklearn.linear_model import RandomizedLogisticRegression\n",
    "\n",
    "parameters={'estimator__C': [pow(2, i) for i in xrange(-25, 4, 1)]}\n",
    "svc = LinearSVC(class_weight='balanced')\n",
    "rfe = RFECV(estimator=svc, step=.02, cv=2, scoring='accuracy', n_jobs=1)\n",
    "clf = GridSearchCV(rfe, parameters, scoring='accuracy', n_jobs=8, cv=3, verbose=1)\n",
    "clf.fit(X_train, y_train)\n",
    "\n",
    "# summarize results\n",
    "print(\"Best: %f using %s\" % (clf.best_score_, clf.best_params_))\n",
    "means = clf.cv_results_['mean_test_score']\n",
    "stds = clf.cv_results_['std_test_score']\n",
    "params = clf.cv_results_['params']\n",
    "for mean, stdev, param in zip(means, stds, params):\n",
    "    print(\"%f (%f) with: %r\" % (mean, stdev, param))"
   ]
  },
  {
   "cell_type": "code",
   "execution_count": 5,
   "metadata": {
    "collapsed": false
   },
   "outputs": [
    {
     "name": "stdout",
     "output_type": "stream",
     "text": [
      "Optimal number of features : 2066\n",
      "Recursive Feature Elimination (RFE) eliminated 23276 features\n"
     ]
    },
    {
     "data": {
      "image/png": "[encoded data removed]",
      "text/plain": [
       "<matplotlib.figure.Figure at 0x111bc4910>"
      ]
     },
     "metadata": {},
     "output_type": "display_data"
    }
   ],
   "source": [
    "best_estimator = clf.best_estimator_\n",
    "\n",
    "print(\"Optimal number of features : %d\" % best_estimator.n_features_)\n",
    "print(\"Recursive Feature Elimination (RFE) eliminated %d features\" % (X.shape[1] - best_estimator.n_features_))\n",
    "\n",
    "# Plot number of features VS. cross-validation scores\n",
    "plt.figure()\n",
    "plt.xlabel(\"Number of feature subsets selected\")\n",
    "plt.ylabel(\"Cross validation score\")\n",
    "plt.plot(range(1, len(best_estimator.grid_scores_) + 1), best_estimator.grid_scores_)\n",
    "plt.show()"
   ]
  },
  {
   "cell_type": "code",
   "execution_count": 6,
   "metadata": {
    "collapsed": false,
    "scrolled": false
   },
   "outputs": [
    {
     "name": "stdout",
     "output_type": "stream",
     "text": [
      "None\n"
     ]
    },
    {
     "data": {
      "image/png": "[encoded data removed]",
      "text/plain": [
       "<matplotlib.figure.Figure at 0x111e6edd0>"
      ]
     },
     "metadata": {},
     "output_type": "display_data"
    },
    {
     "data": {
      "image/png": "[encoded data removed]",
      "text/plain": [
       "<matplotlib.figure.Figure at 0x11441ea10>"
      ]
     },
     "metadata": {},
     "output_type": "display_data"
    }
   ],
   "source": [
    "%matplotlib inline\n",
    "from learning_curves import plot_learning_curve\n",
    "import matplotlib.pyplot as plt\n",
    "\n",
    "def create_learning_curve(title, model):\n",
    "    cv = ShuffleSplit(n_splits=2, test_size=0.3, random_state=random_state)\n",
    "    plot_learning_curve(model, title, X, y, (0.2, 1.01), cv=cv, n_jobs=1)\n",
    "    \n",
    "create_learning_curve(\"Learning Curves Full Feature Set\", svc)\n",
    "create_learning_curve(\"Learning Curves Limited Feature Set\", best_estimator.estimator_)\n",
    "\n",
    "plt.show()"
   ]
  },
  {
   "cell_type": "markdown",
   "metadata": {},
   "source": [
    "## Make predictions based on the model"
   ]
  },
  {
   "cell_type": "code",
   "execution_count": 7,
   "metadata": {
    "collapsed": false
   },
   "outputs": [
    {
     "name": "stdout",
     "output_type": "stream",
     "text": [
      "Accuracy was 62.79%\n",
      "\n",
      "             precision    recall  f1-score   support\n",
      "\n",
      "    control       0.62      0.83      0.71        18\n",
      "      viral       0.88      0.44      0.58        16\n",
      "  bacterial       0.45      0.62      0.53         8\n",
      "     fungal       0.00      0.00      0.00         1\n",
      "\n",
      "avg / total       0.67      0.63      0.61        43\n",
      "\n",
      "Confusion Matrix: cols = predictions, rows = actual\n",
      "\n",
      "                       control          viral      bacterial         fungal\n",
      "        control             15              1              2              0\n",
      "          viral              6              7              3              0\n",
      "      bacterial              3              0              5              0\n",
      "         fungal              0              0              1              0\n"
     ]
    },
    {
     "name": "stderr",
     "output_type": "stream",
     "text": [
      "/Users/matt/anaconda2/lib/python2.7/site-packages/sklearn/metrics/classification.py:1113: UndefinedMetricWarning: Precision and F-score are ill-defined and being set to 0.0 in labels with no predicted samples.\n",
      "  'precision', 'predicted', average, warn_for)\n"
     ]
    }
   ],
   "source": [
    "from classification_metrics import classification_metrics\n",
    "\n",
    "# make predictions\n",
    "predicted = best_estimator.predict(X_test)\n",
    "\n",
    "classification_metrics(y_test, predicted, patient_groups)"
   ]
  },
  {
   "cell_type": "markdown",
   "metadata": {},
   "source": [
    "## Review model predictions"
   ]
  },
  {
   "cell_type": "code",
   "execution_count": 8,
   "metadata": {
    "collapsed": false
   },
   "outputs": [
    {
     "data": {
      "text/html": [
       "<div>\n",
       "<table border=\"1\" class=\"dataframe\">\n",
       "  <thead>\n",
       "    <tr style=\"text-align: right;\">\n",
       "      <th></th>\n",
       "      <th>Actual</th>\n",
       "      <th>Predicted</th>\n",
       "    </tr>\n",
       "  </thead>\n",
       "  <tbody>\n",
       "    <tr>\n",
       "      <th>MNC.473</th>\n",
       "      <td>bacterial</td>\n",
       "      <td>bacterial</td>\n",
       "    </tr>\n",
       "    <tr>\n",
       "      <th>MN_223</th>\n",
       "      <td>bacterial</td>\n",
       "      <td>bacterial</td>\n",
       "    </tr>\n",
       "    <tr>\n",
       "      <th>MN_208</th>\n",
       "      <td>bacterial</td>\n",
       "      <td>bacterial</td>\n",
       "    </tr>\n",
       "    <tr>\n",
       "      <th>MNC.557</th>\n",
       "      <td>bacterial</td>\n",
       "      <td>control</td>\n",
       "    </tr>\n",
       "    <tr>\n",
       "      <th>MN_363</th>\n",
       "      <td>bacterial</td>\n",
       "      <td>bacterial</td>\n",
       "    </tr>\n",
       "    <tr>\n",
       "      <th>MN_304</th>\n",
       "      <td>bacterial</td>\n",
       "      <td>bacterial</td>\n",
       "    </tr>\n",
       "    <tr>\n",
       "      <th>MNC.214</th>\n",
       "      <td>bacterial</td>\n",
       "      <td>control</td>\n",
       "    </tr>\n",
       "    <tr>\n",
       "      <th>MN_307</th>\n",
       "      <td>bacterial</td>\n",
       "      <td>control</td>\n",
       "    </tr>\n",
       "    <tr>\n",
       "      <th>MNC.611</th>\n",
       "      <td>control</td>\n",
       "      <td>control</td>\n",
       "    </tr>\n",
       "    <tr>\n",
       "      <th>MN_366</th>\n",
       "      <td>control</td>\n",
       "      <td>control</td>\n",
       "    </tr>\n",
       "    <tr>\n",
       "      <th>MNC.633</th>\n",
       "      <td>control</td>\n",
       "      <td>control</td>\n",
       "    </tr>\n",
       "    <tr>\n",
       "      <th>MNC.151</th>\n",
       "      <td>control</td>\n",
       "      <td>control</td>\n",
       "    </tr>\n",
       "    <tr>\n",
       "      <th>MNC.595</th>\n",
       "      <td>control</td>\n",
       "      <td>control</td>\n",
       "    </tr>\n",
       "    <tr>\n",
       "      <th>MNC.571</th>\n",
       "      <td>control</td>\n",
       "      <td>control</td>\n",
       "    </tr>\n",
       "    <tr>\n",
       "      <th>MNC.452.y</th>\n",
       "      <td>control</td>\n",
       "      <td>bacterial</td>\n",
       "    </tr>\n",
       "    <tr>\n",
       "      <th>MNC.294</th>\n",
       "      <td>control</td>\n",
       "      <td>control</td>\n",
       "    </tr>\n",
       "    <tr>\n",
       "      <th>MNC.172</th>\n",
       "      <td>control</td>\n",
       "      <td>control</td>\n",
       "    </tr>\n",
       "    <tr>\n",
       "      <th>MNC.612</th>\n",
       "      <td>control</td>\n",
       "      <td>control</td>\n",
       "    </tr>\n",
       "    <tr>\n",
       "      <th>MNC.392</th>\n",
       "      <td>control</td>\n",
       "      <td>viral</td>\n",
       "    </tr>\n",
       "    <tr>\n",
       "      <th>MNC.631</th>\n",
       "      <td>control</td>\n",
       "      <td>bacterial</td>\n",
       "    </tr>\n",
       "    <tr>\n",
       "      <th>MNC.173</th>\n",
       "      <td>control</td>\n",
       "      <td>control</td>\n",
       "    </tr>\n",
       "    <tr>\n",
       "      <th>MNC.676</th>\n",
       "      <td>control</td>\n",
       "      <td>control</td>\n",
       "    </tr>\n",
       "    <tr>\n",
       "      <th>MNC.213</th>\n",
       "      <td>control</td>\n",
       "      <td>control</td>\n",
       "    </tr>\n",
       "    <tr>\n",
       "      <th>MNC.533</th>\n",
       "      <td>control</td>\n",
       "      <td>control</td>\n",
       "    </tr>\n",
       "    <tr>\n",
       "      <th>MNC.354</th>\n",
       "      <td>control</td>\n",
       "      <td>control</td>\n",
       "    </tr>\n",
       "    <tr>\n",
       "      <th>MNC.675</th>\n",
       "      <td>control</td>\n",
       "      <td>control</td>\n",
       "    </tr>\n",
       "    <tr>\n",
       "      <th>MN_323</th>\n",
       "      <td>fungal</td>\n",
       "      <td>bacterial</td>\n",
       "    </tr>\n",
       "    <tr>\n",
       "      <th>MN_382</th>\n",
       "      <td>viral</td>\n",
       "      <td>bacterial</td>\n",
       "    </tr>\n",
       "    <tr>\n",
       "      <th>MNC.033</th>\n",
       "      <td>viral</td>\n",
       "      <td>control</td>\n",
       "    </tr>\n",
       "    <tr>\n",
       "      <th>MN_207</th>\n",
       "      <td>viral</td>\n",
       "      <td>control</td>\n",
       "    </tr>\n",
       "    <tr>\n",
       "      <th>MNC.091</th>\n",
       "      <td>viral</td>\n",
       "      <td>viral</td>\n",
       "    </tr>\n",
       "    <tr>\n",
       "      <th>MN_097.y</th>\n",
       "      <td>viral</td>\n",
       "      <td>viral</td>\n",
       "    </tr>\n",
       "    <tr>\n",
       "      <th>MNC.215</th>\n",
       "      <td>viral</td>\n",
       "      <td>viral</td>\n",
       "    </tr>\n",
       "    <tr>\n",
       "      <th>MNC.474</th>\n",
       "      <td>viral</td>\n",
       "      <td>viral</td>\n",
       "    </tr>\n",
       "    <tr>\n",
       "      <th>MNC.012.y</th>\n",
       "      <td>viral</td>\n",
       "      <td>control</td>\n",
       "    </tr>\n",
       "    <tr>\n",
       "      <th>MN_100</th>\n",
       "      <td>viral</td>\n",
       "      <td>control</td>\n",
       "    </tr>\n",
       "    <tr>\n",
       "      <th>MNC.534</th>\n",
       "      <td>viral</td>\n",
       "      <td>control</td>\n",
       "    </tr>\n",
       "    <tr>\n",
       "      <th>MNC.674</th>\n",
       "      <td>viral</td>\n",
       "      <td>control</td>\n",
       "    </tr>\n",
       "    <tr>\n",
       "      <th>MN_282</th>\n",
       "      <td>viral</td>\n",
       "      <td>viral</td>\n",
       "    </tr>\n",
       "    <tr>\n",
       "      <th>MN_171</th>\n",
       "      <td>viral</td>\n",
       "      <td>viral</td>\n",
       "    </tr>\n",
       "    <tr>\n",
       "      <th>MN_284</th>\n",
       "      <td>viral</td>\n",
       "      <td>bacterial</td>\n",
       "    </tr>\n",
       "    <tr>\n",
       "      <th>MNC.155</th>\n",
       "      <td>viral</td>\n",
       "      <td>bacterial</td>\n",
       "    </tr>\n",
       "    <tr>\n",
       "      <th>MNC.014</th>\n",
       "      <td>viral</td>\n",
       "      <td>viral</td>\n",
       "    </tr>\n",
       "  </tbody>\n",
       "</table>\n",
       "</div>"
      ],
      "text/plain": [
       "              Actual  Predicted\n",
       "MNC.473    bacterial  bacterial\n",
       "MN_223     bacterial  bacterial\n",
       "MN_208     bacterial  bacterial\n",
       "MNC.557    bacterial    control\n",
       "MN_363     bacterial  bacterial\n",
       "MN_304     bacterial  bacterial\n",
       "MNC.214    bacterial    control\n",
       "MN_307     bacterial    control\n",
       "MNC.611      control    control\n",
       "MN_366       control    control\n",
       "MNC.633      control    control\n",
       "MNC.151      control    control\n",
       "MNC.595      control    control\n",
       "MNC.571      control    control\n",
       "MNC.452.y    control  bacterial\n",
       "MNC.294      control    control\n",
       "MNC.172      control    control\n",
       "MNC.612      control    control\n",
       "MNC.392      control      viral\n",
       "MNC.631      control  bacterial\n",
       "MNC.173      control    control\n",
       "MNC.676      control    control\n",
       "MNC.213      control    control\n",
       "MNC.533      control    control\n",
       "MNC.354      control    control\n",
       "MNC.675      control    control\n",
       "MN_323        fungal  bacterial\n",
       "MN_382         viral  bacterial\n",
       "MNC.033        viral    control\n",
       "MN_207         viral    control\n",
       "MNC.091        viral      viral\n",
       "MN_097.y       viral      viral\n",
       "MNC.215        viral      viral\n",
       "MNC.474        viral      viral\n",
       "MNC.012.y      viral    control\n",
       "MN_100         viral    control\n",
       "MNC.534        viral    control\n",
       "MNC.674        viral    control\n",
       "MN_282         viral      viral\n",
       "MN_171         viral      viral\n",
       "MN_284         viral  bacterial\n",
       "MNC.155        viral  bacterial\n",
       "MNC.014        viral      viral"
      ]
     },
     "execution_count": 8,
     "metadata": {},
     "output_type": "execute_result"
    }
   ],
   "source": [
    "probs = np.array(best_estimator.predict(X_test))\n",
    "\n",
    "d = {\"Predicted\": [patient_groups[i] for i in best_estimator.predict(X_test)],\n",
    "     \"Actual\": [patient_groups[i] for i in y_test]}\n",
    "\n",
    "patient_df = pd.DataFrame(d, index=X_test.index)\n",
    "patient_df.sort_values(by=\"Actual\")"
   ]
  },
  {
   "cell_type": "markdown",
   "metadata": {},
   "source": [
    "## Review patients the model misclassified"
   ]
  },
  {
   "cell_type": "code",
   "execution_count": 9,
   "metadata": {
    "collapsed": false
   },
   "outputs": [
    {
     "data": {
      "text/html": [
       "<div>\n",
       "<table border=\"1\" class=\"dataframe\">\n",
       "  <thead>\n",
       "    <tr style=\"text-align: right;\">\n",
       "      <th></th>\n",
       "      <th>Actual</th>\n",
       "      <th>Predicted</th>\n",
       "    </tr>\n",
       "  </thead>\n",
       "  <tbody>\n",
       "    <tr>\n",
       "      <th>MNC.557</th>\n",
       "      <td>bacterial</td>\n",
       "      <td>control</td>\n",
       "    </tr>\n",
       "    <tr>\n",
       "      <th>MN_284</th>\n",
       "      <td>viral</td>\n",
       "      <td>bacterial</td>\n",
       "    </tr>\n",
       "    <tr>\n",
       "      <th>MN_323</th>\n",
       "      <td>fungal</td>\n",
       "      <td>bacterial</td>\n",
       "    </tr>\n",
       "    <tr>\n",
       "      <th>MNC.674</th>\n",
       "      <td>viral</td>\n",
       "      <td>control</td>\n",
       "    </tr>\n",
       "    <tr>\n",
       "      <th>MNC.534</th>\n",
       "      <td>viral</td>\n",
       "      <td>control</td>\n",
       "    </tr>\n",
       "    <tr>\n",
       "      <th>MNC.631</th>\n",
       "      <td>control</td>\n",
       "      <td>bacterial</td>\n",
       "    </tr>\n",
       "    <tr>\n",
       "      <th>MNC.392</th>\n",
       "      <td>control</td>\n",
       "      <td>viral</td>\n",
       "    </tr>\n",
       "    <tr>\n",
       "      <th>MN_307</th>\n",
       "      <td>bacterial</td>\n",
       "      <td>control</td>\n",
       "    </tr>\n",
       "    <tr>\n",
       "      <th>MN_100</th>\n",
       "      <td>viral</td>\n",
       "      <td>control</td>\n",
       "    </tr>\n",
       "    <tr>\n",
       "      <th>MNC.012.y</th>\n",
       "      <td>viral</td>\n",
       "      <td>control</td>\n",
       "    </tr>\n",
       "    <tr>\n",
       "      <th>MNC.214</th>\n",
       "      <td>bacterial</td>\n",
       "      <td>control</td>\n",
       "    </tr>\n",
       "    <tr>\n",
       "      <th>MNC.155</th>\n",
       "      <td>viral</td>\n",
       "      <td>bacterial</td>\n",
       "    </tr>\n",
       "    <tr>\n",
       "      <th>MN_207</th>\n",
       "      <td>viral</td>\n",
       "      <td>control</td>\n",
       "    </tr>\n",
       "    <tr>\n",
       "      <th>MNC.452.y</th>\n",
       "      <td>control</td>\n",
       "      <td>bacterial</td>\n",
       "    </tr>\n",
       "    <tr>\n",
       "      <th>MN_382</th>\n",
       "      <td>viral</td>\n",
       "      <td>bacterial</td>\n",
       "    </tr>\n",
       "    <tr>\n",
       "      <th>MNC.033</th>\n",
       "      <td>viral</td>\n",
       "      <td>control</td>\n",
       "    </tr>\n",
       "  </tbody>\n",
       "</table>\n",
       "</div>"
      ],
      "text/plain": [
       "              Actual  Predicted\n",
       "MNC.557    bacterial    control\n",
       "MN_284         viral  bacterial\n",
       "MN_323        fungal  bacterial\n",
       "MNC.674        viral    control\n",
       "MNC.534        viral    control\n",
       "MNC.631      control  bacterial\n",
       "MNC.392      control      viral\n",
       "MN_307     bacterial    control\n",
       "MN_100         viral    control\n",
       "MNC.012.y      viral    control\n",
       "MNC.214    bacterial    control\n",
       "MNC.155        viral  bacterial\n",
       "MN_207         viral    control\n",
       "MNC.452.y    control  bacterial\n",
       "MN_382         viral  bacterial\n",
       "MNC.033        viral    control"
      ]
     },
     "execution_count": 9,
     "metadata": {},
     "output_type": "execute_result"
    }
   ],
   "source": [
    "patient_df[patient_df[\"Predicted\"] != patient_df[\"Actual\"]]"
   ]
  }
 ],
 "metadata": {
  "anaconda-cloud": {},
  "kernelspec": {
   "display_name": "Python [conda root]",
   "language": "python",
   "name": "conda-root-py"
  },
  "language_info": {
   "codemirror_mode": {
    "name": "ipython",
    "version": 2
   },
   "file_extension": ".py",
   "mimetype": "text/x-python",
   "name": "python",
   "nbconvert_exporter": "python",
   "pygments_lexer": "ipython2",
   "version": "2.7.12"
  }
 },
 "nbformat": 4,
 "nbformat_minor": 1
}
