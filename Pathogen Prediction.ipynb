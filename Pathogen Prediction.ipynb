{
 "cells": [
  {
   "cell_type": "markdown",
   "metadata": {},
   "source": [
    "# Predicting Pathogen from RNAseq data\n",
    "\n",
    "## Create the model using hyperparameter tuning"
   ]
  },
  {
   "cell_type": "code",
   "execution_count": 1,
   "metadata": {
    "collapsed": false
   },
   "outputs": [
    {
     "name": "stdout",
     "output_type": "stream",
     "text": [
      "Fitting 2 folds for each of 25 candidates, totalling 50 fits\n"
     ]
    },
    {
     "name": "stderr",
     "output_type": "stream",
     "text": [
      "[Parallel(n_jobs=1)]: Done  50 out of  50 | elapsed:   35.7s finished\n"
     ]
    },
    {
     "name": "stdout",
     "output_type": "stream",
     "text": [
      "Best: -1.099814 using {'n_estimators': 1, 'max_depth': 1}\n",
      "-1.099814 (0.011303) with: {'n_estimators': 1, 'max_depth': 1}\n",
      "-1.112787 (0.029429) with: {'n_estimators': 3, 'max_depth': 1}\n",
      "-1.135678 (0.042911) with: {'n_estimators': 5, 'max_depth': 1}\n",
      "-1.165098 (0.052897) with: {'n_estimators': 7, 'max_depth': 1}\n",
      "-1.198807 (0.060203) with: {'n_estimators': 9, 'max_depth': 1}\n",
      "-1.099814 (0.011303) with: {'n_estimators': 1, 'max_depth': 3}\n",
      "-1.112787 (0.029429) with: {'n_estimators': 3, 'max_depth': 3}\n",
      "-1.135678 (0.042911) with: {'n_estimators': 5, 'max_depth': 3}\n",
      "-1.165098 (0.052897) with: {'n_estimators': 7, 'max_depth': 3}\n",
      "-1.198807 (0.060203) with: {'n_estimators': 9, 'max_depth': 3}\n",
      "-1.099814 (0.011303) with: {'n_estimators': 1, 'max_depth': 5}\n",
      "-1.112787 (0.029429) with: {'n_estimators': 3, 'max_depth': 5}\n",
      "-1.135678 (0.042911) with: {'n_estimators': 5, 'max_depth': 5}\n",
      "-1.165098 (0.052897) with: {'n_estimators': 7, 'max_depth': 5}\n",
      "-1.198807 (0.060203) with: {'n_estimators': 9, 'max_depth': 5}\n",
      "-1.099814 (0.011303) with: {'n_estimators': 1, 'max_depth': 7}\n",
      "-1.112787 (0.029429) with: {'n_estimators': 3, 'max_depth': 7}\n",
      "-1.135678 (0.042911) with: {'n_estimators': 5, 'max_depth': 7}\n",
      "-1.165098 (0.052897) with: {'n_estimators': 7, 'max_depth': 7}\n",
      "-1.198807 (0.060203) with: {'n_estimators': 9, 'max_depth': 7}\n",
      "-1.099814 (0.011303) with: {'n_estimators': 1, 'max_depth': 9}\n",
      "-1.112787 (0.029429) with: {'n_estimators': 3, 'max_depth': 9}\n",
      "-1.135678 (0.042911) with: {'n_estimators': 5, 'max_depth': 9}\n",
      "-1.165098 (0.052897) with: {'n_estimators': 7, 'max_depth': 9}\n",
      "-1.198807 (0.060203) with: {'n_estimators': 9, 'max_depth': 9}\n"
     ]
    },
    {
     "data": {
      "text/plain": [
       "<matplotlib.text.Text at 0x1110f3850>"
      ]
     },
     "execution_count": 1,
     "metadata": {},
     "output_type": "execute_result"
    },
    {
     "data": {
      "image/png": "[encoded data removed]",
      "text/plain": [
       "<matplotlib.figure.Figure at 0x1116db0d0>"
      ]
     },
     "metadata": {},
     "output_type": "display_data"
    }
   ],
   "source": [
    "from sklearn.model_selection import train_test_split\n",
    "from sklearn.model_selection import GridSearchCV, StratifiedKFold\n",
    "from xgboost import XGBClassifier\n",
    "import pandas as pd\n",
    "import numpy as np\n",
    "import xgboost as xgb\n",
    "import matplotlib\n",
    "from matplotlib import pyplot\n",
    "from sklearn.metrics import confusion_matrix, accuracy_score, classification_report\n",
    "\n",
    "patient_groups=[\"control\", \"viral\", \"bacterial\"]\n",
    "\n",
    "X = pd.DataFrame.from_csv(\"combineSV_cutoff_WTcpmtable.txt\", sep=\"\\s+\").T\n",
    "y = [patient_groups.index(\"bacterial\")] * 17 \\\n",
    "    + [patient_groups.index(\"viral\")] * 13 \\\n",
    "    + [patient_groups.index(\"control\")] * 18\n",
    "X_train, X_test, y_train, y_test = train_test_split(X, y, test_size=0.4, random_state=0)\n",
    "\n",
    "model = XGBClassifier(objective=\"multi:softprob\")\n",
    "# Number of boosted trees to fit.\n",
    "n_estimators = range(1, 11, 2)\n",
    "# Maximum tree depth for base learners.\n",
    "max_depth = range(1, 11, 2)\n",
    "param_grid = dict(max_depth=max_depth, n_estimators=n_estimators)\n",
    "kfold = StratifiedKFold(n_splits=2, shuffle=True, random_state=7)\n",
    "grid_search = GridSearchCV(model, param_grid, scoring=\"neg_log_loss\", \n",
    "                           n_jobs=1, cv=kfold, verbose=1)\n",
    "grid_result = grid_search.fit(X_train, y_train)\n",
    "\n",
    "# summarize results\n",
    "print(\"Best: %f using %s\" % (grid_result.best_score_, grid_result.best_params_))\n",
    "means = grid_result.cv_results_['mean_test_score']\n",
    "stds = grid_result.cv_results_['std_test_score']\n",
    "params = grid_result.cv_results_['params']\n",
    "for mean, stdev, param in zip(means, stds, params):\n",
    "    print(\"%f (%f) with: %r\" % (mean, stdev, param))\n",
    "\n",
    "# plot results\n",
    "%matplotlib inline\n",
    "\n",
    "scores = np.array(means).reshape(len(max_depth), len(n_estimators))\n",
    "for i, value in enumerate(max_depth):\n",
    "    pyplot.plot(n_estimators, scores[i], label='depth: ' + str(value))\n",
    "pyplot.legend()\n",
    "pyplot.xlabel('n_estimators')\n",
    "pyplot.ylabel('Log Loss')"
   ]
  },
  {
   "cell_type": "markdown",
   "metadata": {},
   "source": [
    "## Make predictions based on the model"
   ]
  },
  {
   "cell_type": "code",
   "execution_count": 2,
   "metadata": {
    "collapsed": false
   },
   "outputs": [
    {
     "name": "stdout",
     "output_type": "stream",
     "text": [
      "Accuracy was 65.00%\n",
      "\n",
      "             precision    recall  f1-score   support\n",
      "\n",
      "    control       0.67      0.44      0.53         9\n",
      "      viral       0.57      0.80      0.67         5\n",
      "  bacterial       0.71      0.83      0.77         6\n",
      "\n",
      "avg / total       0.66      0.65      0.64        20\n",
      "\n",
      "Confusion Matrix: rows = predictions, columns = actual\n",
      "\n",
      "                       control          viral      bacterial\n",
      "        control              4              3              2\n",
      "          viral              1              4              0\n",
      "      bacterial              1              0              5\n"
     ]
    }
   ],
   "source": [
    "# make predictions\n",
    "predicted = grid_result.predict(X_test)\n",
    "\n",
    "print \"Accuracy was %.2f%%\\n\" % (100 * accuracy_score(y_test, predicted))\n",
    "print classification_report(y_test, predicted, target_names=patient_groups)\n",
    "cm = confusion_matrix(y_test, predicted, labels=[0,1,2])\n",
    "print \"Confusion Matrix: rows = predictions, columns = actual\\n\"\n",
    "row_format =\"{:>15}\" * (len(patient_groups)+1)\n",
    "print row_format.format(\"\", *patient_groups)\n",
    "for disease, row in zip(patient_groups, cm):\n",
    "    print row_format.format(disease, *row)"
   ]
  },
  {
   "cell_type": "markdown",
   "metadata": {},
   "source": [
    "## Review patients the model misclassified"
   ]
  },
  {
   "cell_type": "code",
   "execution_count": 3,
   "metadata": {
    "collapsed": false
   },
   "outputs": [
    {
     "data": {
      "text/html": [
       "<div>\n",
       "<table border=\"1\" class=\"dataframe\">\n",
       "  <thead>\n",
       "    <tr style=\"text-align: right;\">\n",
       "      <th></th>\n",
       "      <th>Actual Class</th>\n",
       "      <th>Predicted Class</th>\n",
       "      <th>Probability Bacterial</th>\n",
       "      <th>Probability Control</th>\n",
       "      <th>Probability Viral</th>\n",
       "    </tr>\n",
       "  </thead>\n",
       "  <tbody>\n",
       "    <tr>\n",
       "      <th>MN_288</th>\n",
       "      <td>control</td>\n",
       "      <td>bacterial</td>\n",
       "      <td>36.980911</td>\n",
       "      <td>31.676357</td>\n",
       "      <td>31.342733</td>\n",
       "    </tr>\n",
       "    <tr>\n",
       "      <th>MNC.118</th>\n",
       "      <td>control</td>\n",
       "      <td>viral</td>\n",
       "      <td>34.987049</td>\n",
       "      <td>29.968496</td>\n",
       "      <td>35.044453</td>\n",
       "    </tr>\n",
       "    <tr>\n",
       "      <th>MN_381</th>\n",
       "      <td>bacterial</td>\n",
       "      <td>control</td>\n",
       "      <td>35.097836</td>\n",
       "      <td>35.155418</td>\n",
       "      <td>29.746750</td>\n",
       "    </tr>\n",
       "    <tr>\n",
       "      <th>MN_366</th>\n",
       "      <td>control</td>\n",
       "      <td>bacterial</td>\n",
       "      <td>36.980911</td>\n",
       "      <td>31.676357</td>\n",
       "      <td>31.342733</td>\n",
       "    </tr>\n",
       "    <tr>\n",
       "      <th>MN_386</th>\n",
       "      <td>control</td>\n",
       "      <td>viral</td>\n",
       "      <td>31.363350</td>\n",
       "      <td>31.638885</td>\n",
       "      <td>36.997761</td>\n",
       "    </tr>\n",
       "    <tr>\n",
       "      <th>MNC.354</th>\n",
       "      <td>control</td>\n",
       "      <td>viral</td>\n",
       "      <td>31.363350</td>\n",
       "      <td>31.638885</td>\n",
       "      <td>36.997761</td>\n",
       "    </tr>\n",
       "    <tr>\n",
       "      <th>MN_382</th>\n",
       "      <td>viral</td>\n",
       "      <td>control</td>\n",
       "      <td>35.097836</td>\n",
       "      <td>35.155418</td>\n",
       "      <td>29.746750</td>\n",
       "    </tr>\n",
       "  </tbody>\n",
       "</table>\n",
       "</div>"
      ],
      "text/plain": [
       "        Actual Class Predicted Class  Probability Bacterial  \\\n",
       "MN_288       control       bacterial              36.980911   \n",
       "MNC.118      control           viral              34.987049   \n",
       "MN_381     bacterial         control              35.097836   \n",
       "MN_366       control       bacterial              36.980911   \n",
       "MN_386       control           viral              31.363350   \n",
       "MNC.354      control           viral              31.363350   \n",
       "MN_382         viral         control              35.097836   \n",
       "\n",
       "         Probability Control  Probability Viral  \n",
       "MN_288             31.676357          31.342733  \n",
       "MNC.118            29.968496          35.044453  \n",
       "MN_381             35.155418          29.746750  \n",
       "MN_366             31.676357          31.342733  \n",
       "MN_386             31.638885          36.997761  \n",
       "MNC.354            31.638885          36.997761  \n",
       "MN_382             35.155418          29.746750  "
      ]
     },
     "execution_count": 3,
     "metadata": {},
     "output_type": "execute_result"
    }
   ],
   "source": [
    "probs = np.array(grid_result.predict_proba(X_test))\n",
    "probs *= 100\n",
    "\n",
    "d = {\"Probability Control\": probs[:, patient_groups.index(\"control\")],\n",
    "     \"Probability Viral\": probs[:, patient_groups.index(\"viral\")],\n",
    "     \"Probability Bacterial\": probs[:, patient_groups.index(\"bacterial\")],\n",
    "     \"Predicted Class\": [patient_groups[i] for i in grid_result.predict(X_test)],\n",
    "     \"Actual Class\": [patient_groups[i] for i in y_test]}\n",
    "\n",
    "patient_df = pd.DataFrame(d, index=X_test.index)\n",
    "patient_df[patient_df[\"Predicted Class\"] != patient_df[\"Actual Class\"]]"
   ]
  },
  {
   "cell_type": "code",
   "execution_count": 4,
   "metadata": {
    "collapsed": false,
    "scrolled": false
   },
   "outputs": [
    {
     "data": {
      "text/html": [
       "\n",
       "<h2>List of genes by importance</h2>\n",
       "<p>Note: the NCBI link will open the target in a new window or tab.</p>\n",
       "<table>\n",
       "<tr><th>Gene</th><th>Importance</th><th>NCBI</th></tr>\n",
       "\n",
       "    <tr><td>CISD3</td><td>1</td>\n",
       "    <td><a target=\"_blank\" href=\"https://www.ncbi.nlm.nih.gov/gene/?term=CISD3[Gene Name] AND Human[Organism]\">NCBI Search</a></td></tr>\n",
       "    \n",
       "    <tr><td>FYN</td><td>1</td>\n",
       "    <td><a target=\"_blank\" href=\"https://www.ncbi.nlm.nih.gov/gene/?term=FYN[Gene Name] AND Human[Organism]\">NCBI Search</a></td></tr>\n",
       "    \n",
       "    <tr><td>IL2RB</td><td>1</td>\n",
       "    <td><a target=\"_blank\" href=\"https://www.ncbi.nlm.nih.gov/gene/?term=IL2RB[Gene Name] AND Human[Organism]\">NCBI Search</a></td></tr>\n",
       "    </table>"
      ],
      "text/plain": [
       "<IPython.core.display.HTML object>"
      ]
     },
     "metadata": {},
     "output_type": "display_data"
    }
   ],
   "source": [
    "from IPython.core.display import display, HTML\n",
    "\n",
    "colname = \"Importance\"\n",
    "df = pd.DataFrame(grid_result.best_estimator_.booster().get_score(importance_type=\"weight\"),\n",
    "                  index=[colname]).T\n",
    "df = df[df[colname] > 0]\n",
    "df = df.sort_values(by=[colname], ascending=False)\n",
    "\n",
    "s=\"\"\"\n",
    "<h2>List of genes by importance</h2>\n",
    "<p>Note: the NCBI link will open the target in a new window or tab.</p>\n",
    "<table>\n",
    "<tr><th>Gene</th><th>Importance</th><th>NCBI</th></tr>\n",
    "\"\"\"\n",
    "\n",
    "ncbi_url = lambda gene: \"https://www.ncbi.nlm.nih.gov/gene/?term=%s[Gene Name] AND Human[Organism]\" % (gene)\n",
    "\n",
    "for index, row in df.iterrows():\n",
    "    s += \"\"\"\n",
    "    <tr><td>%s</td><td>%d</td>\n",
    "    <td><a target=\\\"_blank\\\" href=\\\"%s\\\">NCBI Search</a></td></tr>\n",
    "    \"\"\" %(index, row[0], ncbi_url(index))\n",
    "s += \"</table>\"\n",
    "\n",
    "display(HTML(s))\n"
   ]
  },
  {
   "cell_type": "code",
   "execution_count": 7,
   "metadata": {
    "collapsed": false
   },
   "outputs": [
    {
     "data": {
      "text/plain": [
       "['0:[CISD3<33.2943] yes=1,no=2,missing=1\\n\\t1:leaf=-0.0564706\\n\\t2:leaf=0.1\\n',\n",
       " '0:[IL2RB<121.106] yes=1,no=2,missing=1\\n\\t1:leaf=-0.0670588\\n\\t2:leaf=0.1\\n',\n",
       " '0:[FYN<102.912] yes=1,no=2,missing=1\\n\\t1:leaf=0.0983607\\n\\t2:leaf=-0.0652174\\n']"
      ]
     },
     "execution_count": 7,
     "metadata": {},
     "output_type": "execute_result"
    }
   ],
   "source": [
    "# Dump booster info\n",
    "grid_result.best_estimator_.booster().get_dump()"
   ]
  }
 ],
 "metadata": {
  "anaconda-cloud": {},
  "kernelspec": {
   "display_name": "Python [conda root]",
   "language": "python",
   "name": "conda-root-py"
  },
  "language_info": {
   "codemirror_mode": {
    "name": "ipython",
    "version": 2
   },
   "file_extension": ".py",
   "mimetype": "text/x-python",
   "name": "python",
   "nbconvert_exporter": "python",
   "pygments_lexer": "ipython2",
   "version": "2.7.12"
  }
 },
 "nbformat": 4,
 "nbformat_minor": 1
}
