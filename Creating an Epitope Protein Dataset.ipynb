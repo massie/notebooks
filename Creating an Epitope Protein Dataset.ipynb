{
 "cells": [
  {
   "cell_type": "markdown",
   "metadata": {},
   "source": [
    "## 1. Download epitopes from IEDB.org\n",
    "\n",
    "http://www.iedb.org/\n",
    "\n",
    "Choose the following in the search\n",
    "* Epitope: Linear Epitopes\n",
    "* Assay: Positive Assays Only, MHC Ligand Assays\n",
    "* MHC Restriction: MHC Class I\n",
    "* Host: Human\n",
    "\n",
    "Hit the \"search\" button. Once the search is complete, hit the \"Export Epitopes Results\" button to get a CSV file.\n",
    "\n",
    "## 2. Cleanup IEDB Data"
   ]
  },
  {
   "cell_type": "code",
   "execution_count": 1,
   "metadata": {
    "collapsed": false
   },
   "outputs": [
    {
     "name": "stderr",
     "output_type": "stream",
     "text": [
      "/Users/matt/anaconda2/lib/python2.7/site-packages/IPython/core/interactiveshell.py:2821: DtypeWarning: Columns (0,3,4,5,6,10) have mixed types. Specify dtype option on import or set low_memory=False.\n",
      "  if self.run_code(code, result):\n"
     ]
    },
    {
     "name": "stdout",
     "output_type": "stream",
     "text": [
      "There are 95489 IEDB MHC-1 epitopes from 32234 unique proteins (antigens).\n"
     ]
    }
   ],
   "source": [
    "import pandas as pd\n",
    "import numpy as np\n",
    "\n",
    "data_dir = \"data/epitope_protein/\"\n",
    "max_epitope_len = 25\n",
    "min_epitope_len = 5\n",
    "\n",
    "# Load the CSV from IEDB (skipping the first line, [2:])\n",
    "epi = pd.DataFrame.from_csv(data_dir + \"epitope_table_export_1477949116.csv\")[2:]\n",
    "# Rename the columns to remove whitespace\n",
    "epi.columns=['type', 'epitope_sequence', 'start', 'end', 'chebi', 'syn', 'protein', 'protein_id', 'organism', 'oid', 'comments']\n",
    "# Remove GI entries that start with prefix \"SRC\"\n",
    "epi = epi[epi.protein_id.str.startswith(\"SRC\") == False]\n",
    "# Remove entries with '+' notation (note: looking into this, e.g. \"PLNISLGDVVLY + DEAM(N3)\")\n",
    "epi = epi[epi.epitope_sequence.str.find('+') == -1]\n",
    "# Remove the \"GI:\" prefix from the GIs provided by IEDB\n",
    "epi[\"protein_id\"] = epi.protein_id.str.replace(\"GI:\", \"\") \n",
    "# Drop any epitopes that are not the desired length\n",
    "iedb_epitopes = epi[(epi.epitope_sequence.str.len() >= min_epitope_len) \\\n",
    "                    & (epi.epitope_sequence.str.len() <= max_epitope_len)]\\\n",
    "                .loc[:, [\"epitope_sequence\", \"protein_id\", \"start\", \"end\"]]\n",
    "# Create a file with a list of unique protein (antigen) IDs for use with BLAST\n",
    "antigen_ids = iedb_epitopes[\"protein_id\"].unique()\n",
    "np.savetxt(data_dir + \"protein_ids.txt\", antigen_ids, fmt=\"%s\")\n",
    "\n",
    "num_iedb_epitopes = iedb_epitopes.shape[0]\n",
    "num_iedb_proteins = antigen_ids.shape[0]\n",
    "\n",
    "print \"There are %d IEDB MHC-1 epitopes from %d unique proteins (antigens).\" % (num_iedb_epitopes, num_iedb_proteins)"
   ]
  },
  {
   "cell_type": "markdown",
   "metadata": {},
   "source": [
    "## 3. BLAST the Swiss-Prot sequence database\n",
    "\n",
    "Download [the latest swiss database from NCBI](ftp://ftp.ncbi.nlm.nih.gov/blast/db/) and save it locally."
   ]
  },
  {
   "cell_type": "code",
   "execution_count": 2,
   "metadata": {
    "collapsed": false
   },
   "outputs": [],
   "source": [
    "# Update this to point to your SWISS protein database location\n",
    "swiss_db_dir = \"/workspace/blast/swiss/\""
   ]
  },
  {
   "cell_type": "code",
   "execution_count": 3,
   "metadata": {
    "collapsed": true
   },
   "outputs": [],
   "source": [
    "from itertools import groupby\n",
    "\n",
    "# https://www.biostars.org/p/710/\n",
    "def fasta_iter(fasta_name):\n",
    "    \"\"\"\n",
    "    given a fasta file. yield tuples of header, sequence\n",
    "    \"\"\"\n",
    "    fh = open(fasta_name)\n",
    "    # ditch the boolean (x[0]) and just keep the header or sequence since\n",
    "    # we know they alternate.\n",
    "    faiter = (x[1] for x in groupby(fh, lambda line: line[0] == \">\"))\n",
    "    for header in faiter:\n",
    "        # drop the \">\"\n",
    "        header = header.next()[1:].strip()\n",
    "        # join all sequence lines to one.\n",
    "        seq = \"\".join(s.strip() for s in faiter.next())\n",
    "        yield header, seq"
   ]
  },
  {
   "cell_type": "code",
   "execution_count": 4,
   "metadata": {
    "collapsed": false
   },
   "outputs": [
    {
     "name": "stdout",
     "output_type": "stream",
     "text": [
      "Using BLAST to find the sequence for all the GIs\n",
      "Writing proteins to data/epitope_protein/proteins.fasta\n",
      "Found 10114 of the 32234 IEDB proteins in the Swiss-Prot sequence database\n"
     ]
    }
   ],
   "source": [
    "protein_fasta = data_dir + \"proteins.fasta\"\n",
    "\n",
    "print \"Using BLAST to find the sequence for all the GIs\"\n",
    "print \"Writing proteins to %s\" % (protein_fasta)\n",
    "blast = !blastdbcmd -db $swiss_db_dir/swissprot.00 -entry_batch $data_dir/protein_ids.txt \\\n",
    "                -out $protein_fasta\n",
    "data = []\n",
    "for (header, seq) in fasta_iter(protein_fasta):\n",
    "    header_fields = header.split('|')\n",
    "    assert(header_fields[0] == 'gi')\n",
    "    gi = header_fields[1]\n",
    "    data.append((gi, seq))\n",
    "swiss_prot_db = pd.DataFrame(data, columns=['protein_id', 'protein_sequence'])\n",
    "num_swiss_proteins = swiss_prot_db.shape[0]\n",
    "print \"Found %d of the %d IEDB proteins in the Swiss-Prot sequence database\" % (num_swiss_proteins, num_iedb_proteins)"
   ]
  },
  {
   "cell_type": "markdown",
   "metadata": {},
   "source": [
    "## 4. Merge the IEDB epitope and Swiss-Prot sequence data"
   ]
  },
  {
   "cell_type": "code",
   "execution_count": 5,
   "metadata": {
    "collapsed": false
   },
   "outputs": [],
   "source": [
    "# Merge the IEDB epitops with the SWISS protein data and drop any NaN values (proteins not in SWISSprot)\n",
    "iedb_swiss_merged = pd.merge(iedb_epitopes, swiss_prot_db, on=\"protein_id\", how=\"right\").dropna()\n",
    "# Since we're going to sort on position, convert to numeric columns\n",
    "iedb_swiss_merged[\"start\"] = pd.to_numeric(iedb_swiss_merged[\"start\"])\n",
    "iedb_swiss_merged[\"end\"] = pd.to_numeric(iedb_swiss_merged[\"end\"])"
   ]
  },
  {
   "cell_type": "code",
   "execution_count": 6,
   "metadata": {
    "collapsed": false
   },
   "outputs": [
    {
     "name": "stdout",
     "output_type": "stream",
     "text": [
      "MKKKLVVLGLLAVVLVLVIV\n",
      "[0.5, 0.5, 0.5, 0.5, 0.5, 0.5, 0.5, 0.5, 0.5, 0.5, 0.5, 0.5, 0.5, 0.5, 0.5, 0.5, 0.5, 0.5, 0.5, 0.5]\n",
      "GLCLWLPSASKEPDNHVYTR\n",
      "[0.5, 0.5, 0.5, 0.5, 0.5, 0.5, 0.5, 0.5, 0.5, 0, 0, 0, 0, 0, 0, 0, 0, 0, 1, 0.5]\n",
      "AAVAADAKQCSKIGRDALRD\n",
      "[0.5, 0.5, 0.5, 0.5, 0.5, 0.5, 0.5, 0.5, 0.5, 0.5, 0.5, 0.5, 0.5, 0.5, 0.5, 0.5, 0.5, 0.5, 0.5, 0.5]\n",
      "GGSAVDAAIAALLCVGLMNA\n",
      "[0.5, 0.5, 0.5, 0.5, 0.5, 0.5, 0.5, 0.5, 0.5, 0.5, 0.5, 0.5, 0.5, 0.5, 0.5, 0.5, 0.5, 0.5, 0.5, 0.5]\n",
      "HSMGIGGGLFLTIYNSTTRK\n",
      "[0.5, 0.5, 0.5, 0.5, 0.5, 0.5, 0.5, 0.5, 0.5, 0.5, 0.5, 0.5, 0.5, 0.5, 0.5, 0.5, 0.5, 0.5, 0.5, 0.5]\n",
      "AEVINAREVAPRLAFATMFN\n",
      "[0, 0, 0, 0, 0, 0, 0, 0, 0, 1, 0, 0, 0, 0, 0, 1, 0.5, 0.5, 0.5, 0.5]\n",
      "SSEQSQKGGLSVAVPGEIRG\n",
      "[0.5, 0.5, 0.5, 0.5, 0.5, 0.5, 0.5, 0.5, 0.5, 0.5, 0.5, 0.5, 0.5, 0.5, 0.5, 0.5, 0.5, 0.5, 0.5, 0.5]\n",
      "YELAHQRHGRLPWARLFQPS\n",
      "[0.5, 0.5, 0.5, 0.5, 0.5, 0.5, 0.5, 0.5, 0.5, 0.5, 0.5, 0.5, 0.5, 0.5, 0.5, 0.5, 0.5, 0.5, 0.5, 0.5]\n",
      "IQLARQGFPVGKGLAAALEN\n",
      "[0.5, 0.5, 0.5, 0.5, 0.5, 0.5, 0.5, 0.5, 0.5, 0.5, 0.5, 0.5, 0.5, 0.5, 0.5, 0.5, 0.5, 0.5, 0.5, 0.5]\n",
      "KRTVIEQQPVLCEVFCRDRK\n",
      "[0.5, 0.5, 0.5, 0.5, 0.5, 0.5, 0.5, 0.5, 0.5, 0.5, 0.5, 0.5, 0.5, 0.5, 0.5, 0.5, 0.5, 0.5, 0.5, 0.5]\n",
      "VLREGERLTLPQLADTYETL\n",
      "[0.5, 0.5, 0.5, 0.5, 0.5, 0.5, 0.5, 0.5, 0.5, 0.5, 0.5, 0.5, 0.5, 0.5, 0.5, 0.5, 0.5, 0.5, 0.5, 0.5]\n",
      "AIEGAQAFYNGSLTAQIVKD\n",
      "[0.5, 0.5, 0.5, 0.5, 0.5, 0.5, 0.5, 0.5, 0.5, 0.5, 0.5, 0.5, 0.5, 0.5, 0.5, 0.5, 0.5, 0.5, 0.5, 0.5]\n",
      "IQAAGGIVTAEDLNNYRAEL\n",
      "[0.5, 0.5, 0.5, 0.5, 0.5, 0.5, 0.5, 0.5, 0.5, 0.5, 0.5, 0.5, 0.5, 0.5, 0.5, 0.5, 0.5, 0.5, 0.5, 0.5]\n",
      "IEHPLNISLGDVVLYMPSAP\n",
      "[0.5, 0.5, 0.5, 0.5, 0.5, 0.5, 0.5, 0.5, 0.5, 0.5, 0.5, 0.5, 0.5, 0.5, 0.5, 0.5, 0.5, 0.5, 0.5, 0.5]\n",
      "LSGPVLALILNILKGYNFSR\n",
      "[0.5, 0.5, 0.5, 0.5, 0.5, 0.5, 0.5, 0.5, 0.5, 0.5, 0.5, 0.5, 0.5, 0.5, 0.5, 0.5, 0.5, 0.5, 0.5, 0.5]\n",
      "ESVESPEQKGLTYHRIVEAF\n",
      "[0.5, 0.5, 0.5, 0.5, 0.5, 0.5, 0.5, 0.5, 0.5, 0.5, 0.5, 0.5, 0.5, 0.5, 0.5, 0.5, 0.5, 0.5, 0.5, 0.5]\n",
      "RFAYAKRTLLGDPKFVDVTE\n",
      "[0.5, 0.5, 0.5, 0.5, 0.5, 0.5, 0.5, 0.5, 0.5, 0.5, 0.5, 0.5, 0.5, 0.5, 0.5, 0.5, 0.5, 0.5, 0.5, 0.5]\n",
      "VVRNMTSEFFAAQLRAQISD\n",
      "[0.5, 0.5, 0.5, 0.5, 0.5, 0.5, 0.5, 0.5, 0.5, 0.5, 0.5, 0.5, 0.5, 0.5, 0.5, 0.5, 0.5, 0.5, 0.5, 0.5]\n",
      "DTTHPISYYKPEFYTPDDGG\n",
      "[0.5, 0.5, 0.5, 0.5, 0.5, 0.5, 0.5, 0.5, 0.5, 0.5, 0.5, 0.5, 0.5, 0.5, 0.5, 0.5, 0.5, 0.5, 0.5, 0.5]\n",
      "TAHLSVVAEDGSAVSATSTI\n",
      "[0.5, 0.5, 0.5, 0.5, 0.5, 0.5, 0.5, 0.5, 0.5, 0.5, 0.5, 0.5, 0.5, 0.5, 0.5, 0.5, 0.5, 0.5, 0.5, 0.5]\n",
      "NLYFGSKVRSPVSGILFNNE\n",
      "[0.5, 0.5, 0.5, 0.5, 0.5, 0.5, 0.5, 0.5, 0.5, 0.5, 0.5, 0.5, 0.5, 0.5, 0.5, 0.5, 0.5, 0.5, 0.5, 0.5]\n",
      "MDDFSSPSITNEFGVPPSPA\n",
      "[0.5, 0.5, 0.5, 0.5, 0.5, 0.5, 0.5, 0.5, 0.5, 0.5, 0.5, 0.5, 0.5, 0.5, 0.5, 0.5, 0.5, 0.5, 0.5, 0.5]\n",
      "NFIQPGKQPLSSMCPTIMVG\n",
      "[0.5, 0.5, 0.5, 0.5, 0.5, 0.5, 0.5, 0.5, 0.5, 0.5, 0.5, 0.5, 0.5, 0.5, 0.5, 0.5, 0.5, 0.5, 0.5, 0.5]\n",
      "QDGQVRMVVGAAGGTQITTA\n",
      "[0.5, 0.5, 0.5, 0.5, 0.5, 0.5, 0.5, 0.5, 0.5, 0.5, 0.5, 0.5, 0.5, 0.5, 0, 0, 0, 0, 0, 0]\n",
      "TALAIIYNLWFGYDVKRAVE\n",
      "[0, 0, 0, 1, 0.5, 0.5, 0.5, 0.5, 0.5, 0.5, 0.5, 0.5, 0.5, 0.5, 0.5, 0.5, 0.5, 0.5, 0.5, 0.5]\n",
      "EPRLHNQLLPNVTTVERNID\n",
      "[0.5, 0.5, 0.5, 0.5, 0.5, 0.5, 0.5, 0.5, 0.5, 0.5, 0.5, 0.5, 0.5, 0.5, 0.5, 0.5, 0.5, 0.5, 0.5, 0.5]\n",
      "QAVTAALETRHHHTQIASTF\n",
      "[0.5, 0.5, 0.5, 0.5, 0.5, 0.5, 0.5, 0.5, 0.5, 0.5, 0.5, 0, 0, 0, 0, 0, 0, 0, 0, 0]\n",
      "IAVVQAIVRTAGGWAAASDS\n",
      "[1, 0.5, 0.5, 0.5, 0.5, 0.5, 0.5, 0.5, 0.5, 0.5, 0.5, 0.5, 0.5, 0.5, 0.5, 0.5, 0.5, 0.5, 0.5, 0.5]\n",
      "RKGGEPAGY\n",
      "[0.5, 0.5, 0.5, 0.5, 0.5, 0.5, 0.5, 0.5, 0.5]\n"
     ]
    }
   ],
   "source": [
    "for (protein_id, row_ids) in iedb_swiss_merged.groupby(\"protein_id\").groups.items():\n",
    "    epitope_rows = iedb_swiss_merged.loc[row_ids]\n",
    "    # Grab the protein sequence from the first row\n",
    "    protein_sequence = epitope_rows['protein_sequence'].iloc[0]\n",
    "    #print protein_sequence\n",
    "    # We don't know anything about the cuts to start: 50/50 chance of a cut\n",
    "    cut_scores = [0.5]*len(protein_sequence)\n",
    "    sorted_epitopes = epitope_rows.sort_values(by=\"start\")\n",
    "    ends = []\n",
    "    for (i, epitope_sequence, start, end) in sorted_epitopes[[\"epitope_sequence\", \"start\", \"end\"]].itertuples():\n",
    "        start = int(start) - 1\n",
    "        end = int(end)\n",
    "        # Double check that the start and end positions are correct\n",
    "        (a, b) = (protein_sequence[start:end], epitope_sequence)\n",
    "        assert a == b, \"'%s' != '%s'\" % (a, b)\n",
    "        #print ' ' * start,\n",
    "        #print epitope_sequence\n",
    "        for i in range(start, end):\n",
    "            cut_scores[i] = 0\n",
    "        ends.append(end)\n",
    "    # Mark the ends last due to overlapping epitopes\n",
    "    for end in ends:\n",
    "        cut_scores[end] = 1\n",
    "    #for (score, amino_acid) in zip(cut_scores, protein_sequence):\n",
    "    #    print \"%.1f%s\" % (score, amino_acid),\n",
    "    #print \"\\n\"\n",
    "    \n",
    "    chunk_len = 20\n",
    "    cut_score_chunks = [cut_scores[i:i+chunk_len] for i in range(0, len(cut_scores), chunk_len)]\n",
    "    protein_sequence_chunks = [protein_sequence[i:i+chunk_len] for i in range(0, len(protein_sequence), chunk_len)]\n",
    "    for (scores, peptide) in zip(cut_score_chunks, protein_sequence_chunks):\n",
    "        print peptide\n",
    "        print scores\n",
    "    \n",
    "    break"
   ]
  },
  {
   "cell_type": "code",
   "execution_count": 7,
   "metadata": {
    "collapsed": false
   },
   "outputs": [],
   "source": [
    "# Outputs each protein and epitope alignments, e.g.\n",
    "# MVNLLQIVRDHWVHVLVPMGFVIGCYLDRKSDERLTAFRNKSMLFKRELQPSEEVTWK\n",
    "#       IVRDHWVHV\n",
    "#                                               RELQPSEEVTW\n",
    "def write_epitope_protein_alignments(outfile):\n",
    "    alignments = open(outfile, \"w\")\n",
    "    output_width = 128\n",
    "    for (protein_id, row_ids) in iedb_swiss_merged.groupby(\"protein_id\").groups.items():\n",
    "        epitope_rows = iedb_swiss_merged.loc[row_ids]\n",
    "        # Grab the protein sequence from the first row\n",
    "        protein_sequence = epitope_rows['protein_sequence'].iloc[0]\n",
    "        sorted_epitopes = epitope_rows.sort_values(by=\"start\")\n",
    "        epitope_sequences = []\n",
    "        for (i, epitope_sequence, start, end) in sorted_epitopes[[\"epitope_sequence\", \"start\", \"end\"]].itertuples():\n",
    "            start = int(start) - 1\n",
    "            end = int(end)\n",
    "            # Double check that the start and end positions are correct\n",
    "            (a, b) = (protein_sequence[start:end], epitope_sequence)\n",
    "            assert a == b, \"'%s' != '%s'\" % (a, b)\n",
    "            epitope_sequences.append(' ' * start + epitope_sequence)\n",
    "        for i in range(0, len(protein_sequence), output_width):\n",
    "            alignments.write(\"Pro: %s\\n\" % (protein_sequence[i:i+output_width]))\n",
    "            for epitope_sequence in epitope_sequences:\n",
    "                alignments.write(\"Epi: %s\\n\" % (epitope_sequence[i:i+output_width]))\n",
    "        alignments.write('-' * (output_width + 5) + \"\\n\")\n",
    "    alignments.close()\n",
    "        \n",
    "#write_epitope_protein_alignments(data_dir + \"epitope_protein_alignments.txt\")"
   ]
  }
 ],
 "metadata": {
  "anaconda-cloud": {},
  "kernelspec": {
   "display_name": "Python [conda root]",
   "language": "python",
   "name": "conda-root-py"
  },
  "language_info": {
   "codemirror_mode": {
    "name": "ipython",
    "version": 2
   },
   "file_extension": ".py",
   "mimetype": "text/x-python",
   "name": "python",
   "nbconvert_exporter": "python",
   "pygments_lexer": "ipython2",
   "version": "2.7.12"
  }
 },
 "nbformat": 4,
 "nbformat_minor": 1
}
