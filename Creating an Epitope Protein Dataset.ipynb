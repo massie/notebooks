{
 "cells": [
  {
   "cell_type": "markdown",
   "metadata": {},
   "source": [
    "## Download epitopes from IEDB.org\n",
    "\n",
    "http://www.iedb.org/\n",
    "\n",
    "Choose the following in the search\n",
    "* Epitope: Linear Epitopes\n",
    "* Assay: Positive Assays Only, MHC Ligand Assays\n",
    "* MHC Restriction: MHC Class I\n",
    "* Host: Human\n",
    "\n",
    "Hit the \"search\" button. Once the search is complete, hit the \"Export Epitopes Results\" button to get a CSV file."
   ]
  },
  {
   "cell_type": "code",
   "execution_count": 1,
   "metadata": {
    "collapsed": false
   },
   "outputs": [
    {
     "name": "stderr",
     "output_type": "stream",
     "text": [
      "/Users/matt/anaconda2/lib/python2.7/site-packages/IPython/core/interactiveshell.py:2821: DtypeWarning: Columns (0,3,4,5,6,10) have mixed types. Specify dtype option on import or set low_memory=False.\n",
      "  if self.run_code(code, result):\n"
     ]
    }
   ],
   "source": [
    "import pandas as pd\n",
    "import numpy as np\n",
    "\n",
    "data_dir = \"data/epitope_protein/\"\n",
    "\n",
    "# Load the CSV from IEDB (skipping the first line, [2:])\n",
    "epi = pd.DataFrame.from_csv(data_dir + \"epitope_table_export_1477949116.csv\")[2:]\n",
    "# Rename the columns to remove whitespace\n",
    "epi.columns=['type', 'epitope_sequence', 'start', 'end', 'chebi', 'syn', 'antigen', 'antigenid', 'organism', 'oid', 'comments']\n",
    "# Remove GI entries that start with prefix \"SRC\"\n",
    "epi = epi[epi.antigenid.str.startswith(\"SRC\") == False]\n",
    "# Remove the \"GI:\" prefix from the GIs provided by IEDB\n",
    "epi[\"antigenid\"] = epi.antigenid.str.replace(\"GI:\", \"\")\n",
    "# Drop any epitopes that are not [8-12] amino acids long\n",
    "id_seq_antigen = epi[(epi.epitope_sequence.str.len() >= 8) & (epi.epitope_sequence.str.len() <= 12)]\\\n",
    "                .loc[:, [\"epitope_sequence\", \"antigenid\"]]\n",
    "# Save the data to a CSV file\n",
    "id_seq_antigen.to_csv(data_dir + \"epitope_sequence_antigen.csv\")\n",
    "# Create a file with a list of unique antigen IDs\n",
    "antigen_ids = id_seq_antigen[\"antigenid\"].unique()\n",
    "np.savetxt(data_dir + \"antigen_ids.txt\", antigen_ids, fmt=\"%s\")"
   ]
  },
  {
   "cell_type": "code",
   "execution_count": 2,
   "metadata": {
    "collapsed": true
   },
   "outputs": [],
   "source": [
    "from itertools import groupby\n",
    "\n",
    "# https://www.biostars.org/p/710/\n",
    "def fasta_iter(fasta_name):\n",
    "    \"\"\"\n",
    "    given a fasta file. yield tuples of header, sequence\n",
    "    \"\"\"\n",
    "    fh = open(fasta_name)\n",
    "    # ditch the boolean (x[0]) and just keep the header or sequence since\n",
    "    # we know they alternate.\n",
    "    faiter = (x[1] for x in groupby(fh, lambda line: line[0] == \">\"))\n",
    "    for header in faiter:\n",
    "        # drop the \">\"\n",
    "        header = header.next()[1:].strip()\n",
    "        # join all sequence lines to one.\n",
    "        seq = \"\".join(s.strip() for s in faiter.next())\n",
    "        yield header, seq"
   ]
  },
  {
   "cell_type": "code",
   "execution_count": 3,
   "metadata": {
    "collapsed": false
   },
   "outputs": [
    {
     "name": "stdout",
     "output_type": "stream",
     "text": [
      "Using BLAST to find the sequence for all the GIs\n",
      "BLAST Finished.\n",
      "Processing data...\n",
      "Done.\n"
     ]
    }
   ],
   "source": [
    "print \"Using BLAST to find the sequence for all the GIs\"\n",
    "blast = !blastdbcmd -db /workspace/blast/swiss/swissprot.00 -entry_batch data/epitope_protein/antigen_ids.txt \\\n",
    "                -out data/epitope_protein/antigens.fasta\n",
    "print \"BLAST Finished.\\nProcessing data...\"\n",
    "data = []\n",
    "for (header, seq) in fasta_iter(data_dir + \"antigens.fasta\"):\n",
    "    header_fields = header.split('|')\n",
    "    assert(header_fields[0] == 'gi')\n",
    "    gi = header_fields[1]\n",
    "    data.append((gi, seq))\n",
    "\n",
    "gi_seq = pd.DataFrame(data, columns=['antigenid', 'antigen_sequence'])\n",
    "print \"Done.\""
   ]
  },
  {
   "cell_type": "code",
   "execution_count": 8,
   "metadata": {
    "collapsed": false
   },
   "outputs": [],
   "source": [
    "# Merging data from IEDB and Swiss\n",
    "#print id_seq_antigen.head(10)\n",
    "#print gi_seq.head(10)\n",
    "\n",
    "#gi_seq[gi_seq.antigenid == \"121919\"]\n",
    "id_seq_antigen[id_seq_antigen.antigenid == \"121919\"]\n",
    "\n",
    "merged = pd.merge(id_seq_antigen, gi_seq, on=\"antigenid\", how=\"left\")\n",
    "merged.to_csv(data_dir + \"epitope_protein_sequences.csv\")"
   ]
  }
 ],
 "metadata": {
  "kernelspec": {
   "display_name": "Python [conda root]",
   "language": "python",
   "name": "conda-root-py"
  },
  "language_info": {
   "codemirror_mode": {
    "name": "ipython",
    "version": 2
   },
   "file_extension": ".py",
   "mimetype": "text/x-python",
   "name": "python",
   "nbconvert_exporter": "python",
   "pygments_lexer": "ipython2",
   "version": "2.7.12"
  }
 },
 "nbformat": 4,
 "nbformat_minor": 1
}
