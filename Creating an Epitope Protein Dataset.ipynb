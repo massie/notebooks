{
 "cells": [
  {
   "cell_type": "markdown",
   "metadata": {},
   "source": [
    "## Download epitopes from IEDB.org\n",
    "\n",
    "http://www.iedb.org/\n",
    "\n",
    "Choose the following in the search\n",
    "* Epitope: Linear Epitopes\n",
    "* Assay: Positive Assays Only, MHC Ligand Assays\n",
    "* MHC Restriction: MHC Class I\n",
    "* Host: Human\n",
    "\n",
    "Hit the \"search\" button. Once the search is complete, hit the \"Export Epitopes Results\" button to get a CSV file.\n",
    "\n",
    "## Cleanup IEDB Data"
   ]
  },
  {
   "cell_type": "code",
   "execution_count": 1,
   "metadata": {
    "collapsed": false
   },
   "outputs": [
    {
     "name": "stderr",
     "output_type": "stream",
     "text": [
      "/Users/matt/anaconda2/lib/python2.7/site-packages/IPython/core/interactiveshell.py:2821: DtypeWarning: Columns (0,3,4,5,6,10) have mixed types. Specify dtype option on import or set low_memory=False.\n",
      "  if self.run_code(code, result):\n"
     ]
    },
    {
     "name": "stdout",
     "output_type": "stream",
     "text": [
      "There are 88793 IEDB MHC-1 epitopes from 31375 unique proteins (antigens).\n"
     ]
    }
   ],
   "source": [
    "import pandas as pd\n",
    "import numpy as np\n",
    "\n",
    "data_dir = \"data/epitope_protein/\"\n",
    "\n",
    "# Load the CSV from IEDB (skipping the first line, [2:])\n",
    "epi = pd.DataFrame.from_csv(data_dir + \"epitope_table_export_1477949116.csv\")[2:]\n",
    "# Rename the columns to remove whitespace\n",
    "epi.columns=['type', 'epitope_sequence', 'start', 'end', 'chebi', 'syn', 'protein', 'protein_id', 'organism', 'oid', 'comments']\n",
    "# Remove GI entries that start with prefix \"SRC\"\n",
    "epi = epi[epi.protein_id.str.startswith(\"SRC\") == False]\n",
    "# Remove the \"GI:\" prefix from the GIs provided by IEDB\n",
    "epi[\"protein_id\"] = epi.protein_id.str.replace(\"GI:\", \"\") \n",
    "# Drop any epitopes that are not [8-12] amino acids long\n",
    "iedb_epitopes = epi[(epi.epitope_sequence.str.len() >= 8) & (epi.epitope_sequence.str.len() <= 12)]\\\n",
    "                .loc[:, [\"epitope_sequence\", \"protein_id\", \"start\", \"end\"]]\n",
    "# Create a file with a list of unique protein (antigen) IDs for use with BLAST\n",
    "antigen_ids = iedb_epitopes[\"protein_id\"].unique()\n",
    "np.savetxt(data_dir + \"protein_ids.txt\", antigen_ids, fmt=\"%s\")\n",
    "\n",
    "num_iedb_epitopes = iedb_epitopes.shape[0]\n",
    "num_iedb_proteins = antigen_ids.shape[0]\n",
    "\n",
    "print \"There are %d IEDB MHC-1 epitopes from %d unique proteins (antigens).\" % (num_iedb_epitopes, num_iedb_proteins)"
   ]
  },
  {
   "cell_type": "markdown",
   "metadata": {},
   "source": [
    "## BLAST the SWISS Protein database in order to find protein data"
   ]
  },
  {
   "cell_type": "code",
   "execution_count": 2,
   "metadata": {
    "collapsed": true
   },
   "outputs": [],
   "source": [
    "from itertools import groupby\n",
    "\n",
    "# https://www.biostars.org/p/710/\n",
    "def fasta_iter(fasta_name):\n",
    "    \"\"\"\n",
    "    given a fasta file. yield tuples of header, sequence\n",
    "    \"\"\"\n",
    "    fh = open(fasta_name)\n",
    "    # ditch the boolean (x[0]) and just keep the header or sequence since\n",
    "    # we know they alternate.\n",
    "    faiter = (x[1] for x in groupby(fh, lambda line: line[0] == \">\"))\n",
    "    for header in faiter:\n",
    "        # drop the \">\"\n",
    "        header = header.next()[1:].strip()\n",
    "        # join all sequence lines to one.\n",
    "        seq = \"\".join(s.strip() for s in faiter.next())\n",
    "        yield header, seq"
   ]
  },
  {
   "cell_type": "code",
   "execution_count": 3,
   "metadata": {
    "collapsed": false
   },
   "outputs": [
    {
     "name": "stdout",
     "output_type": "stream",
     "text": [
      "Using BLAST to find the sequence for all the GIs\n",
      "BLAST Finished.\n",
      "Processing data...\n",
      "Found 9968 of the 31375 IEDB proteins in the SWISS protein database\n",
      "Done.\n"
     ]
    }
   ],
   "source": [
    "print \"Using BLAST to find the sequence for all the GIs\"\n",
    "blast = !blastdbcmd -db /workspace/blast/swiss/swissprot.00 -entry_batch data/epitope_protein/protein_ids.txt \\\n",
    "                -out data/epitope_protein/proteins.fasta\n",
    "print \"BLAST Finished.\\nProcessing data...\"\n",
    "data = []\n",
    "for (header, seq) in fasta_iter(data_dir + \"proteins.fasta\"):\n",
    "    header_fields = header.split('|')\n",
    "    assert(header_fields[0] == 'gi')\n",
    "    gi = header_fields[1]\n",
    "    data.append((gi, seq))\n",
    "\n",
    "swiss_prot_db = pd.DataFrame(data, columns=['protein_id', 'protein_sequence'])\n",
    "num_swiss_proteins = swiss_prot_db.shape[0]\n",
    "print \"Found %d of the %d IEDB proteins in the SWISS protein database\" % (num_swiss_proteins, num_iedb_proteins)\n",
    "print \"Done.\""
   ]
  },
  {
   "cell_type": "markdown",
   "metadata": {},
   "source": [
    "## Merge the IEDB epitope and SWISS protein data"
   ]
  },
  {
   "cell_type": "code",
   "execution_count": 4,
   "metadata": {
    "collapsed": false
   },
   "outputs": [],
   "source": [
    "# Merge the IEDB epitops with the SWISS protein data and drop any NaN values (proteins not in SWISSprot)\n",
    "iedb_swiss_merged = pd.merge(iedb_epitopes, swiss_prot_db, on=\"protein_id\", how=\"right\").dropna()\n",
    "# Since we're going to sort on position, convert to numeric columns\n",
    "iedb_swiss_merged[\"start\"] = pd.to_numeric(iedb_swiss_merged[\"start\"])\n",
    "iedb_swiss_merged[\"end\"] = pd.to_numeric(iedb_swiss_merged[\"end\"])"
   ]
  },
  {
   "cell_type": "code",
   "execution_count": 5,
   "metadata": {
    "collapsed": false
   },
   "outputs": [],
   "source": [
    "alignments = open(data_dir + \"epitope_protein_alignments.txt\", \"w\")\n",
    "\n",
    "for (protein_id, row_ids) in iedb_swiss_merged.groupby(\"protein_id\").groups.items():\n",
    "    \n",
    "    epitope_rows = iedb_swiss_merged.loc[row_ids]\n",
    "    # Grab the protein sequence from the first row\n",
    "    protein_sequence = epitope_rows['protein_sequence'].iloc[0]\n",
    "    alignments.write(protein_sequence + \"\\n\")\n",
    "    sorted_epitopes = epitope_rows.sort_values(by=\"start\")\n",
    "    for (i, epitope_sequence, start, end) in sorted_epitopes[[\"epitope_sequence\", \"start\", \"end\"]].itertuples():\n",
    "        alignments.write(' ' * (int(start)-1))\n",
    "        alignments.write(epitope_sequence + \"\\n\")\n",
    "\n",
    "alignments.close()\n",
    "        "
   ]
  }
 ],
 "metadata": {
  "anaconda-cloud": {},
  "kernelspec": {
   "display_name": "Python [conda root]",
   "language": "python",
   "name": "conda-root-py"
  },
  "language_info": {
   "codemirror_mode": {
    "name": "ipython",
    "version": 2
   },
   "file_extension": ".py",
   "mimetype": "text/x-python",
   "name": "python",
   "nbconvert_exporter": "python",
   "pygments_lexer": "ipython2",
   "version": "2.7.12"
  }
 },
 "nbformat": 4,
 "nbformat_minor": 1
}
