{
 "cells": [
  {
   "cell_type": "code",
   "execution_count": 1,
   "metadata": {
    "collapsed": false
   },
   "outputs": [
    {
     "name": "stdout",
     "output_type": "stream",
     "text": [
      "0.19.1\n"
     ]
    }
   ],
   "source": [
    "import numpy as np\n",
    "import pandas as pd\n",
    "print pd.__version__"
   ]
  },
  {
   "cell_type": "code",
   "execution_count": 38,
   "metadata": {
    "collapsed": false
   },
   "outputs": [
    {
     "name": "stdout",
     "output_type": "stream",
     "text": [
      "Input -- Bacterial: 3468, Fungal: 39, Parasitic: 3431, Viral: 7937\n",
      "11127 training and 3709 test samples\n"
     ]
    }
   ],
   "source": [
    "from sklearn.model_selection import train_test_split\n",
    "\n",
    "data_dir = \"data/pdaid/\"\n",
    "disease_groups = [\"bacterial\", \"parasitic\", \"viral\", \"fungal\"]\n",
    "\n",
    "def data_cleanup(group, group_name):\n",
    "    group[\"disease\"] = group_name\n",
    "    group['disease_id'] = disease_groups.index(group_name)\n",
    "    group.columns = [\n",
    "        'type', 'epitope_sequence', 'start', 'end', 'chebi', 'syn', 'protein',\n",
    "        'protein_id', 'organism', 'oid', 'comments', 'disease', 'disease_id'\n",
    "    ]\n",
    "    # Remove entries with '+' notation (note: looking into this, e.g. \"PLNISLGDVVLY + DEAM(N3)\")\n",
    "    group = group[group.epitope_sequence.str.find('+') == -1]\n",
    "    group = group[[\"epitope_sequence\", \"disease\", \"disease_id\"]]\n",
    "    #group = group[group.epitope_sequence.str.find(\"Z\") == -1]\n",
    "    group = group[group.duplicated(subset=[\"epitope_sequence\"], keep=False) == False]\n",
    "    return group\n",
    "\n",
    "bacterial = data_cleanup(pd.DataFrame.from_csv(data_dir + \"bacterial.csv\"), \"bacterial\")\n",
    "fungal = data_cleanup(pd.DataFrame.from_csv(data_dir + \"fungal.csv\"), \"fungal\")\n",
    "parasitic = data_cleanup(pd.DataFrame.from_csv(data_dir + \"parasitic.csv\"), \"parasitic\")\n",
    "viral = data_cleanup(pd.DataFrame.from_csv(data_dir + \"viral.csv\"), \"viral\")\n",
    "  \n",
    "print \"Input -- Bacterial: %d, Fungal: %d, Parasitic: %d, Viral: %d\" % \\\n",
    "    (bacterial.shape[0], fungal.shape[0], parasitic.shape[0], viral.shape[0])\n",
    "\n",
    "# Consider putting fungal back in?\n",
    "all_samples = bacterial\\\n",
    "    .append(parasitic, ignore_index=True)\\\n",
    "    .append(viral, ignore_index= True)\n",
    "\n",
    "train, test = train_test_split(all_samples, test_size = 0.25)\n",
    "\n",
    "print \"%d training and %d test samples\" % (train.shape[0], test.shape[0])"
   ]
  },
  {
   "cell_type": "code",
   "execution_count": 54,
   "metadata": {
    "collapsed": false
   },
   "outputs": [
    {
     "name": "stdout",
     "output_type": "stream",
     "text": [
      "             precision    recall  f1-score   support\n",
      "\n",
      "  bacterial       0.80      0.80      0.80       859\n",
      "  parasitic       0.95      0.86      0.90       848\n",
      "      viral       0.89      0.92      0.91      2002\n",
      "\n",
      "avg / total       0.88      0.88      0.88      3709\n",
      "\n",
      "                                   ACTUAL\n",
      "                             bact  paras  viral\n",
      "predicted        bacterial    687     20    152\n",
      "predicted        parasitic     40    729     79\n",
      "predicted            viral    136     18   1848\n"
     ]
    }
   ],
   "source": [
    "from sklearn.feature_extraction.text import CountVectorizer, TfidfTransformer\n",
    "from sklearn.naive_bayes import MultinomialNB\n",
    "import pandas as pd\n",
    "from sklearn.metrics import classification_report, confusion_matrix\n",
    "from sklearn.pipeline import Pipeline\n",
    "from sklearn.linear_model import SGDClassifier\n",
    "from sklearn.model_selection import GridSearchCV\n",
    "\n",
    "#parameters = {'vect__ngram_range': [(1,2), (1,3), (1,9), (1,12)],\n",
    "#              'tfidf__use_idf': (True, False),\n",
    "#              'tfidf__smooth_idf': (True, False),\n",
    "#              'tfidf__sublinear_tf': (True, False),\n",
    "#              'tfidf__norm': (\"l1\", \"l2\", None),\n",
    "#              'clf__alpha': (1e-1, 1e-2),\n",
    "#              'clf__fit_prior': (True, False)}\n",
    "\n",
    "clf = Pipeline([('vect', CountVectorizer(analyzer='char', lowercase=True, ngram_range=(1, 9))),\n",
    "                ('tfidf', TfidfTransformer(norm=None, smooth_idf=True, sublinear_tf=False, use_idf=False)),\n",
    "                ('clf', MultinomialNB(alpha=0.01, fit_prior=True))\n",
    "])\n",
    "\n",
    "#gs_clf = GridSearchCV(clf, parameters, n_jobs=-1)\n",
    "\n",
    "clf.fit(train.epitope_sequence, train.disease_id)\n",
    "predicted = clf.predict(test.epitope_sequence)\n",
    "\n",
    "print classification_report(test.disease_id, predicted, target_names=disease_groups)\n",
    "\n",
    "cm = confusion_matrix(test.disease_id, predicted)\n",
    "print \"                                   ACTUAL\"\n",
    "print \"                             bact  paras  viral\"\n",
    "for (row, line) in enumerate(cm):\n",
    "    print \"predicted %16s %s\" % (disease_groups[row], \" \".join([\"%6s\" % (i) for i in line]))"
   ]
  },
  {
   "cell_type": "code",
   "execution_count": 55,
   "metadata": {
    "collapsed": false
   },
   "outputs": [],
   "source": [
    "#print gs_clf.best_score_\n",
    "#for param_name in sorted(parameters.keys()):\n",
    "#     print(\"%s: %r\" % (param_name, gs_clf.best_params_[param_name]))"
   ]
  }
 ],
 "metadata": {
  "anaconda-cloud": {},
  "kernelspec": {
   "display_name": "Python [conda root]",
   "language": "python",
   "name": "conda-root-py"
  },
  "language_info": {
   "codemirror_mode": {
    "name": "ipython",
    "version": 2
   },
   "file_extension": ".py",
   "mimetype": "text/x-python",
   "name": "python",
   "nbconvert_exporter": "python",
   "pygments_lexer": "ipython2",
   "version": "2.7.12"
  }
 },
 "nbformat": 4,
 "nbformat_minor": 1
}
