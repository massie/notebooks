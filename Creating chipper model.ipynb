{
 "cells": [
  {
   "cell_type": "code",
   "execution_count": 1,
   "metadata": {
    "collapsed": true
   },
   "outputs": [],
   "source": [
    "import pandas as pd\n",
    "import numpy as np"
   ]
  },
  {
   "cell_type": "code",
   "execution_count": 2,
   "metadata": {
    "collapsed": false
   },
   "outputs": [],
   "source": [
    "raw_training_data = pd.DataFrame.from_csv(\"/workspace/notebooks_data/training_set.csv\")"
   ]
  },
  {
   "cell_type": "code",
   "execution_count": 3,
   "metadata": {
    "collapsed": false
   },
   "outputs": [],
   "source": [
    "# Read and return the Saxon test set \n",
    "def fetch_testing_data():\n",
    "    df = pd.DataFrame.from_csv(\"data/proteasomal_cleavage/s6_in_vivo_mhc_1_ligands_dataset.csv\")\n",
    "    df = df[[\"Sequences\", \"Activity\"]]\n",
    "    df.columns = [\"sequence\", \"is_cleaved\"]\n",
    "    df.is_cleaved[df.is_cleaved == -1] = 0\n",
    "    return df\n",
    "\n",
    "raw_testing_data = fetch_testing_data()"
   ]
  },
  {
   "cell_type": "code",
   "execution_count": 4,
   "metadata": {
    "collapsed": false
   },
   "outputs": [
    {
     "name": "stdout",
     "output_type": "stream",
     "text": [
      "There are 49138 sample before removing the Saxova sequences.\n",
      "There are 49116 sample after filtering out Saxova.\n"
     ]
    }
   ],
   "source": [
    "from aa_props import seq_to_aa_props\n",
    "from sklearn.preprocessing import MinMaxScaler\n",
    "\n",
    "# We need to remove the Saxova samples from our training set\n",
    "print \"There are %d sample before removing the Saxova sequences.\" % (\n",
    "    raw_training_data.shape[0])\n",
    "raw_training_data = raw_training_data[raw_training_data.sequence.isin(\n",
    "    raw_testing_data.sequence) == False]\n",
    "print \"There are %d sample after filtering out Saxova.\" % (\n",
    "    raw_training_data.shape[0])\n",
    "\n",
    "# Filter to check for selenocysteine (TODO) and an invalid \"'\"\n",
    "seq_filter = lambda seq: seq.find(\"U\") == -1 and seq.find(\"'\") == -1\n",
    "# Filter AA seqs and expand to AA features\n",
    "training_X_y = [(seq_to_aa_props(seq), is_cleaved)\n",
    "             for (i, seq, is_cleaved) in raw_training_data.itertuples()\n",
    "             if seq_filter(seq)]\n",
    "\n",
    "# Scale the data\n",
    "scaler = MinMaxScaler()\n",
    "\n",
    "training_X = pd.DataFrame(scaler.fit_transform([x for (x, y) in training_X_y]))\n",
    "training_y = pd.DataFrame([y for (x, y) in training_X_y])\n",
    "\n",
    "# We have 50 attributes for each AA. Get the scaling for each.\n",
    "training_data_scale = scaler.scale_[0:50]"
   ]
  },
  {
   "cell_type": "code",
   "execution_count": 5,
   "metadata": {
    "collapsed": false
   },
   "outputs": [],
   "source": [
    "data_dir = \"/workspace/notebooks_data/\"\n",
    "train_file = data_dir + \"training_data.ll\"\n",
    "\n",
    "with open(train_file, 'w') as out:\n",
    "    for (x, y) in zip(training_X.itertuples(), training_y.itertuples()):\n",
    "        out.write(\"%s1 \" % ('+' if y._1 == 1 else '-'))\n",
    "        for (i, score) in enumerate(x):\n",
    "            out.write(\"%d:%s \" % (i + 1, score))\n",
    "        out.write(\"\\n\")"
   ]
  },
  {
   "cell_type": "code",
   "execution_count": 6,
   "metadata": {
    "collapsed": false
   },
   "outputs": [
    {
     "name": "stdout",
     "output_type": "stream",
     "text": [
      "Doing parameter search with 5-fold cross validation.\n",
      "log2c= -47.00\trate=49.4757\n",
      "log2c= -46.00\trate=49.4757\n",
      "log2c= -45.00\trate=49.4757\n",
      "log2c= -44.00\trate=49.4757\n",
      "log2c= -43.00\trate=49.4757\n",
      "log2c= -42.00\trate=49.4757\n",
      "log2c= -41.00\trate=49.4757\n",
      "log2c= -40.00\trate=49.4757\n",
      "log2c= -39.00\trate=49.4777\n",
      "log2c= -38.00\trate=49.4777\n",
      "log2c= -37.00\trate=49.4798\n",
      "log2c= -36.00\trate=49.4798\n",
      "log2c= -35.00\trate=49.4798\n",
      "log2c= -34.00\trate=49.4859\n",
      "log2c= -33.00\trate=49.492\n",
      "log2c= -32.00\trate=49.5022\n",
      "log2c= -31.00\trate=49.5225\n",
      "log2c= -30.00\trate=49.5571\n",
      "log2c= -29.00\trate=49.6386\n",
      "log2c= -28.00\trate=49.7567\n",
      "log2c= -27.00\trate=50.1191\n",
      "log2c= -26.00\trate=50.5854\n",
      "log2c= -25.00\trate=51.9883\n",
      "log2c= -24.00\trate=54.1975\n",
      "log2c= -23.00\trate=59.1188\n",
      "log2c= -22.00\trate=63.979\n",
      "log2c= -21.00\trate=74.0089\n",
      "log2c= -20.00\trate=75.2428\n",
      "log2c= -19.00\trate=77.0855\n",
      "log2c= -18.00\trate=77.3359\n",
      "log2c= -17.00\trate=80.7912\n",
      "log2c= -16.00\trate=80.8299\n",
      "log2c= -15.00\trate=81.06\n",
      "log2c= -14.00\trate=81.2066\n",
      "log2c= -13.00\trate=81.4672\n",
      "log2c= -12.00\trate=81.9254\n",
      "log2c= -11.00\trate=81.9254\n",
      "log2c= -10.00\trate=82.1188\n",
      "log2c=  -9.00\trate=82.1188\n",
      "log2c=  -8.00\trate=82.2735\n",
      "log2c=  -7.00\trate=82.2735\n",
      "log2c=  -6.00\trate=82.2735\n",
      "log2c=  -5.00\trate=82.2735\n",
      "Best C = 0.00390625  CV accuracy = 82.2735%\n"
     ]
    }
   ],
   "source": [
    "findC = !train -C -s 0 $train_file\n",
    "print \"\\n\".join(findC)"
   ]
  },
  {
   "cell_type": "code",
   "execution_count": 8,
   "metadata": {
    "collapsed": false
   },
   "outputs": [
    {
     "name": "stdout",
     "output_type": "stream",
     "text": [
      "Using C=0.00390625 to create the model\n",
      "iter  1 act 5.717e+01 pre 5.046e+01 delta 1.834e+00 f 1.330e+02 |g| 1.141e+02 CG   7\n",
      "iter  2 act 1.209e-02 pre 1.209e-02 delta 1.834e+00 f 7.581e+01 |g| 2.550e+04 CG   1\n",
      "iter  3 act 1.018e+01 pre 8.770e+00 delta 1.834e+00 f 7.580e+01 |g| 2.406e+01 CG  11\n",
      "iter  4 act 4.721e-05 pre 4.721e-05 delta 1.834e+00 f 6.562e+01 |g| 1.394e+03 CG   1\n",
      "iter  5 act 1.151e+00 pre 1.072e+00 delta 1.834e+00 f 6.562e+01 |g| 5.582e+00 CG  16\n",
      "iter  6 act 3.102e-05 pre 3.102e-05 delta 1.834e+00 f 6.447e+01 |g| 1.063e+03 CG   1\n",
      "iter  7 act 2.671e-02 pre 2.636e-02 delta 1.834e+00 f 6.447e+01 |g| 8.769e-01 CG  16\n",
      "iter  8 act 5.240e-08 pre 5.240e-08 delta 1.834e+00 f 6.445e+01 |g| 4.333e+01 CG   1\n"
     ]
    }
   ],
   "source": [
    "bestC = findC[-1].split(\" \")[3]\n",
    "print \"Using C=%s to create the model\" % (bestC)\n",
    "createModel = !train -c $bestC -s 0 $train_file\n",
    "print \"\\n\".join(createModel)"
   ]
  },
  {
   "cell_type": "markdown",
   "metadata": {},
   "source": [
    "TODO: use trainging_data_scale to generate C matrix for AA features"
   ]
  }
 ],
 "metadata": {
  "anaconda-cloud": {},
  "kernelspec": {
   "display_name": "Python [conda root]",
   "language": "python",
   "name": "conda-root-py"
  },
  "language_info": {
   "codemirror_mode": {
    "name": "ipython",
    "version": 2
   },
   "file_extension": ".py",
   "mimetype": "text/x-python",
   "name": "python",
   "nbconvert_exporter": "python",
   "pygments_lexer": "ipython2",
   "version": "2.7.12"
  }
 },
 "nbformat": 4,
 "nbformat_minor": 1
}
